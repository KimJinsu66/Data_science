{
 "cells": [
  {
   "cell_type": "code",
   "execution_count": 29,
   "metadata": {},
   "outputs": [
    {
     "name": "stdout",
     "output_type": "stream",
     "text": [
      "에이치엘비\n",
      "넥스트사이언스\n",
      "신라젠\n",
      "화천기계\n",
      "삼성전자\n",
      "에이치엘비생명과학\n",
      "메지온\n",
      "현대바이오\n",
      "셀트리온\n",
      "SK하이닉스\n",
      "NAVER\n",
      "삼성전기\n",
      "세미콘라이트\n",
      "아시아나항공\n",
      "와이지엔터테인먼트\n",
      "한진칼\n",
      "비덴트\n",
      "샘코\n",
      "국일제지\n",
      "동아화성\n",
      "카카오\n",
      "웅진씽크빅\n",
      "웅진코웨이\n",
      "네이처셀\n",
      "압타바이오\n",
      "넷마블\n",
      "LG전자\n",
      "다날\n",
      "웅진\n",
      "유니크\n"
     ]
    }
   ],
   "source": [
    "import requests\n",
    "from bs4 import BeautifulSoup\n",
    "\n",
    "raw = requests.get(\"https://finance.naver.com/sise/lastsearch2.nhn\",\n",
    "                   headers = {'User-Agent':'Mozilla/5.0'}).text\n",
    "html = BeautifulSoup(raw,'html.parser')\n",
    "#print(html)\n",
    "articles = html.select('tr > td > a.tltle')\n",
    "#print(articles)\n",
    "x = open('text.txt','a')\n",
    "\n",
    "for article in articles:\n",
    "    x.write(article.text + \"\\n\")\n",
    "    \n",
    "    print(article.text)\n",
    "\n",
    "x.close()"
   ]
  },
  {
   "cell_type": "code",
   "execution_count": 31,
   "metadata": {},
   "outputs": [],
   "source": [
    "import openpyxl\n",
    "# excel 생성\n",
    "wb = openpyxl.Workbook()\n",
    "wb.save('test.xlsx')"
   ]
  },
  {
   "cell_type": "code",
   "execution_count": 36,
   "metadata": {},
   "outputs": [],
   "source": [
    "import openpyxl\n",
    "#활성화된 시트 불러오기\n",
    "wb = openpyxl.Workbook()\n",
    "sheet = wb.active\n",
    "sheet2 =wb.create_sheet('두번째 시트')# 새시트 만들기\n"
   ]
  },
  {
   "cell_type": "code",
   "execution_count": 35,
   "metadata": {},
   "outputs": [],
   "source": [
    "sheet2 = wb['두번째 시트']"
   ]
  },
  {
   "cell_type": "code",
   "execution_count": 38,
   "metadata": {},
   "outputs": [],
   "source": [
    "import openpyxl\n",
    "#활성화된 시트 불러오기\n",
    "wb = openpyxl.Workbook()\n",
    "sheet = wb.active\n",
    "\n",
    "sheet['B2'] = 'b2'\n",
    "sheet.cell(row = 3 , column =3).value = '3,3'\n",
    "sheet.append([1,2,3,4,5])\n",
    "\n",
    "wb.save('test2.xlsx')"
   ]
  },
  {
   "cell_type": "code",
   "execution_count": null,
   "metadata": {},
   "outputs": [],
   "source": [
    "import openpyxl\n",
    "#활성화된 시트 불러오기\n",
    "wb = openpyxl.Workbook()\n",
    "sheet = wb.active\n",
    "\n",
    "sheet['B2'] = 'b2'\n",
    "sheet.cell(row = 3 , column =3).value = '3,3'\n",
    "sheet.append([1,2,3,4,5])\n",
    "\n",
    "wb.save('test2.xlsx')"
   ]
  },
  {
   "cell_type": "code",
   "execution_count": 44,
   "metadata": {},
   "outputs": [],
   "source": [
    "import openpyxl\n",
    "#활성화된 시트 불러오기\n",
    "wb = openpyxl.Workbook()\n",
    "sheet = wb.active\n",
    "\n",
    "sheet.cell(row = 1 , column =1).value = 'hello openpyxl!'\n",
    "sheet.append([\"월\",\"화\",\"수\",\"목\",\"금\",\"토\",\"일\"])\n",
    "sheet.append([\"hi\"])\n",
    "wb.save('openpyxl.xlsx')"
   ]
  }
 ],
 "metadata": {
  "kernelspec": {
   "display_name": "Python 3",
   "language": "python",
   "name": "python3"
  },
  "language_info": {
   "codemirror_mode": {
    "name": "ipython",
    "version": 3
   },
   "file_extension": ".py",
   "mimetype": "text/x-python",
   "name": "python",
   "nbconvert_exporter": "python",
   "pygments_lexer": "ipython3",
   "version": "3.7.3"
  }
 },
 "nbformat": 4,
 "nbformat_minor": 2
}
