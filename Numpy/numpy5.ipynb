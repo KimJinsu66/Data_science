{
 "cells": [
  {
   "cell_type": "code",
   "execution_count": 1,
   "metadata": {},
   "outputs": [
    {
     "data": {
      "text/plain": [
       "'\\nArray boolean 인덱싱(마스크)\\n- 마스크 처럼 우리가 가리고 싶은 부분은 가리고 원하는 요소만\\n  꺼낼 수 있다.\\n'"
      ]
     },
     "execution_count": 1,
     "metadata": {},
     "output_type": "execute_result"
    }
   ],
   "source": [
    "#2019.08.20 numpy 5\n",
    "\"\"\"\n",
    "Array boolean 인덱싱(마스크)\n",
    "- 마스크 처럼 우리가 가리고 싶은 부분은 가리고 원하는 요소만\n",
    "  꺼낼 수 있다.\n",
    "\"\"\""
   ]
  },
  {
   "cell_type": "code",
   "execution_count": 4,
   "metadata": {},
   "outputs": [
    {
     "data": {
      "text/plain": [
       "array(['Beomwoo', 'Beomwoo', 'Kim', 'Joan', 'Lee', 'Beomwoo', 'Park',\n",
       "       'Beomwoo'], dtype='<U7')"
      ]
     },
     "execution_count": 4,
     "metadata": {},
     "output_type": "execute_result"
    }
   ],
   "source": [
    "import numpy as np\n",
    "names = np.array(['Beomwoo','Beomwoo','Kim','Joan','Lee','Beomwoo',\n",
    "                  'Park','Beomwoo'])\n",
    "names"
   ]
  },
  {
   "cell_type": "code",
   "execution_count": 6,
   "metadata": {},
   "outputs": [
    {
     "data": {
      "text/plain": [
       "array([[ 1.97476954,  0.01474662, -2.0286695 ,  0.53577018],\n",
       "       [ 0.27785083,  0.53776175,  0.02538565, -0.5574458 ],\n",
       "       [ 1.40260254, -0.52823891, -0.35677709, -1.12110786],\n",
       "       [ 0.70442802, -0.51023603,  0.35316765, -0.35713105],\n",
       "       [ 0.37635521, -1.63465755,  0.55019411,  0.63935227],\n",
       "       [-0.32331132, -0.21585256, -0.69276579,  1.56599769],\n",
       "       [ 1.30828549,  2.22203802,  0.36134677,  0.21718305],\n",
       "       [ 0.95777665,  0.35775226, -0.47874909, -0.58393314]])"
      ]
     },
     "execution_count": 6,
     "metadata": {},
     "output_type": "execute_result"
    }
   ],
   "source": [
    "# random한수 사용 기대값이 0이다 표준편차가 1인 가우시안 정규 분포\n",
    "data = np.random.randn(8,4)\n",
    "data\n"
   ]
  },
  {
   "cell_type": "code",
   "execution_count": 11,
   "metadata": {},
   "outputs": [
    {
     "data": {
      "text/plain": [
       "array([ True,  True, False, False, False,  True, False,  True])"
      ]
     },
     "execution_count": 11,
     "metadata": {},
     "output_type": "execute_result"
    }
   ],
   "source": [
    "names_Beomwoo_mask = (names == 'Beomwoo')\n",
    "names_Beomwoo_mask "
   ]
  },
  {
   "cell_type": "code",
   "execution_count": 12,
   "metadata": {},
   "outputs": [
    {
     "data": {
      "text/plain": [
       "array([[ 1.97476954,  0.01474662, -2.0286695 ,  0.53577018],\n",
       "       [ 0.27785083,  0.53776175,  0.02538565, -0.5574458 ],\n",
       "       [-0.32331132, -0.21585256, -0.69276579,  1.56599769],\n",
       "       [ 0.95777665,  0.35775226, -0.47874909, -0.58393314]])"
      ]
     },
     "execution_count": 12,
     "metadata": {},
     "output_type": "execute_result"
    }
   ],
   "source": [
    "#위에 범우에 True가 1이 되고 False가 0이된다.\n",
    "#그러므로 data의 0,1,5,7행을 꺼내온다\n",
    "data[names_Beomwoo_mask, :]"
   ]
  },
  {
   "cell_type": "code",
   "execution_count": 14,
   "metadata": {},
   "outputs": [
    {
     "data": {
      "text/plain": [
       "array([[ 1.40260254, -0.52823891, -0.35677709, -1.12110786],\n",
       "       [ 1.30828549,  2.22203802,  0.36134677,  0.21718305]])"
      ]
     },
     "execution_count": 14,
     "metadata": {},
     "output_type": "execute_result"
    }
   ],
   "source": [
    "#이런식으로 조건식도 가능하다\n",
    "data[(names == \"Kim\") | (names == 'Park'), : ]"
   ]
  },
  {
   "cell_type": "code",
   "execution_count": 15,
   "metadata": {},
   "outputs": [
    {
     "data": {
      "text/plain": [
       "array([[-0.69276579,  1.56599769]])"
      ]
     },
     "execution_count": 15,
     "metadata": {},
     "output_type": "execute_result"
    }
   ],
   "source": [
    "# 0번째 열의 값이 0보다 작은 행의 2,3번째 열 값\n",
    "data[data[:,0]< 0,2:4]"
   ]
  },
  {
   "cell_type": "code",
   "execution_count": null,
   "metadata": {},
   "outputs": [],
   "source": []
  }
 ],
 "metadata": {
  "kernelspec": {
   "display_name": "Python 3",
   "language": "python",
   "name": "python3"
  },
  "language_info": {
   "codemirror_mode": {
    "name": "ipython",
    "version": 3
   },
   "file_extension": ".py",
   "mimetype": "text/x-python",
   "name": "python",
   "nbconvert_exporter": "python",
   "pygments_lexer": "ipython3",
   "version": "3.7.3"
  }
 },
 "nbformat": 4,
 "nbformat_minor": 4
}
