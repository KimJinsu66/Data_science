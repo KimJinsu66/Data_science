{
 "cells": [
  {
   "cell_type": "code",
   "execution_count": 1,
   "metadata": {},
   "outputs": [
    {
     "data": {
      "text/plain": [
       "'\\nnumpy에서 array에 적용되는 함수\\n\\n'"
      ]
     },
     "execution_count": 1,
     "metadata": {},
     "output_type": "execute_result"
    }
   ],
   "source": [
    "# 2019.08.21 Numpy함수\n",
    "\"\"\"\n",
    "numpy에서 array에 적용되는 함수\n",
    "\n",
    "\"\"\""
   ]
  },
  {
   "cell_type": "code",
   "execution_count": 2,
   "metadata": {},
   "outputs": [
    {
     "data": {
      "text/plain": [
       "array([[-0.89852153,  1.82705613, -1.63705927],\n",
       "       [-0.20093414,  0.72400403,  0.86660557],\n",
       "       [ 1.50995425,  0.07737845, -0.70793847],\n",
       "       [ 1.27681505, -0.96864178,  0.79014157],\n",
       "       [-1.10214485, -0.61598407,  0.48741271]])"
      ]
     },
     "execution_count": 2,
     "metadata": {},
     "output_type": "execute_result"
    }
   ],
   "source": [
    "import numpy as np\n",
    "\n",
    "arr1 = np.random.randn(5,3)\n",
    "arr1"
   ]
  },
  {
   "cell_type": "code",
   "execution_count": 3,
   "metadata": {},
   "outputs": [
    {
     "data": {
      "text/plain": [
       "array([[0.89852153, 1.82705613, 1.63705927],\n",
       "       [0.20093414, 0.72400403, 0.86660557],\n",
       "       [1.50995425, 0.07737845, 0.70793847],\n",
       "       [1.27681505, 0.96864178, 0.79014157],\n",
       "       [1.10214485, 0.61598407, 0.48741271]])"
      ]
     },
     "execution_count": 3,
     "metadata": {},
     "output_type": "execute_result"
    }
   ],
   "source": [
    "# abs(절대값) 각 성분의 절대값 계산하기\n",
    "np.abs(arr1)"
   ]
  },
  {
   "cell_type": "code",
   "execution_count": 5,
   "metadata": {},
   "outputs": [
    {
     "name": "stderr",
     "output_type": "stream",
     "text": [
      "C:\\Users\\TEMP.LAPTOP-O3QKMG8C.000\\Anaconda3\\lib\\site-packages\\ipykernel_launcher.py:2: RuntimeWarning: invalid value encountered in sqrt\n",
      "  \n"
     ]
    },
    {
     "data": {
      "text/plain": [
       "array([[       nan, 1.3516864 ,        nan],\n",
       "       [       nan, 0.85088426, 0.93091652],\n",
       "       [1.22880196, 0.27816982,        nan],\n",
       "       [1.12996241,        nan, 0.88889908],\n",
       "       [       nan,        nan, 0.69814949]])"
      ]
     },
     "execution_count": 5,
     "metadata": {},
     "output_type": "execute_result"
    }
   ],
   "source": [
    "# 각 성분의 제곱근 계산하기( == array ** 0.5)\n",
    "np.sqrt(arr1)"
   ]
  },
  {
   "cell_type": "code",
   "execution_count": 6,
   "metadata": {},
   "outputs": [
    {
     "data": {
      "text/plain": [
       "array([[0.80734095, 3.3381341 , 2.67996304],\n",
       "       [0.04037453, 0.52418184, 0.75100522],\n",
       "       [2.27996185, 0.00598742, 0.50117688],\n",
       "       [1.63025667, 0.93826689, 0.6243237 ],\n",
       "       [1.21472327, 0.37943637, 0.23757115]])"
      ]
     },
     "execution_count": 6,
     "metadata": {},
     "output_type": "execute_result"
    }
   ],
   "source": [
    "# 각 성분의 제곱 계산하기(제곱 2 )\n",
    "np.square(arr1)"
   ]
  },
  {
   "cell_type": "code",
   "execution_count": 14,
   "metadata": {},
   "outputs": [
    {
     "name": "stdout",
     "output_type": "stream",
     "text": [
      "무리수 e의 지수로 삼은 값 계산 >>\n",
      "[[0.4071712  6.21556189 0.19455133]\n",
      " [0.8179663  2.06267571 2.37882239]\n",
      " [4.52652372 1.0804509  0.49265878]\n",
      " [3.58520283 0.37959827 2.20370839]\n",
      " [0.33215789 0.54010913 1.6280984 ]]\n",
      "ㅡㅡㅡㅡㅡㅡㅡㅡㅡㅡㅡㅡㅡㅡㅡㅡㅡ\n",
      "자연로그, 상용로그, 밑이 2인 로그를 씌운 값을 계산 >>\n",
      "[[        nan  0.602706           nan]\n",
      " [        nan -0.32295832 -0.14317134]\n",
      " [ 0.41207935 -2.55904696         nan]\n",
      " [ 0.24436873         nan -0.23554315]\n",
      " [        nan         nan -0.71864407]]\n",
      "[[ 0.          0.602706    0.        ]\n",
      " [ 0.         -0.32295832 -0.14317134]\n",
      " [ 0.41207935 -2.55904696  0.        ]\n",
      " [ 0.24436873  0.         -0.23554315]\n",
      " [ 0.          0.         -0.71864407]]\n",
      "ㅡㅡㅡㅡㅡㅡㅡㅡㅡㅡㅡㅡㅡㅡㅡㅡㅡ\n"
     ]
    },
    {
     "name": "stderr",
     "output_type": "stream",
     "text": [
      "C:\\Users\\TEMP.LAPTOP-O3QKMG8C.000\\Anaconda3\\lib\\site-packages\\ipykernel_launcher.py:7: RuntimeWarning: invalid value encountered in log\n",
      "  import sys\n"
     ]
    }
   ],
   "source": [
    "# 각 성분을 무리수  e의 지수로 삼은 값을 계산하기\n",
    "print(\"무리수 e의 지수로 삼은 값 계산 >>\")\n",
    "print(np.exp(arr1))\n",
    "print(\"ㅡㅡㅡㅡㅡㅡㅡㅡㅡㅡㅡㅡㅡㅡㅡㅡㅡ\")\n",
    "# 각 성분을 자연로그, 상용로그, 밑이 2인 로그를 씌운 값을 계산\n",
    "print(\"자연로그, 상용로그, 밑이 2인 로그를 씌운 값을 계산 >>\")\n",
    "np_log = np.log(arr1)\n",
    "print(np_log)\n",
    "np.nan_to_num(np_log,copy=False) #None 값을 0으로 바꿔준다"
   ]
  },
  {
   "cell_type": "code",
   "execution_count": 16,
   "metadata": {},
   "outputs": [
    {
     "name": "stdout",
     "output_type": "stream",
     "text": [
      "[[        nan  0.86952096         nan]\n",
      " [        nan -0.46593037 -0.20655258]\n",
      " [ 0.59450484 -3.69192436         nan]\n",
      " [ 0.35254956         nan -0.33981693]\n",
      " [        nan         nan -1.03678423]]\n",
      "[[        nan  0.26175189         nan]\n",
      " [        nan -0.14025902 -0.06217852]\n",
      " [ 0.17896379 -1.11137997         nan]\n",
      " [ 0.10612799         nan -0.10229509]\n",
      " [        nan         nan -0.31210315]]\n"
     ]
    },
    {
     "name": "stderr",
     "output_type": "stream",
     "text": [
      "C:\\Users\\TEMP.LAPTOP-O3QKMG8C.000\\Anaconda3\\lib\\site-packages\\ipykernel_launcher.py:1: RuntimeWarning: invalid value encountered in log2\n",
      "  \"\"\"Entry point for launching an IPython kernel.\n",
      "C:\\Users\\TEMP.LAPTOP-O3QKMG8C.000\\Anaconda3\\lib\\site-packages\\ipykernel_launcher.py:2: RuntimeWarning: invalid value encountered in log10\n",
      "  \n"
     ]
    }
   ],
   "source": [
    "print(np.log2(arr1))# log2\n",
    "print(np.log10(arr1))#Log10"
   ]
  },
  {
   "cell_type": "code",
   "execution_count": 23,
   "metadata": {},
   "outputs": [
    {
     "name": "stdout",
     "output_type": "stream",
     "text": [
      "[[-1.  1. -1.]\n",
      " [-1.  1.  1.]\n",
      " [ 1.  1. -1.]\n",
      " [ 1. -1.  1.]\n",
      " [-1. -1.  1.]]\n",
      "\n",
      " ㅡㅡㅡㅡㅡㅡㅡㅡㅡㅡ \n",
      "\n",
      "[[-0.  2. -1.]\n",
      " [-0.  1.  1.]\n",
      " [ 2.  1. -0.]\n",
      " [ 2. -0.  1.]\n",
      " [-1. -0.  1.]]\n"
     ]
    }
   ],
   "source": [
    "#각 성분의 부호 계산 (+인경우 1 -1인 경우 -1 0인경우 0)\n",
    "# 퍼셉트론의 sign기호 사용\n",
    "print(np.sign(arr1))\n",
    "print(\"\\n\",\"ㅡㅡㅡㅡㅡㅡㅡㅡㅡㅡ\",\"\\n\")\n",
    "#각 성분의 소수 첫번째 자리에서 올림한 값을 계산\n",
    "print(np.ceil(arr1))\n"
   ]
  },
  {
   "cell_type": "code",
   "execution_count": 28,
   "metadata": {},
   "outputs": [
    {
     "name": "stdout",
     "output_type": "stream",
     "text": [
      "[[-1.  1. -2.]\n",
      " [-1.  0.  0.]\n",
      " [ 1.  0. -1.]\n",
      " [ 1. -1.  0.]\n",
      " [-2. -1.  0.]]\n",
      "\n",
      "ㅡㅡㅡㅡㅡㅡㅡㅡㅡㅡ\n",
      "\n",
      "[[False False False]\n",
      " [False False False]\n",
      " [False False False]\n",
      " [False False False]\n",
      " [False False False]]\n",
      "\n",
      "ㅡㅡㅡㅡㅡㅡㅡㅡㅡㅡ\n",
      "\n",
      "[[False False False]\n",
      " [False False False]\n",
      " [False False False]\n",
      " [False False False]\n",
      " [False False False]]\n"
     ]
    }
   ],
   "source": [
    "# 각 성분의 소수 첫 번째 자리에서 내림한 값을 계산\n",
    "print(np.floor(arr1))\n",
    "print(\"\\nㅡㅡㅡㅡㅡㅡㅡㅡㅡㅡ\\n\")\n",
    "#각 성분이 Nan인 경우 True를 , 아닌 경우 False를 반환하기\n",
    "print(np.isnan(arr1))\n",
    "print(\"\\nㅡㅡㅡㅡㅡㅡㅡㅡㅡㅡ\\n\")\n",
    "#각 성분이 무한대인 경우 True, 아닌 경우 False 반환\n",
    "print(np.isinf(arr1))"
   ]
  },
  {
   "cell_type": "code",
   "execution_count": 29,
   "metadata": {},
   "outputs": [
    {
     "name": "stdout",
     "output_type": "stream",
     "text": [
      "[[ 0.62276741 -0.25346427 -0.06621446]\n",
      " [ 0.97988056  0.74915951  0.64741729]\n",
      " [ 0.06080454  0.99700778  0.75970404]\n",
      " [ 0.28976498  0.56641939  0.70374474]\n",
      " [ 0.45168357  0.81620529  0.88354755]]\n",
      "\n",
      "ㅡㅡㅡㅡㅡㅡㅡㅡㅡㅡ\n",
      "\n",
      "[[-0.71557722  0.94953727 -0.92706035]\n",
      " [-0.19827291  0.61938337  0.6996454 ]\n",
      " [ 0.90693093  0.07722439 -0.60938247]\n",
      " [ 0.85563402 -0.74810682  0.65848923]\n",
      " [-0.80126813 -0.54832572  0.45216052]]\n"
     ]
    }
   ],
   "source": [
    "#각 성분에 대해 삼각함수 값을 계산(cos,cosh,sin,sinh,tan)\n",
    "print(np.cos(arr1))\n",
    "print(\"\\nㅡㅡㅡㅡㅡㅡㅡㅡㅡㅡ\\n\")\n",
    "#tanh\n",
    "print(np.tanh(arr1))\n"
   ]
  }
 ],
 "metadata": {
  "kernelspec": {
   "display_name": "Python 3",
   "language": "python",
   "name": "python3"
  },
  "language_info": {
   "codemirror_mode": {
    "name": "ipython",
    "version": 3
   },
   "file_extension": ".py",
   "mimetype": "text/x-python",
   "name": "python",
   "nbconvert_exporter": "python",
   "pygments_lexer": "ipython3",
   "version": "3.7.3"
  }
 },
 "nbformat": 4,
 "nbformat_minor": 4
}
