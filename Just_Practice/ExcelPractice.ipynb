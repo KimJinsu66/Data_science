{
 "cells": [
  {
   "cell_type": "code",
   "execution_count": 1,
   "metadata": {},
   "outputs": [
    {
     "name": "stdout",
     "output_type": "stream",
     "text": [
      "에이치엘비\n",
      "신라젠\n",
      "삼성전자\n",
      "넥스트사이언스\n",
      "화천기계\n",
      "에이치엘비생명과학\n",
      "현대바이오\n",
      "메지온\n",
      "셀트리온\n",
      "NAVER\n",
      "SK하이닉스\n",
      "삼성전기\n",
      "한진칼\n",
      "비덴트\n",
      "헬릭스미스\n",
      "한국전력\n",
      "압타바이오\n",
      "국일제지\n",
      "우리기술투자\n",
      "이마트\n",
      "카카오\n",
      "네이처셀\n",
      "삼성바이오로직스\n",
      "코오롱생명과학\n",
      "다날\n",
      "LG디스플레이\n",
      "풍국주정\n",
      "에이프로젠 KIC\n",
      "삼성SDI\n",
      "삼성전자우\n"
     ]
    }
   ],
   "source": [
    "import requests\n",
    "from bs4 import BeautifulSoup\n",
    "import openpyxl\n",
    "\n",
    "raw = requests.get(\"https://finance.naver.com/sise/lastsearch2.nhn\",\n",
    "                   headers = {'User-Agent':'Mozilla/5.0'}).text\n",
    "html = BeautifulSoup(raw,'html.parser')\n",
    "#print(html)\n",
    "articles = html.select('tr > td > a.tltle')\n",
    "#print(articles)\n",
    "x = open('text.txt','a')\n",
    "\n",
    "#활성화된 시트 불러오기\n",
    "wb = openpyxl.Workbook()\n",
    "sheet = wb.active\n",
    "row_n = 1\n",
    "for article in articles:\n",
    "    \n",
    "    sheet.cell(row = row_n , column =1).value = article.text\n",
    "    row_n +=1\n",
    "    print(article.text)\n",
    "wb.save('naver.xlsx')"
   ]
  }
 ],
 "metadata": {
  "kernelspec": {
   "display_name": "Python 3",
   "language": "python",
   "name": "python3"
  },
  "language_info": {
   "codemirror_mode": {
    "name": "ipython",
    "version": 3
   },
   "file_extension": ".py",
   "mimetype": "text/x-python",
   "name": "python",
   "nbconvert_exporter": "python",
   "pygments_lexer": "ipython3",
   "version": "3.7.3"
  }
 },
 "nbformat": 4,
 "nbformat_minor": 2
}
