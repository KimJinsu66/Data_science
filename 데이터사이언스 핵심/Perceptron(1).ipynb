{
 "cells": [
  {
   "cell_type": "code",
   "execution_count": 8,
   "metadata": {},
   "outputs": [
    {
     "name": "stdout",
     "output_type": "stream",
     "text": [
      "[1 1 1], [-1], -1\n",
      "[1 1 3], [-1], -1\n",
      "[1 2 1], [-1], -1\n",
      "[1 3 2], [-1], -1\n",
      "[1 5 3], [1], 1\n",
      "[1 6 3], [1], 1\n",
      "[1 6 5], [1], 1\n",
      "[1 7 2], [1], 1\n"
     ]
    }
   ],
   "source": [
    "import random\n",
    "import numpy as np\n",
    "\n",
    "def predict(w, x_i):\n",
    "    answer = np.tensordot(w, x_i, axes =1)\n",
    "    \n",
    "    if answer > 0:\n",
    "        answer = +1\n",
    "    elif answer < 0:\n",
    "        answer = -1\n",
    "    return answer\n",
    "\n",
    "def learn(w, x, y):\n",
    "    is_error_there = True\n",
    "    while is_error_there:\n",
    "        is_error_there = False\n",
    "        for x_i,y_i in zip(x,y):\n",
    "            answer = predict(w, x_i)\n",
    "            if answer != y_i:\n",
    "                w = np.add(w, x_i * y_i)\n",
    "                is_error_there = True\n",
    "    return w\n",
    "\n",
    "x = np.array([[1, 1], [1, 3], [2, 1], [3, 2], [5, 3], [6, 3], [6, 5], [7, 2]])\n",
    "b = np.ones((x.shape[0],1), dtype = \"int\")# bias dimension\n",
    "x = np.concatenate([b,x],axis =1) # x에 bias를 추가해준다.\n",
    "y = np.array([-1,-1,-1,-1,1,1,1,1]) # y는 결과 값 \n",
    "y = y.reshape((x.shape[0],1))\n",
    "w = np.random.random(x.shape[1])\n",
    "# y = [-1, -1, -1, -1, 1, 1, 1, 1]\n",
    "# w = [ ]\n",
    "# for i in range(0, len(x[0])+1):\n",
    "#     w_i = random.uniform(0, 1)\n",
    "#     w.append(w_i)\n",
    "\n",
    "w = learn(w, x, y)\n",
    "    \n",
    "# for i in range(0, len(x)):\n",
    "#     x_i = x[i]\n",
    "#     y_i = y[i]\n",
    "#     answer = predict(w, x_i)\n",
    "#     print(x_i, end=\", \")\n",
    "#     print(y_i, end=\", \")\n",
    "#     print(answer)\n",
    "\n",
    "for x_i,y_i in zip(x,y):\n",
    "    answer = predict(w, x_i)\n",
    "    \n",
    "    print(x_i, end=\", \")\n",
    "    print(y_i, end=\", \")\n",
    "    print(answer)"
   ]
  },
  {
   "cell_type": "code",
   "execution_count": null,
   "metadata": {},
   "outputs": [],
   "source": []
  }
 ],
 "metadata": {
  "kernelspec": {
   "display_name": "Python 3",
   "language": "python",
   "name": "python3"
  },
  "language_info": {
   "codemirror_mode": {
    "name": "ipython",
    "version": 3
   },
   "file_extension": ".py",
   "mimetype": "text/x-python",
   "name": "python",
   "nbconvert_exporter": "python",
   "pygments_lexer": "ipython3",
   "version": "3.7.3"
  }
 },
 "nbformat": 4,
 "nbformat_minor": 2
}
