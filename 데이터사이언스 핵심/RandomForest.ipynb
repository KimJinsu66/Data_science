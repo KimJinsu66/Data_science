{
 "cells": [
  {
   "cell_type": "code",
   "execution_count": 132,
   "metadata": {},
   "outputs": [
    {
     "name": "stdout",
     "output_type": "stream",
     "text": [
      "['mean radius' 'mean texture' 'mean perimeter' 'mean area'\n",
      " 'mean smoothness' 'mean compactness' 'mean concavity'\n",
      " 'mean concave points' 'mean symmetry' 'mean fractal dimension'\n",
      " 'radius error' 'texture error' 'perimeter error' 'area error'\n",
      " 'smoothness error' 'compactness error' 'concavity error'\n",
      " 'concave points error' 'symmetry error' 'fractal dimension error'\n",
      " 'worst radius' 'worst texture' 'worst perimeter' 'worst area'\n",
      " 'worst smoothness' 'worst compactness' 'worst concavity'\n",
      " 'worst concave points' 'worst symmetry' 'worst fractal dimension']\n",
      "['malignant' 'benign']\n"
     ]
    }
   ],
   "source": [
    "# load breaset cancer data\n",
    "from sklearn.datasets import load_breast_cancer\n",
    "\n",
    "cancer = load_breast_cancer()\n",
    "print(cancer.feature_names)\n",
    "print(cancer.target_names)"
   ]
  },
  {
   "cell_type": "code",
   "execution_count": 133,
   "metadata": {},
   "outputs": [],
   "source": [
    "# cancer to DataFrame\n",
    "import pandas as pd\n",
    "import numpy as np\n",
    "\n",
    "data = pd.DataFrame(np.c_[cancer[\"data\"], cancer[\"target\"]], columns = np.append(cancer['feature_names'], [\"target\"]))\n",
    "#data.head()"
   ]
  },
  {
   "cell_type": "code",
   "execution_count": 134,
   "metadata": {},
   "outputs": [],
   "source": [
    "# X: data\n",
    "x = data.drop([\"target\"], axis=1)\n",
    "#x.head()\n"
   ]
  },
  {
   "cell_type": "code",
   "execution_count": 135,
   "metadata": {},
   "outputs": [],
   "source": [
    "#Y: class\n",
    "y = data[\"target\"].astype(int)\n",
    "#y.head()"
   ]
  },
  {
   "cell_type": "code",
   "execution_count": 136,
   "metadata": {},
   "outputs": [],
   "source": [
    "from sklearn.preprocessing import StandardScaler\n",
    "sc = StandardScaler()\n",
    "\n",
    "x = sc.fit_transform(x) # x_train data scaling\n",
    "#print(x)\n",
    "#print(x_test[0])\n"
   ]
  },
  {
   "cell_type": "code",
   "execution_count": 137,
   "metadata": {},
   "outputs": [],
   "source": [
    "# Cross validation KFold 사용\n",
    "from sklearn.model_selection import KFold\n",
    "import numpy as np\n",
    "# eval_size = 0.10\n",
    "kf = KFold(n_splits = 5) # 5 Fold 사용\n",
    "\n",
    "# KFold Test data , train data 랜덤으로 나눈다.\n",
    "for train_index, test_index in kf.split(x): \n",
    "    x_train , x_test = x[train_index], x[test_index]\n",
    "    y_train, y_test = y[train_index], y[test_index]"
   ]
  },
  {
   "cell_type": "code",
   "execution_count": 138,
   "metadata": {},
   "outputs": [
    {
     "data": {
      "text/plain": [
       "RandomForestClassifier(bootstrap=True, class_weight=None, criterion='gini',\n",
       "            max_depth=None, max_features='auto', max_leaf_nodes=None,\n",
       "            min_impurity_decrease=0.0, min_impurity_split=None,\n",
       "            min_samples_leaf=1, min_samples_split=2,\n",
       "            min_weight_fraction_leaf=0.0, n_estimators=10, n_jobs=None,\n",
       "            oob_score=False, random_state=None, verbose=0,\n",
       "            warm_start=False)"
      ]
     },
     "execution_count": 138,
     "metadata": {},
     "output_type": "execute_result"
    }
   ],
   "source": [
    "from sklearn.ensemble import RandomForestClassifier\n",
    "\n",
    "clf = RandomForestClassifier(n_estimators =1) # 나무의 개수 = 1\n",
    "clf1 = RandomForestClassifier(n_estimators =5) # 나무의 개수 = 5\n",
    "clf2 = RandomForestClassifier(n_estimators =10) # 나무의 개수 = 10\n",
    "\n",
    "\n",
    "clf.fit(x_train,y_train)\n",
    "clf1.fit(x_train,y_train)\n",
    "clf2.fit(x_train,y_train)"
   ]
  },
  {
   "cell_type": "code",
   "execution_count": 139,
   "metadata": {},
   "outputs": [],
   "source": [
    "random_forest_pred = clf.predict(x_test)\n",
    "random_forest_pred1 = clf1.predict(x_test)\n",
    "random_forest_pred2 = clf2.predict(x_test)\n"
   ]
  },
  {
   "cell_type": "code",
   "execution_count": 140,
   "metadata": {},
   "outputs": [
    {
     "data": {
      "text/html": [
       "<div>\n",
       "<style scoped>\n",
       "    .dataframe tbody tr th:only-of-type {\n",
       "        vertical-align: middle;\n",
       "    }\n",
       "\n",
       "    .dataframe tbody tr th {\n",
       "        vertical-align: top;\n",
       "    }\n",
       "\n",
       "    .dataframe thead th {\n",
       "        text-align: right;\n",
       "    }\n",
       "</style>\n",
       "<table border=\"1\" class=\"dataframe\">\n",
       "  <thead>\n",
       "    <tr style=\"text-align: right;\">\n",
       "      <th>Predicted</th>\n",
       "      <th>0</th>\n",
       "      <th>1</th>\n",
       "      <th>All</th>\n",
       "    </tr>\n",
       "    <tr>\n",
       "      <th>True</th>\n",
       "      <th></th>\n",
       "      <th></th>\n",
       "      <th></th>\n",
       "    </tr>\n",
       "  </thead>\n",
       "  <tbody>\n",
       "    <tr>\n",
       "      <th>0</th>\n",
       "      <td>24</td>\n",
       "      <td>2</td>\n",
       "      <td>26</td>\n",
       "    </tr>\n",
       "    <tr>\n",
       "      <th>1</th>\n",
       "      <td>6</td>\n",
       "      <td>81</td>\n",
       "      <td>87</td>\n",
       "    </tr>\n",
       "    <tr>\n",
       "      <th>All</th>\n",
       "      <td>30</td>\n",
       "      <td>83</td>\n",
       "      <td>113</td>\n",
       "    </tr>\n",
       "  </tbody>\n",
       "</table>\n",
       "</div>"
      ],
      "text/plain": [
       "Predicted   0   1  All\n",
       "True                  \n",
       "0          24   2   26\n",
       "1           6  81   87\n",
       "All        30  83  113"
      ]
     },
     "execution_count": 140,
     "metadata": {},
     "output_type": "execute_result"
    }
   ],
   "source": [
    "# confusion matrix \n",
    "import pandas as pd\n",
    "\n",
    "pd.crosstab(y_test,random_forest_pred, rownames = ['True'],colnames = ['Predicted'],margins=True)\n",
    "\n"
   ]
  },
  {
   "cell_type": "code",
   "execution_count": 141,
   "metadata": {},
   "outputs": [
    {
     "name": "stdout",
     "output_type": "stream",
     "text": [
      "정확도 0.93\n",
      "정확도 0.97\n",
      "정확도 0.97\n"
     ]
    }
   ],
   "source": [
    "from sklearn.metrics import accuracy_score\n",
    "print(\"정확도 %.2f\" %accuracy_score(y_test,random_forest_pred)) # accuracy_score 출력\n",
    "print(\"정확도 %.2f\" %accuracy_score(y_test,random_forest_pred1)) # accuracy_score 출\n",
    "print(\"정확도 %.2f\" %accuracy_score(y_test,random_forest_pred2)) # accuracy_score 출"
   ]
  },
  {
   "cell_type": "code",
   "execution_count": 142,
   "metadata": {},
   "outputs": [
    {
     "name": "stdout",
     "output_type": "stream",
     "text": [
      "[0.         0.07692308 1.        ]\n",
      "[0.         0.93103448 1.        ]\n",
      "[2. 1. 0.]\n",
      "0.927055702917772\n"
     ]
    },
    {
     "data": {
      "image/png": "[encoded data removed]",
      "text/plain": [
       "<Figure size 432x288 with 1 Axes>"
      ]
     },
     "metadata": {
      "needs_background": "light"
     },
     "output_type": "display_data"
    }
   ],
   "source": [
    "from sklearn.metrics import roc_curve, auc\n",
    "import matplotlib.pylab as plt\n",
    "\n",
    "fpr, tpr, threshold = roc_curve(y_test, clf.predict_proba(x_test)[:,1])\n",
    "fpr1, tpr1, threshold1 = roc_curve(y_test, clf1.predict_proba(x_test)[:,1])\n",
    "fpr2, tpr2, threshold2 = roc_curve(y_test, clf2.predict_proba(x_test)[:,1])\n",
    "\n",
    "print(fpr)\n",
    "print(tpr)\n",
    "print(threshold)\n",
    "roc_auc = auc(fpr, tpr)\n",
    "roc_auc1 = auc(fpr1,tpr1)\n",
    "roc_auc2 = auc(fpr2,tpr2)\n",
    "print(roc_auc)\n",
    "iter = 10\n",
    "\n",
    "# image drawing\n",
    "plt.figure()\n",
    "plt.title('RandomForest ROC CURVE&AUC')\n",
    "#plt.plot(fpr, tpr, label = 'P AUC = %0.2f' % roc_auc)\n",
    "plt.plot(fpr, tpr, 'o--', label = 'RF(1tree) = %0.4f' % roc_auc)\n",
    "plt.plot(fpr1, tpr1, 'o--', label = 'RF(5tree) = %0.4f' % roc_auc1)\n",
    "plt.plot(fpr2, tpr2, 'o--', label = 'RF(10tree) = %0.4f' % roc_auc2)\n",
    "plt.legend(loc = 'lower right')\n",
    "plt.plot([0, 1], [0, 1],'r--')\n",
    "plt.xlim([0, 1])\n",
    "plt.ylim([0, 1])\n",
    "plt.ylabel('True Positive Rate')\n",
    "plt.xlabel('False Positive Rate')\n",
    "plt.show()"
   ]
  }
 ],
 "metadata": {
  "kernelspec": {
   "display_name": "Python 3",
   "language": "python",
   "name": "python3"
  },
  "language_info": {
   "codemirror_mode": {
    "name": "ipython",
    "version": 3
   },
   "file_extension": ".py",
   "mimetype": "text/x-python",
   "name": "python",
   "nbconvert_exporter": "python",
   "pygments_lexer": "ipython3",
   "version": "3.7.3"
  }
 },
 "nbformat": 4,
 "nbformat_minor": 2
}
