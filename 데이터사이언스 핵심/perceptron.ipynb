{
 "cells": [
  {
   "cell_type": "code",
   "execution_count": 14,
   "metadata": {},
   "outputs": [
    {
     "name": "stdout",
     "output_type": "stream",
     "text": [
      "[0.16729318869719134, 0.2138636539521408, 0.9721267782415131]\n",
      "[1, 1], -1, -1\n",
      "[1, 3], -1, -1\n",
      "[2, 1], -1, -1\n",
      "[3, 2], -1, -1\n",
      "[5, 3], 1, 1\n",
      "[6, 3], 1, 1\n",
      "[6, 5], 1, 1\n",
      "[7, 2], 1, 1\n"
     ]
    }
   ],
   "source": [
    "import random\n",
    "x = [[1,1],[1,3],[2,1],[3,2],[5,3],[6,3],[6,5],[7,2]]\n",
    "y = [-1,-1,-1,-1,1,1,1,1]\n",
    "w = [] #가중치\n",
    "\n",
    "def predict(w,x_i):\n",
    "    #print(x_i)\n",
    "    answer = 0\n",
    "    sum = w[0]\n",
    "    for i in range(1,len(w)):\n",
    "        sum += w[i] * x_i[i-1]\n",
    "    if sum > 0:\n",
    "        answer = 1\n",
    "    elif sum < 0:\n",
    "        answer = -1\n",
    "    return answer\n",
    "\n",
    "def learn(w,x,y):\n",
    "    check = True\n",
    "    while(check):\n",
    "        check = False\n",
    "        for i in range(0,len(x)):\n",
    "            answer = predict(w,x[i])\n",
    "            if answer != y[i] :\n",
    "                w[0] += y[i] * 1\n",
    "                for j in range(0,len(x[i])):\n",
    "                    w[j+1] += y[i] * x[i][j]\n",
    "                check = True\n",
    "    return w \n",
    "for i in range(0,len(x[0])+1):\n",
    "    w_i = random.uniform(0,1)\n",
    "    w.append(w_i)\n",
    "print(w) # <- stupid perceptron!\n",
    "\n",
    "w = learn(w,x,y)\n",
    "\n",
    "for i in range(0, len(x)):\n",
    "    x_i = x[i]\n",
    "    y_i = y[i]\n",
    "    answer = predict(w,x_i)\n",
    "    print(x_i, end = \", \")\n",
    "    print(y_i, end = \", \")\n",
    "    print(answer)"
   ]
  },
  {
   "cell_type": "code",
   "execution_count": null,
   "metadata": {},
   "outputs": [],
   "source": []
  }
 ],
 "metadata": {
  "kernelspec": {
   "display_name": "Python 3",
   "language": "python",
   "name": "python3"
  },
  "language_info": {
   "codemirror_mode": {
    "name": "ipython",
    "version": 3
   },
   "file_extension": ".py",
   "mimetype": "text/x-python",
   "name": "python",
   "nbconvert_exporter": "python",
   "pygments_lexer": "ipython3",
   "version": "3.7.3"
  }
 },
 "nbformat": 4,
 "nbformat_minor": 2
}
