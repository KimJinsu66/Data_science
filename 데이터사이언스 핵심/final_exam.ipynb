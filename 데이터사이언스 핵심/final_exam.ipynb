{
 "cells": [
  {
   "cell_type": "code",
   "execution_count": 20,
   "metadata": {},
   "outputs": [],
   "source": [
    "# load breaset cancer data\n",
    "from sklearn.datasets import load_breast_cancer\n",
    "\n",
    "cancer = load_breast_cancer()\n",
    "#print(cancer.feature_names)\n",
    "#print(cancer.target_names)"
   ]
  },
  {
   "cell_type": "code",
   "execution_count": 22,
   "metadata": {},
   "outputs": [],
   "source": [
    "# cancer to DataFrame\n",
    "import pandas as pd\n",
    "import numpy as np\n",
    "\n",
    "data = pd.DataFrame(np.c_[cancer[\"data\"], cancer[\"target\"]], columns = np.append(cancer['feature_names'], [\"target\"]))\n",
    "#data.head()\n",
    "\n",
    "# x: data / y : 결과값\n",
    "\n",
    "x = data.drop([\"target\"], axis=1)\n",
    "y = data[\"target\"].astype(int)\n"
   ]
  },
  {
   "cell_type": "code",
   "execution_count": 23,
   "metadata": {},
   "outputs": [],
   "source": [
    "# data scaling StandardScaler 사용\n",
    "from sklearn.preprocessing import StandardScaler\n",
    "sc = StandardScaler()\n",
    "\n",
    "x = sc.fit_transform(x) # x_train data scaling\n"
   ]
  },
  {
   "cell_type": "code",
   "execution_count": 50,
   "metadata": {},
   "outputs": [],
   "source": [
    "from sklearn.model_selection import train_test_split\n",
    "# 데이터를 test data 30% training data를 70%로 나눈다.\n",
    "x_train, x_test, y_train, y_test = train_test_split(x, y, test_size=0.30, random_state=20)\n",
    "\n"
   ]
  },
  {
   "cell_type": "code",
   "execution_count": 57,
   "metadata": {},
   "outputs": [
    {
     "name": "stderr",
     "output_type": "stream",
     "text": [
      "C:\\Users\\user\\Anaconda3\\lib\\site-packages\\sklearn\\neural_network\\multilayer_perceptron.py:562: ConvergenceWarning: Stochastic Optimizer: Maximum iterations (200) reached and the optimization hasn't converged yet.\n",
      "  % self.max_iter, ConvergenceWarning)\n"
     ]
    },
    {
     "data": {
      "text/plain": [
       "MLPClassifier(activation='relu', alpha=0.0001, batch_size='auto', beta_1=0.9,\n",
       "       beta_2=0.999, early_stopping=False, epsilon=1e-08,\n",
       "       hidden_layer_sizes=(50, 50), learning_rate='constant',\n",
       "       learning_rate_init=0.7, max_iter=200, momentum=0.9,\n",
       "       n_iter_no_change=10, nesterovs_momentum=True, power_t=0.5,\n",
       "       random_state=None, shuffle=True, solver='sgd', tol=1e-07,\n",
       "       validation_fraction=0.1, verbose=False, warm_start=False)"
      ]
     },
     "execution_count": 57,
     "metadata": {},
     "output_type": "execute_result"
    }
   ],
   "source": [
    "# ANN(Training)\n",
    "from sklearn.neural_network import MLPClassifier\n",
    "\n",
    "\n",
    "mlp = MLPClassifier(hidden_layer_sizes=(50,50),# 은닉층 수 ex) (150,100) node 50,500개짜리 hidden layer 2개\n",
    "               activation = 'relu', # activation function Relu로 설정\n",
    "               solver = 'sgd', # algorithm (lbfgs’, ‘sgd’, ‘adam)\n",
    "               tol = 1e-7,  # 우리가 러닝을 했는대 더이상 낮아지지 않으면 공부 그만해 라는 뜻\n",
    "               learning_rate_init = .7, # 얼마나 움직일 것인가 learning latio\n",
    "               verbose = False) # 보고 할 것인가 안할 것인가. False로 바꾸면 lossfuction값 안나옴\n",
    "\n",
    "\n",
    "mlp.fit(x_train,y_train) # model 학습"
   ]
  },
  {
   "cell_type": "code",
   "execution_count": 68,
   "metadata": {},
   "outputs": [
    {
     "data": {
      "text/plain": [
       "RandomForestClassifier(bootstrap=True, class_weight=None, criterion='gini',\n",
       "            max_depth=7, max_features='auto', max_leaf_nodes=None,\n",
       "            min_impurity_decrease=0.0, min_impurity_split=None,\n",
       "            min_samples_leaf=1, min_samples_split=2,\n",
       "            min_weight_fraction_leaf=0.0, n_estimators=50, n_jobs=None,\n",
       "            oob_score=False, random_state=2, verbose=0, warm_start=False)"
      ]
     },
     "execution_count": 68,
     "metadata": {},
     "output_type": "execute_result"
    }
   ],
   "source": [
    "from sklearn.ensemble import RandomForestClassifier\n",
    "#\n",
    "clf = RandomForestClassifier(n_estimators=50,max_depth = 7 ,random_state=2) # 나무의 개수 = 50인 RandomForest\n",
    "clf.fit(x_train,y_train)"
   ]
  },
  {
   "cell_type": "code",
   "execution_count": 69,
   "metadata": {},
   "outputs": [
    {
     "data": {
      "text/plain": [
       "DecisionTreeClassifier(class_weight=None, criterion='entropy', max_depth=7,\n",
       "            max_features=None, max_leaf_nodes=None,\n",
       "            min_impurity_decrease=0.0, min_impurity_split=None,\n",
       "            min_samples_leaf=1, min_samples_split=2,\n",
       "            min_weight_fraction_leaf=0.0, presort=False, random_state=None,\n",
       "            splitter='best')"
      ]
     },
     "execution_count": 69,
     "metadata": {},
     "output_type": "execute_result"
    }
   ],
   "source": [
    "# DecisionTree\n",
    "from sklearn.tree import DecisionTreeClassifier\n",
    "\n",
    "dtc = DecisionTreeClassifier(criterion = 'entropy', max_depth = 7) \n",
    "#  entropy를 기준으로 사용하고 최대 깊이 7인 DecisionTree.\n",
    "\n",
    "dtc.fit(x_train,y_train) "
   ]
  },
  {
   "cell_type": "code",
   "execution_count": 70,
   "metadata": {},
   "outputs": [
    {
     "name": "stderr",
     "output_type": "stream",
     "text": [
      "C:\\Users\\user\\Anaconda3\\lib\\site-packages\\sklearn\\neural_network\\multilayer_perceptron.py:562: ConvergenceWarning: Stochastic Optimizer: Maximum iterations (200) reached and the optimization hasn't converged yet.\n",
      "  % self.max_iter, ConvergenceWarning)\n",
      "C:\\Users\\user\\Anaconda3\\lib\\site-packages\\sklearn\\neural_network\\multilayer_perceptron.py:562: ConvergenceWarning: Stochastic Optimizer: Maximum iterations (200) reached and the optimization hasn't converged yet.\n",
      "  % self.max_iter, ConvergenceWarning)\n"
     ]
    },
    {
     "name": "stdout",
     "output_type": "stream",
     "text": [
      "ANN 교차 검증 점수: [0.925      0.95       0.9375     0.97468354 0.97468354]\n",
      "ANN 교차 검증 평균 점수: 0.95\n",
      "Random Forest 교차 검증 점수: [0.95       0.9625     0.925      0.92405063 1.        ]\n",
      "Random Forest 교차 검증 평균 점수: 0.95\n",
      "Decision Tree 교차 검증 점수: [0.9375     0.9        0.9        0.92405063 0.97468354]\n",
      "Decision Tree 교차 검증 평균 점수: 0.93\n"
     ]
    }
   ],
   "source": [
    "# cross-validation k-fold 사용하여 평가\n",
    "from sklearn.model_selection import cross_val_score \n",
    "ann_scores = cross_val_score(mlp, x_train, y_train,cv=5) # 5 - fold \n",
    "rf_scores = cross_val_score(clf, x_train, y_train,cv=5) # 5 - fold \n",
    "dt_scores = cross_val_score(dtc, x_train, y_train,cv=5) # 5 - fold \n",
    "\n",
    "\n",
    "print(\"ANN 교차 검증 점수: {}\".format(ann_scores))\n",
    "print(\"ANN 교차 검증 평균 점수: {:.2f}\".format(ann_scores.mean()))\n",
    "print(\"Random Forest 교차 검증 점수: {}\".format(rf_scores))\n",
    "print(\"Random Forest 교차 검증 평균 점수: {:.2f}\".format(rf_scores.mean()))\n",
    "print(\"Decision Tree 교차 검증 점수: {}\".format(dt_scores))\n",
    "print(\"Decision Tree 교차 검증 평균 점수: {:.2f}\".format(dt_scores.mean()))\n"
   ]
  },
  {
   "cell_type": "code",
   "execution_count": 71,
   "metadata": {},
   "outputs": [],
   "source": [
    "predictions = mlp.predict(x_test) # ANN의 test값에 대한 예측 값\n",
    "random_forest_pred = clf.predict(x_test) # Random Forest의 test값에 대한 예측 값\n",
    "Dct_pred = dtc.predict(x_test)# Decision Tree의 test값에 대한 예측 값"
   ]
  },
  {
   "cell_type": "code",
   "execution_count": 72,
   "metadata": {},
   "outputs": [
    {
     "data": {
      "text/html": [
       "<div>\n",
       "<style scoped>\n",
       "    .dataframe tbody tr th:only-of-type {\n",
       "        vertical-align: middle;\n",
       "    }\n",
       "\n",
       "    .dataframe tbody tr th {\n",
       "        vertical-align: top;\n",
       "    }\n",
       "\n",
       "    .dataframe thead th {\n",
       "        text-align: right;\n",
       "    }\n",
       "</style>\n",
       "<table border=\"1\" class=\"dataframe\">\n",
       "  <thead>\n",
       "    <tr style=\"text-align: right;\">\n",
       "      <th>Predicted</th>\n",
       "      <th>0</th>\n",
       "      <th>1</th>\n",
       "      <th>All</th>\n",
       "    </tr>\n",
       "    <tr>\n",
       "      <th>True</th>\n",
       "      <th></th>\n",
       "      <th></th>\n",
       "      <th></th>\n",
       "    </tr>\n",
       "  </thead>\n",
       "  <tbody>\n",
       "    <tr>\n",
       "      <th>0</th>\n",
       "      <td>62</td>\n",
       "      <td>2</td>\n",
       "      <td>64</td>\n",
       "    </tr>\n",
       "    <tr>\n",
       "      <th>1</th>\n",
       "      <td>4</td>\n",
       "      <td>103</td>\n",
       "      <td>107</td>\n",
       "    </tr>\n",
       "    <tr>\n",
       "      <th>All</th>\n",
       "      <td>66</td>\n",
       "      <td>105</td>\n",
       "      <td>171</td>\n",
       "    </tr>\n",
       "  </tbody>\n",
       "</table>\n",
       "</div>"
      ],
      "text/plain": [
       "Predicted   0    1  All\n",
       "True                   \n",
       "0          62    2   64\n",
       "1           4  103  107\n",
       "All        66  105  171"
      ]
     },
     "execution_count": 72,
     "metadata": {},
     "output_type": "execute_result"
    }
   ],
   "source": [
    "# RandomForest confusion matrix 결과\n",
    "import pandas as pd\n",
    "\n",
    "pd.crosstab(y_test,random_forest_pred, rownames = ['True'],colnames = ['Predicted'],margins=True)\n"
   ]
  },
  {
   "cell_type": "code",
   "execution_count": 73,
   "metadata": {},
   "outputs": [
    {
     "data": {
      "text/html": [
       "<div>\n",
       "<style scoped>\n",
       "    .dataframe tbody tr th:only-of-type {\n",
       "        vertical-align: middle;\n",
       "    }\n",
       "\n",
       "    .dataframe tbody tr th {\n",
       "        vertical-align: top;\n",
       "    }\n",
       "\n",
       "    .dataframe thead th {\n",
       "        text-align: right;\n",
       "    }\n",
       "</style>\n",
       "<table border=\"1\" class=\"dataframe\">\n",
       "  <thead>\n",
       "    <tr style=\"text-align: right;\">\n",
       "      <th>Predicted</th>\n",
       "      <th>0</th>\n",
       "      <th>1</th>\n",
       "      <th>All</th>\n",
       "    </tr>\n",
       "    <tr>\n",
       "      <th>True</th>\n",
       "      <th></th>\n",
       "      <th></th>\n",
       "      <th></th>\n",
       "    </tr>\n",
       "  </thead>\n",
       "  <tbody>\n",
       "    <tr>\n",
       "      <th>0</th>\n",
       "      <td>64</td>\n",
       "      <td>0</td>\n",
       "      <td>64</td>\n",
       "    </tr>\n",
       "    <tr>\n",
       "      <th>1</th>\n",
       "      <td>4</td>\n",
       "      <td>103</td>\n",
       "      <td>107</td>\n",
       "    </tr>\n",
       "    <tr>\n",
       "      <th>All</th>\n",
       "      <td>68</td>\n",
       "      <td>103</td>\n",
       "      <td>171</td>\n",
       "    </tr>\n",
       "  </tbody>\n",
       "</table>\n",
       "</div>"
      ],
      "text/plain": [
       "Predicted   0    1  All\n",
       "True                   \n",
       "0          64    0   64\n",
       "1           4  103  107\n",
       "All        68  103  171"
      ]
     },
     "execution_count": 73,
     "metadata": {},
     "output_type": "execute_result"
    }
   ],
   "source": [
    "# ANN confusion matrix 결과\n",
    "import pandas as pd\n",
    "\n",
    "pd.crosstab(y_test,predictions, rownames = ['True'],colnames = ['Predicted'],margins=True)\n"
   ]
  },
  {
   "cell_type": "code",
   "execution_count": 74,
   "metadata": {},
   "outputs": [
    {
     "data": {
      "text/html": [
       "<div>\n",
       "<style scoped>\n",
       "    .dataframe tbody tr th:only-of-type {\n",
       "        vertical-align: middle;\n",
       "    }\n",
       "\n",
       "    .dataframe tbody tr th {\n",
       "        vertical-align: top;\n",
       "    }\n",
       "\n",
       "    .dataframe thead th {\n",
       "        text-align: right;\n",
       "    }\n",
       "</style>\n",
       "<table border=\"1\" class=\"dataframe\">\n",
       "  <thead>\n",
       "    <tr style=\"text-align: right;\">\n",
       "      <th>Predicted</th>\n",
       "      <th>0</th>\n",
       "      <th>1</th>\n",
       "      <th>All</th>\n",
       "    </tr>\n",
       "    <tr>\n",
       "      <th>True</th>\n",
       "      <th></th>\n",
       "      <th></th>\n",
       "      <th></th>\n",
       "    </tr>\n",
       "  </thead>\n",
       "  <tbody>\n",
       "    <tr>\n",
       "      <th>0</th>\n",
       "      <td>62</td>\n",
       "      <td>2</td>\n",
       "      <td>64</td>\n",
       "    </tr>\n",
       "    <tr>\n",
       "      <th>1</th>\n",
       "      <td>12</td>\n",
       "      <td>95</td>\n",
       "      <td>107</td>\n",
       "    </tr>\n",
       "    <tr>\n",
       "      <th>All</th>\n",
       "      <td>74</td>\n",
       "      <td>97</td>\n",
       "      <td>171</td>\n",
       "    </tr>\n",
       "  </tbody>\n",
       "</table>\n",
       "</div>"
      ],
      "text/plain": [
       "Predicted   0   1  All\n",
       "True                  \n",
       "0          62   2   64\n",
       "1          12  95  107\n",
       "All        74  97  171"
      ]
     },
     "execution_count": 74,
     "metadata": {},
     "output_type": "execute_result"
    }
   ],
   "source": [
    "# Decision tree confusion matrix 결과\n",
    "import pandas as pd\n",
    "\n",
    "pd.crosstab(y_test,Dct_pred, rownames = ['True'],colnames = ['Predicted'],margins=True)\n"
   ]
  },
  {
   "cell_type": "code",
   "execution_count": 75,
   "metadata": {},
   "outputs": [
    {
     "name": "stdout",
     "output_type": "stream",
     "text": [
      "ANN accuracy 0.98\n",
      "Random Forest accuracy 0.96\n",
      "Decision Tree accuracy 0.92\n"
     ]
    }
   ],
   "source": [
    "# Accuracy 결과 값\n",
    "from sklearn.metrics import accuracy_score\n",
    "print(\"ANN accuracy %.2f\" %accuracy_score(y_test,predictions)) # ANN ACcuracy 값 출력\n",
    "print(\"Random Forest accuracy %.2f\" %accuracy_score(y_test,random_forest_pred))# Random Forest 값 출력\n",
    "print(\"Decision Tree accuracy %.2f\" %accuracy_score(y_test,Dct_pred))# Decision Tree 값 출력\n"
   ]
  },
  {
   "cell_type": "code",
   "execution_count": 76,
   "metadata": {},
   "outputs": [
    {
     "name": "stdout",
     "output_type": "stream",
     "text": [
      "ANN f-1 score 0.98\n",
      "Random f-1 score 0.97\n",
      "Decision f-1 score 0.93\n"
     ]
    }
   ],
   "source": [
    "# F-1 score\n",
    "from sklearn.metrics import f1_score\n",
    "\n",
    "print(\"ANN f-1 score %.2f\" %f1_score(y_test,predictions)) # ANN ACcuracy 값 출력\n",
    "print(\"Random f-1 score %.2f\" %f1_score(y_test,random_forest_pred))# Random Forest 값 출력\n",
    "print(\"Decision f-1 score %.2f\" %f1_score(y_test,Dct_pred))# Decision Tree 값 출력\n"
   ]
  },
  {
   "cell_type": "code",
   "execution_count": 77,
   "metadata": {},
   "outputs": [
    {
     "data": {
      "image/png": "[encoded data removed]",
      "text/plain": [
       "<Figure size 432x288 with 1 Axes>"
      ]
     },
     "metadata": {
      "needs_background": "light"
     },
     "output_type": "display_data"
    }
   ],
   "source": [
    "# Roc curve & AUC \n",
    "from sklearn.metrics import roc_curve, auc\n",
    "import matplotlib.pylab as plt\n",
    "# FPR,TPR ,threshold 값 계산\n",
    "fpr, tpr, threshold = roc_curve(y_test, mlp.predict_proba(x_test)[:,1]) # ANN의 FPR,TPR,Threshold 값\n",
    "fpr1, tpr1, threshold1 = roc_curve(y_test, clf.predict_proba(x_test)[:,1]) # Random Forest의 FPR,TPR,Threshold 값\n",
    "fpr2, tpr2, threshold2 = roc_curve(y_test, dtc.predict_proba(x_test)[:,1])# Dicision tree의 FPR,TPR,Threshold 값\n",
    "\n",
    "ann_roc_auc = auc(fpr, tpr) # ANN AUC 값\n",
    "random_roc_auc = auc(fpr1,tpr1) # Random Forest AUC 값\n",
    "dicision_roc_auc = auc(fpr2,tpr2) # Dicision Tree AUC 값\n",
    "\n",
    "#plt.xlim(0,0.5)\n",
    "#plt.ylim(0.5,1)\n",
    "\n",
    "plt.plot(fpr, tpr,'-o', label = 'ANN AUC = %0.3f'%ann_roc_auc) # ANN ROC CURVE 표시\n",
    "plt.plot(fpr1, tpr1,'-o', label = 'RandomForest AUC = %0.3f'%random_roc_auc)# Random Forest ROC CURVE 표시\n",
    "plt.plot(fpr2, tpr2,'-o', label = 'DecisionTree AUC = %0.3f'%dicision_roc_auc)# Dicision Tree ROC CURVE 표시\n",
    "\n",
    "plt.plot([0, 1], [0, 1], 'k--', label=\"random guess\")\n",
    "plt.xlabel('False Positive Rate (Fall-Out)') # xlabel 이름\n",
    "plt.ylabel('True Positive Rate (Recall)') # ylabel 이름\n",
    "plt.title('Receiver operating characteristic example') # title 이름\n",
    "plt.legend(loc = 'lower right') # LABEL 위치 \n",
    "\n",
    "plt.show()"
   ]
  }
 ],
 "metadata": {
  "kernelspec": {
   "display_name": "Python 3",
   "language": "python",
   "name": "python3"
  },
  "language_info": {
   "codemirror_mode": {
    "name": "ipython",
    "version": 3
   },
   "file_extension": ".py",
   "mimetype": "text/x-python",
   "name": "python",
   "nbconvert_exporter": "python",
   "pygments_lexer": "ipython3",
   "version": "3.7.3"
  }
 },
 "nbformat": 4,
 "nbformat_minor": 2
}
