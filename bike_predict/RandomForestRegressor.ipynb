{
 "cells": [
  {
   "cell_type": "code",
   "execution_count": 3,
   "metadata": {},
   "outputs": [
    {
     "data": {
      "text/html": [
       "<div>\n",
       "<style scoped>\n",
       "    .dataframe tbody tr th:only-of-type {\n",
       "        vertical-align: middle;\n",
       "    }\n",
       "\n",
       "    .dataframe tbody tr th {\n",
       "        vertical-align: top;\n",
       "    }\n",
       "\n",
       "    .dataframe thead th {\n",
       "        text-align: right;\n",
       "    }\n",
       "</style>\n",
       "<table border=\"1\" class=\"dataframe\">\n",
       "  <thead>\n",
       "    <tr style=\"text-align: right;\">\n",
       "      <th></th>\n",
       "      <th>hour</th>\n",
       "      <th>minutes</th>\n",
       "      <th>count</th>\n",
       "      <th>대여/반납</th>\n",
       "      <th>holiday</th>\n",
       "      <th>weather</th>\n",
       "      <th>Rain</th>\n",
       "      <th>Month</th>\n",
       "      <th>Day</th>\n",
       "      <th>Day_w</th>\n",
       "      <th>Time</th>\n",
       "      <th>AM/PM</th>\n",
       "      <th>습도</th>\n",
       "      <th>풍속</th>\n",
       "      <th>Snow</th>\n",
       "    </tr>\n",
       "  </thead>\n",
       "  <tbody>\n",
       "    <tr>\n",
       "      <th>0</th>\n",
       "      <td>0</td>\n",
       "      <td>0</td>\n",
       "      <td>20.000000</td>\n",
       "      <td>0</td>\n",
       "      <td>2</td>\n",
       "      <td>-3.2</td>\n",
       "      <td>0.0</td>\n",
       "      <td>1</td>\n",
       "      <td>1</td>\n",
       "      <td>1</td>\n",
       "      <td>0:00</td>\n",
       "      <td>1</td>\n",
       "      <td>40</td>\n",
       "      <td>0.5</td>\n",
       "      <td>0.0</td>\n",
       "    </tr>\n",
       "    <tr>\n",
       "      <th>1</th>\n",
       "      <td>0</td>\n",
       "      <td>30</td>\n",
       "      <td>20.500000</td>\n",
       "      <td>0</td>\n",
       "      <td>2</td>\n",
       "      <td>-3.2</td>\n",
       "      <td>0.0</td>\n",
       "      <td>1</td>\n",
       "      <td>1</td>\n",
       "      <td>1</td>\n",
       "      <td>0:30</td>\n",
       "      <td>1</td>\n",
       "      <td>40</td>\n",
       "      <td>0.5</td>\n",
       "      <td>0.0</td>\n",
       "    </tr>\n",
       "    <tr>\n",
       "      <th>2</th>\n",
       "      <td>1</td>\n",
       "      <td>0</td>\n",
       "      <td>20.000000</td>\n",
       "      <td>1</td>\n",
       "      <td>2</td>\n",
       "      <td>-3.3</td>\n",
       "      <td>0.0</td>\n",
       "      <td>1</td>\n",
       "      <td>1</td>\n",
       "      <td>1</td>\n",
       "      <td>1:00</td>\n",
       "      <td>1</td>\n",
       "      <td>41</td>\n",
       "      <td>0.7</td>\n",
       "      <td>0.0</td>\n",
       "    </tr>\n",
       "    <tr>\n",
       "      <th>3</th>\n",
       "      <td>2</td>\n",
       "      <td>0</td>\n",
       "      <td>16.250000</td>\n",
       "      <td>-1</td>\n",
       "      <td>2</td>\n",
       "      <td>-3.7</td>\n",
       "      <td>0.0</td>\n",
       "      <td>1</td>\n",
       "      <td>1</td>\n",
       "      <td>1</td>\n",
       "      <td>2:00</td>\n",
       "      <td>1</td>\n",
       "      <td>42</td>\n",
       "      <td>0.9</td>\n",
       "      <td>0.0</td>\n",
       "    </tr>\n",
       "    <tr>\n",
       "      <th>4</th>\n",
       "      <td>2</td>\n",
       "      <td>30</td>\n",
       "      <td>13.833333</td>\n",
       "      <td>-5</td>\n",
       "      <td>2</td>\n",
       "      <td>-3.7</td>\n",
       "      <td>0.0</td>\n",
       "      <td>1</td>\n",
       "      <td>1</td>\n",
       "      <td>1</td>\n",
       "      <td>2:30</td>\n",
       "      <td>1</td>\n",
       "      <td>42</td>\n",
       "      <td>0.9</td>\n",
       "      <td>0.0</td>\n",
       "    </tr>\n",
       "  </tbody>\n",
       "</table>\n",
       "</div>"
      ],
      "text/plain": [
       "   hour  minutes      count  대여/반납  holiday  weather  Rain  Month  Day  Day_w  \\\n",
       "0     0        0  20.000000      0        2     -3.2   0.0      1    1      1   \n",
       "1     0       30  20.500000      0        2     -3.2   0.0      1    1      1   \n",
       "2     1        0  20.000000      1        2     -3.3   0.0      1    1      1   \n",
       "3     2        0  16.250000     -1        2     -3.7   0.0      1    1      1   \n",
       "4     2       30  13.833333     -5        2     -3.7   0.0      1    1      1   \n",
       "\n",
       "   Time  AM/PM  습도   풍속  Snow  \n",
       "0  0:00      1  40  0.5   0.0  \n",
       "1  0:30      1  40  0.5   0.0  \n",
       "2  1:00      1  41  0.7   0.0  \n",
       "3  2:00      1  42  0.9   0.0  \n",
       "4  2:30      1  42  0.9   0.0  "
      ]
     },
     "execution_count": 3,
     "metadata": {},
     "output_type": "execute_result"
    }
   ],
   "source": [
    "# -*- coding: utf-8 -*-\n",
    "# 따릉이 데이터 셋 \n",
    "import pandas as pd\n",
    "import numpy as np\n",
    "import matplotlib as plt\n",
    "\n",
    "data = pd.read_csv(\"C:/Users/GSE/suicide/Bike/Bike_csv/predict_data.csv\")#,encoding='CP949')\n",
    "\n",
    "data =data.fillna(0) # 데이터에 nan 값 전부 0처리 \n",
    "data.head()"
   ]
  },
  {
   "cell_type": "code",
   "execution_count": 4,
   "metadata": {},
   "outputs": [],
   "source": [
    "# 날짜를 인덱스 처리\n",
    "data['Time']\n",
    "data = data.set_index(['Time'])      \n",
    "data.index = pd.to_datetime(data.index)"
   ]
  },
  {
   "cell_type": "code",
   "execution_count": 5,
   "metadata": {},
   "outputs": [
    {
     "data": {
      "text/plain": [
       "18.0"
      ]
     },
     "execution_count": 5,
     "metadata": {},
     "output_type": "execute_result"
    }
   ],
   "source": [
    "# x값과 y값 구분\n",
    "import pandas as pd\n",
    "import numpy as np\n",
    "\n",
    "# x: data / y : 결과값\n",
    "\n",
    "x = data.drop([\"count\"], axis=1)\n",
    "y = data[\"count\"].astype(int)\n",
    "#print(x)\n",
    "y.mean()\n",
    "y.median()"
   ]
  },
  {
   "cell_type": "code",
   "execution_count": 6,
   "metadata": {},
   "outputs": [
    {
     "name": "stdout",
     "output_type": "stream",
     "text": [
      "[[-1.3        -1.          0.         ... -0.21428571 -0.82352941\n",
      "   0.        ]\n",
      " [-1.3         0.          0.         ... -0.21428571 -0.82352941\n",
      "   0.        ]\n",
      " [-1.2        -1.          0.33333333 ... -0.17857143 -0.70588235\n",
      "   0.        ]\n",
      " ...\n",
      " [ 0.9         0.         -0.33333333 ...  0.21428571 -0.23529412\n",
      "   0.        ]\n",
      " [ 1.         -1.         -0.66666667 ...  0.60714286 -0.35294118\n",
      "   0.        ]\n",
      " [ 1.          0.         -0.66666667 ...  0.60714286 -0.35294118\n",
      "   0.        ]]\n"
     ]
    }
   ],
   "source": [
    "# data scaling StandardScaler 사용(표준화)\n",
    "from sklearn.preprocessing import StandardScaler\n",
    "from sklearn.preprocessing import MinMaxScaler\n",
    "#from sklearn.preprocessing import RubustScaler\n",
    "from sklearn.preprocessing import RobustScaler\n",
    "from sklearn.preprocessing import Normalizer\n",
    "#sc = MinMaxScaler()\n",
    "sc = RobustScaler()\n",
    "#sc = Normalizer()\n",
    "#sc = StandardScaler()\n",
    "#x = sc.MinMaxScaler()\n",
    "x = sc.fit_transform(x) # x_train data scaling\n",
    "print(x)\n"
   ]
  },
  {
   "cell_type": "code",
   "execution_count": 7,
   "metadata": {},
   "outputs": [
    {
     "name": "stdout",
     "output_type": "stream",
     "text": [
      "2055 , 2740 , 686\n"
     ]
    }
   ],
   "source": [
    "#train,validation,test set 으로 나눔  \n",
    "\n",
    "import numpy as np\n",
    "train_size = int(len(y)* 0.6)\n",
    "val_size = int(len(y)*0.8)\n",
    "test_size = len(y)- val_size\n",
    "\n",
    "train_x, test_x = np.array(x[0:train_size]),np.array(x[val_size:])\n",
    "val_x, val_y = np.array(x[train_size:val_size]),np.array(y[train_size:val_size])\n",
    "train_y, test_y = np.array(y[0:train_size]),np.array(y[val_size:])\n",
    "print(train_size,\",\",val_size,\",\",test_size)"
   ]
  },
  {
   "cell_type": "code",
   "execution_count": 53,
   "metadata": {},
   "outputs": [
    {
     "name": "stdout",
     "output_type": "stream",
     "text": [
      "Fitting 9 folds for each of 18 candidates, totalling 162 fits\n"
     ]
    },
    {
     "name": "stderr",
     "output_type": "stream",
     "text": [
      "C:\\Users\\GSE\\Anaconda3\\lib\\site-packages\\sklearn\\model_selection\\_split.py:657: Warning: The least populated class in y has only 1 members, which is too few. The minimum number of members in any class cannot be less than n_splits=3.\n",
      "  % (min_groups, self.n_splits)), Warning)\n",
      "C:\\Users\\GSE\\Anaconda3\\lib\\site-packages\\sklearn\\model_selection\\_split.py:657: Warning: The least populated class in y has only 1 members, which is too few. The minimum number of members in any class cannot be less than n_splits=3.\n",
      "  % (min_groups, self.n_splits)), Warning)\n",
      "C:\\Users\\GSE\\Anaconda3\\lib\\site-packages\\sklearn\\model_selection\\_split.py:657: Warning: The least populated class in y has only 1 members, which is too few. The minimum number of members in any class cannot be less than n_splits=3.\n",
      "  % (min_groups, self.n_splits)), Warning)\n",
      "[Parallel(n_jobs=1)]: Using backend SequentialBackend with 1 concurrent workers.\n",
      "[Parallel(n_jobs=1)]: Done 162 out of 162 | elapsed: 15.7min finished\n"
     ]
    },
    {
     "data": {
      "text/html": [
       "<div>\n",
       "<style scoped>\n",
       "    .dataframe tbody tr th:only-of-type {\n",
       "        vertical-align: middle;\n",
       "    }\n",
       "\n",
       "    .dataframe tbody tr th {\n",
       "        vertical-align: top;\n",
       "    }\n",
       "\n",
       "    .dataframe thead th {\n",
       "        text-align: right;\n",
       "    }\n",
       "</style>\n",
       "<table border=\"1\" class=\"dataframe\">\n",
       "  <thead>\n",
       "    <tr style=\"text-align: right;\">\n",
       "      <th></th>\n",
       "      <th>mean_fit_time</th>\n",
       "      <th>std_fit_time</th>\n",
       "      <th>mean_score_time</th>\n",
       "      <th>std_score_time</th>\n",
       "      <th>param_max_depth</th>\n",
       "      <th>param_max_features</th>\n",
       "      <th>param_n_estimators</th>\n",
       "      <th>params</th>\n",
       "      <th>split0_test_score</th>\n",
       "      <th>split1_test_score</th>\n",
       "      <th>split2_test_score</th>\n",
       "      <th>split3_test_score</th>\n",
       "      <th>split4_test_score</th>\n",
       "      <th>split5_test_score</th>\n",
       "      <th>split6_test_score</th>\n",
       "      <th>split7_test_score</th>\n",
       "      <th>split8_test_score</th>\n",
       "      <th>mean_test_score</th>\n",
       "      <th>std_test_score</th>\n",
       "      <th>rank_test_score</th>\n",
       "    </tr>\n",
       "  </thead>\n",
       "  <tbody>\n",
       "    <tr>\n",
       "      <th>0</th>\n",
       "      <td>2.853388</td>\n",
       "      <td>0.715284</td>\n",
       "      <td>0.077043</td>\n",
       "      <td>0.024991</td>\n",
       "      <td>10</td>\n",
       "      <td>13</td>\n",
       "      <td>500</td>\n",
       "      <td>{'max_depth': 10, 'max_features': 13, 'n_estim...</td>\n",
       "      <td>-3.026327</td>\n",
       "      <td>-3.051523</td>\n",
       "      <td>-2.982062</td>\n",
       "      <td>-2.960527</td>\n",
       "      <td>-3.095232</td>\n",
       "      <td>-3.011832</td>\n",
       "      <td>-3.205475</td>\n",
       "      <td>-2.955579</td>\n",
       "      <td>-3.066214</td>\n",
       "      <td>-3.039654</td>\n",
       "      <td>0.074086</td>\n",
       "      <td>17</td>\n",
       "    </tr>\n",
       "    <tr>\n",
       "      <th>1</th>\n",
       "      <td>2.902542</td>\n",
       "      <td>0.378201</td>\n",
       "      <td>0.089226</td>\n",
       "      <td>0.046248</td>\n",
       "      <td>10</td>\n",
       "      <td>13</td>\n",
       "      <td>600</td>\n",
       "      <td>{'max_depth': 10, 'max_features': 13, 'n_estim...</td>\n",
       "      <td>-3.025397</td>\n",
       "      <td>-3.055216</td>\n",
       "      <td>-2.978921</td>\n",
       "      <td>-2.957922</td>\n",
       "      <td>-3.100044</td>\n",
       "      <td>-3.001693</td>\n",
       "      <td>-3.208165</td>\n",
       "      <td>-2.965339</td>\n",
       "      <td>-3.062989</td>\n",
       "      <td>-3.039784</td>\n",
       "      <td>0.075083</td>\n",
       "      <td>18</td>\n",
       "    </tr>\n",
       "    <tr>\n",
       "      <th>2</th>\n",
       "      <td>4.210194</td>\n",
       "      <td>0.703827</td>\n",
       "      <td>0.109156</td>\n",
       "      <td>0.041043</td>\n",
       "      <td>10</td>\n",
       "      <td>13</td>\n",
       "      <td>700</td>\n",
       "      <td>{'max_depth': 10, 'max_features': 13, 'n_estim...</td>\n",
       "      <td>-3.030537</td>\n",
       "      <td>-3.052501</td>\n",
       "      <td>-2.974398</td>\n",
       "      <td>-2.959233</td>\n",
       "      <td>-3.103086</td>\n",
       "      <td>-3.000753</td>\n",
       "      <td>-3.203102</td>\n",
       "      <td>-2.960127</td>\n",
       "      <td>-3.058830</td>\n",
       "      <td>-3.038344</td>\n",
       "      <td>0.074717</td>\n",
       "      <td>16</td>\n",
       "    </tr>\n",
       "    <tr>\n",
       "      <th>3</th>\n",
       "      <td>3.945794</td>\n",
       "      <td>0.522347</td>\n",
       "      <td>0.106410</td>\n",
       "      <td>0.015868</td>\n",
       "      <td>10</td>\n",
       "      <td>13</td>\n",
       "      <td>800</td>\n",
       "      <td>{'max_depth': 10, 'max_features': 13, 'n_estim...</td>\n",
       "      <td>-3.027414</td>\n",
       "      <td>-3.050936</td>\n",
       "      <td>-2.973075</td>\n",
       "      <td>-2.956379</td>\n",
       "      <td>-3.107062</td>\n",
       "      <td>-3.003654</td>\n",
       "      <td>-3.190139</td>\n",
       "      <td>-2.960591</td>\n",
       "      <td>-3.058981</td>\n",
       "      <td>-3.036723</td>\n",
       "      <td>0.072245</td>\n",
       "      <td>15</td>\n",
       "    </tr>\n",
       "    <tr>\n",
       "      <th>4</th>\n",
       "      <td>6.049018</td>\n",
       "      <td>0.377151</td>\n",
       "      <td>0.149284</td>\n",
       "      <td>0.018589</td>\n",
       "      <td>10</td>\n",
       "      <td>13</td>\n",
       "      <td>900</td>\n",
       "      <td>{'max_depth': 10, 'max_features': 13, 'n_estim...</td>\n",
       "      <td>-3.023813</td>\n",
       "      <td>-3.053347</td>\n",
       "      <td>-2.970026</td>\n",
       "      <td>-2.958230</td>\n",
       "      <td>-3.105909</td>\n",
       "      <td>-3.002867</td>\n",
       "      <td>-3.187713</td>\n",
       "      <td>-2.958325</td>\n",
       "      <td>-3.054958</td>\n",
       "      <td>-3.035280</td>\n",
       "      <td>0.071908</td>\n",
       "      <td>14</td>\n",
       "    </tr>\n",
       "    <tr>\n",
       "      <th>5</th>\n",
       "      <td>8.064223</td>\n",
       "      <td>0.836240</td>\n",
       "      <td>0.182960</td>\n",
       "      <td>0.010029</td>\n",
       "      <td>10</td>\n",
       "      <td>13</td>\n",
       "      <td>1000</td>\n",
       "      <td>{'max_depth': 10, 'max_features': 13, 'n_estim...</td>\n",
       "      <td>-3.023547</td>\n",
       "      <td>-3.049563</td>\n",
       "      <td>-2.967720</td>\n",
       "      <td>-2.958179</td>\n",
       "      <td>-3.096963</td>\n",
       "      <td>-3.000347</td>\n",
       "      <td>-3.186124</td>\n",
       "      <td>-2.957496</td>\n",
       "      <td>-3.051253</td>\n",
       "      <td>-3.032621</td>\n",
       "      <td>0.070834</td>\n",
       "      <td>13</td>\n",
       "    </tr>\n",
       "    <tr>\n",
       "      <th>6</th>\n",
       "      <td>5.035518</td>\n",
       "      <td>0.293424</td>\n",
       "      <td>0.115520</td>\n",
       "      <td>0.006709</td>\n",
       "      <td>20</td>\n",
       "      <td>13</td>\n",
       "      <td>500</td>\n",
       "      <td>{'max_depth': 20, 'max_features': 13, 'n_estim...</td>\n",
       "      <td>-2.557477</td>\n",
       "      <td>-2.680928</td>\n",
       "      <td>-2.469882</td>\n",
       "      <td>-2.566334</td>\n",
       "      <td>-2.610758</td>\n",
       "      <td>-2.575700</td>\n",
       "      <td>-2.727160</td>\n",
       "      <td>-2.496000</td>\n",
       "      <td>-2.628307</td>\n",
       "      <td>-2.590604</td>\n",
       "      <td>0.077535</td>\n",
       "      <td>10</td>\n",
       "    </tr>\n",
       "    <tr>\n",
       "      <th>7</th>\n",
       "      <td>4.836549</td>\n",
       "      <td>0.660588</td>\n",
       "      <td>0.116742</td>\n",
       "      <td>0.014984</td>\n",
       "      <td>20</td>\n",
       "      <td>13</td>\n",
       "      <td>600</td>\n",
       "      <td>{'max_depth': 20, 'max_features': 13, 'n_estim...</td>\n",
       "      <td>-2.557711</td>\n",
       "      <td>-2.685775</td>\n",
       "      <td>-2.474122</td>\n",
       "      <td>-2.563589</td>\n",
       "      <td>-2.618643</td>\n",
       "      <td>-2.572796</td>\n",
       "      <td>-2.727641</td>\n",
       "      <td>-2.510069</td>\n",
       "      <td>-2.630616</td>\n",
       "      <td>-2.593758</td>\n",
       "      <td>0.076284</td>\n",
       "      <td>12</td>\n",
       "    </tr>\n",
       "    <tr>\n",
       "      <th>8</th>\n",
       "      <td>5.196569</td>\n",
       "      <td>0.303482</td>\n",
       "      <td>0.130949</td>\n",
       "      <td>0.013700</td>\n",
       "      <td>20</td>\n",
       "      <td>13</td>\n",
       "      <td>700</td>\n",
       "      <td>{'max_depth': 20, 'max_features': 13, 'n_estim...</td>\n",
       "      <td>-2.561493</td>\n",
       "      <td>-2.684577</td>\n",
       "      <td>-2.472646</td>\n",
       "      <td>-2.562283</td>\n",
       "      <td>-2.621399</td>\n",
       "      <td>-2.568357</td>\n",
       "      <td>-2.723866</td>\n",
       "      <td>-2.504623</td>\n",
       "      <td>-2.624704</td>\n",
       "      <td>-2.591885</td>\n",
       "      <td>0.076141</td>\n",
       "      <td>11</td>\n",
       "    </tr>\n",
       "    <tr>\n",
       "      <th>9</th>\n",
       "      <td>6.122261</td>\n",
       "      <td>0.188380</td>\n",
       "      <td>0.145825</td>\n",
       "      <td>0.006901</td>\n",
       "      <td>20</td>\n",
       "      <td>13</td>\n",
       "      <td>800</td>\n",
       "      <td>{'max_depth': 20, 'max_features': 13, 'n_estim...</td>\n",
       "      <td>-2.560477</td>\n",
       "      <td>-2.682794</td>\n",
       "      <td>-2.474744</td>\n",
       "      <td>-2.560000</td>\n",
       "      <td>-2.621219</td>\n",
       "      <td>-2.567949</td>\n",
       "      <td>-2.710090</td>\n",
       "      <td>-2.507059</td>\n",
       "      <td>-2.626636</td>\n",
       "      <td>-2.590412</td>\n",
       "      <td>0.072857</td>\n",
       "      <td>9</td>\n",
       "    </tr>\n",
       "    <tr>\n",
       "      <th>10</th>\n",
       "      <td>7.032638</td>\n",
       "      <td>0.310783</td>\n",
       "      <td>0.178502</td>\n",
       "      <td>0.028230</td>\n",
       "      <td>20</td>\n",
       "      <td>13</td>\n",
       "      <td>900</td>\n",
       "      <td>{'max_depth': 20, 'max_features': 13, 'n_estim...</td>\n",
       "      <td>-2.557926</td>\n",
       "      <td>-2.685767</td>\n",
       "      <td>-2.473637</td>\n",
       "      <td>-2.560959</td>\n",
       "      <td>-2.624236</td>\n",
       "      <td>-2.565690</td>\n",
       "      <td>-2.710185</td>\n",
       "      <td>-2.504755</td>\n",
       "      <td>-2.622448</td>\n",
       "      <td>-2.589828</td>\n",
       "      <td>0.073876</td>\n",
       "      <td>8</td>\n",
       "    </tr>\n",
       "    <tr>\n",
       "      <th>11</th>\n",
       "      <td>7.767755</td>\n",
       "      <td>1.131999</td>\n",
       "      <td>0.203987</td>\n",
       "      <td>0.043824</td>\n",
       "      <td>20</td>\n",
       "      <td>13</td>\n",
       "      <td>1000</td>\n",
       "      <td>{'max_depth': 20, 'max_features': 13, 'n_estim...</td>\n",
       "      <td>-2.557718</td>\n",
       "      <td>-2.683099</td>\n",
       "      <td>-2.470493</td>\n",
       "      <td>-2.559576</td>\n",
       "      <td>-2.619491</td>\n",
       "      <td>-2.564009</td>\n",
       "      <td>-2.709036</td>\n",
       "      <td>-2.503121</td>\n",
       "      <td>-2.620467</td>\n",
       "      <td>-2.587767</td>\n",
       "      <td>0.073828</td>\n",
       "      <td>5</td>\n",
       "    </tr>\n",
       "    <tr>\n",
       "      <th>12</th>\n",
       "      <td>7.293435</td>\n",
       "      <td>1.784857</td>\n",
       "      <td>0.162493</td>\n",
       "      <td>0.088120</td>\n",
       "      <td>30</td>\n",
       "      <td>13</td>\n",
       "      <td>500</td>\n",
       "      <td>{'max_depth': 30, 'max_features': 13, 'n_estim...</td>\n",
       "      <td>-2.555947</td>\n",
       "      <td>-2.679856</td>\n",
       "      <td>-2.459420</td>\n",
       "      <td>-2.558182</td>\n",
       "      <td>-2.604516</td>\n",
       "      <td>-2.576284</td>\n",
       "      <td>-2.717581</td>\n",
       "      <td>-2.492101</td>\n",
       "      <td>-2.623344</td>\n",
       "      <td>-2.585565</td>\n",
       "      <td>0.077798</td>\n",
       "      <td>2</td>\n",
       "    </tr>\n",
       "    <tr>\n",
       "      <th>13</th>\n",
       "      <td>4.566278</td>\n",
       "      <td>0.783318</td>\n",
       "      <td>0.108493</td>\n",
       "      <td>0.022917</td>\n",
       "      <td>30</td>\n",
       "      <td>13</td>\n",
       "      <td>600</td>\n",
       "      <td>{'max_depth': 30, 'max_features': 13, 'n_estim...</td>\n",
       "      <td>-2.555283</td>\n",
       "      <td>-2.686043</td>\n",
       "      <td>-2.462826</td>\n",
       "      <td>-2.556315</td>\n",
       "      <td>-2.614206</td>\n",
       "      <td>-2.571426</td>\n",
       "      <td>-2.718383</td>\n",
       "      <td>-2.506284</td>\n",
       "      <td>-2.626769</td>\n",
       "      <td>-2.588933</td>\n",
       "      <td>0.077098</td>\n",
       "      <td>7</td>\n",
       "    </tr>\n",
       "    <tr>\n",
       "      <th>14</th>\n",
       "      <td>5.991486</td>\n",
       "      <td>1.979195</td>\n",
       "      <td>0.148740</td>\n",
       "      <td>0.057189</td>\n",
       "      <td>30</td>\n",
       "      <td>13</td>\n",
       "      <td>700</td>\n",
       "      <td>{'max_depth': 30, 'max_features': 13, 'n_estim...</td>\n",
       "      <td>-2.561095</td>\n",
       "      <td>-2.684922</td>\n",
       "      <td>-2.462671</td>\n",
       "      <td>-2.557856</td>\n",
       "      <td>-2.617654</td>\n",
       "      <td>-2.567186</td>\n",
       "      <td>-2.716107</td>\n",
       "      <td>-2.500631</td>\n",
       "      <td>-2.621125</td>\n",
       "      <td>-2.588035</td>\n",
       "      <td>0.076873</td>\n",
       "      <td>6</td>\n",
       "    </tr>\n",
       "    <tr>\n",
       "      <th>15</th>\n",
       "      <td>5.479575</td>\n",
       "      <td>0.353164</td>\n",
       "      <td>0.135194</td>\n",
       "      <td>0.022455</td>\n",
       "      <td>30</td>\n",
       "      <td>13</td>\n",
       "      <td>800</td>\n",
       "      <td>{'max_depth': 30, 'max_features': 13, 'n_estim...</td>\n",
       "      <td>-2.559684</td>\n",
       "      <td>-2.683160</td>\n",
       "      <td>-2.463750</td>\n",
       "      <td>-2.556520</td>\n",
       "      <td>-2.618467</td>\n",
       "      <td>-2.566759</td>\n",
       "      <td>-2.703387</td>\n",
       "      <td>-2.503501</td>\n",
       "      <td>-2.623566</td>\n",
       "      <td>-2.586847</td>\n",
       "      <td>0.074037</td>\n",
       "      <td>3</td>\n",
       "    </tr>\n",
       "    <tr>\n",
       "      <th>16</th>\n",
       "      <td>7.344856</td>\n",
       "      <td>1.133094</td>\n",
       "      <td>0.182977</td>\n",
       "      <td>0.053297</td>\n",
       "      <td>30</td>\n",
       "      <td>13</td>\n",
       "      <td>900</td>\n",
       "      <td>{'max_depth': 30, 'max_features': 13, 'n_estim...</td>\n",
       "      <td>-2.557660</td>\n",
       "      <td>-2.687102</td>\n",
       "      <td>-2.463468</td>\n",
       "      <td>-2.558396</td>\n",
       "      <td>-2.621594</td>\n",
       "      <td>-2.564277</td>\n",
       "      <td>-2.704593</td>\n",
       "      <td>-2.501547</td>\n",
       "      <td>-2.620194</td>\n",
       "      <td>-2.586864</td>\n",
       "      <td>0.075187</td>\n",
       "      <td>4</td>\n",
       "    </tr>\n",
       "    <tr>\n",
       "      <th>17</th>\n",
       "      <td>7.180816</td>\n",
       "      <td>1.037429</td>\n",
       "      <td>0.170885</td>\n",
       "      <td>0.060034</td>\n",
       "      <td>30</td>\n",
       "      <td>13</td>\n",
       "      <td>1000</td>\n",
       "      <td>{'max_depth': 30, 'max_features': 13, 'n_estim...</td>\n",
       "      <td>-2.558070</td>\n",
       "      <td>-2.684119</td>\n",
       "      <td>-2.460623</td>\n",
       "      <td>-2.556992</td>\n",
       "      <td>-2.615882</td>\n",
       "      <td>-2.564264</td>\n",
       "      <td>-2.704609</td>\n",
       "      <td>-2.500147</td>\n",
       "      <td>-2.617290</td>\n",
       "      <td>-2.584999</td>\n",
       "      <td>0.075064</td>\n",
       "      <td>1</td>\n",
       "    </tr>\n",
       "  </tbody>\n",
       "</table>\n",
       "</div>"
      ],
      "text/plain": [
       "    mean_fit_time  std_fit_time  mean_score_time  std_score_time  \\\n",
       "0        2.853388      0.715284         0.077043        0.024991   \n",
       "1        2.902542      0.378201         0.089226        0.046248   \n",
       "2        4.210194      0.703827         0.109156        0.041043   \n",
       "3        3.945794      0.522347         0.106410        0.015868   \n",
       "4        6.049018      0.377151         0.149284        0.018589   \n",
       "5        8.064223      0.836240         0.182960        0.010029   \n",
       "6        5.035518      0.293424         0.115520        0.006709   \n",
       "7        4.836549      0.660588         0.116742        0.014984   \n",
       "8        5.196569      0.303482         0.130949        0.013700   \n",
       "9        6.122261      0.188380         0.145825        0.006901   \n",
       "10       7.032638      0.310783         0.178502        0.028230   \n",
       "11       7.767755      1.131999         0.203987        0.043824   \n",
       "12       7.293435      1.784857         0.162493        0.088120   \n",
       "13       4.566278      0.783318         0.108493        0.022917   \n",
       "14       5.991486      1.979195         0.148740        0.057189   \n",
       "15       5.479575      0.353164         0.135194        0.022455   \n",
       "16       7.344856      1.133094         0.182977        0.053297   \n",
       "17       7.180816      1.037429         0.170885        0.060034   \n",
       "\n",
       "   param_max_depth param_max_features param_n_estimators  \\\n",
       "0               10                 13                500   \n",
       "1               10                 13                600   \n",
       "2               10                 13                700   \n",
       "3               10                 13                800   \n",
       "4               10                 13                900   \n",
       "5               10                 13               1000   \n",
       "6               20                 13                500   \n",
       "7               20                 13                600   \n",
       "8               20                 13                700   \n",
       "9               20                 13                800   \n",
       "10              20                 13                900   \n",
       "11              20                 13               1000   \n",
       "12              30                 13                500   \n",
       "13              30                 13                600   \n",
       "14              30                 13                700   \n",
       "15              30                 13                800   \n",
       "16              30                 13                900   \n",
       "17              30                 13               1000   \n",
       "\n",
       "                                               params  split0_test_score  \\\n",
       "0   {'max_depth': 10, 'max_features': 13, 'n_estim...          -3.026327   \n",
       "1   {'max_depth': 10, 'max_features': 13, 'n_estim...          -3.025397   \n",
       "2   {'max_depth': 10, 'max_features': 13, 'n_estim...          -3.030537   \n",
       "3   {'max_depth': 10, 'max_features': 13, 'n_estim...          -3.027414   \n",
       "4   {'max_depth': 10, 'max_features': 13, 'n_estim...          -3.023813   \n",
       "5   {'max_depth': 10, 'max_features': 13, 'n_estim...          -3.023547   \n",
       "6   {'max_depth': 20, 'max_features': 13, 'n_estim...          -2.557477   \n",
       "7   {'max_depth': 20, 'max_features': 13, 'n_estim...          -2.557711   \n",
       "8   {'max_depth': 20, 'max_features': 13, 'n_estim...          -2.561493   \n",
       "9   {'max_depth': 20, 'max_features': 13, 'n_estim...          -2.560477   \n",
       "10  {'max_depth': 20, 'max_features': 13, 'n_estim...          -2.557926   \n",
       "11  {'max_depth': 20, 'max_features': 13, 'n_estim...          -2.557718   \n",
       "12  {'max_depth': 30, 'max_features': 13, 'n_estim...          -2.555947   \n",
       "13  {'max_depth': 30, 'max_features': 13, 'n_estim...          -2.555283   \n",
       "14  {'max_depth': 30, 'max_features': 13, 'n_estim...          -2.561095   \n",
       "15  {'max_depth': 30, 'max_features': 13, 'n_estim...          -2.559684   \n",
       "16  {'max_depth': 30, 'max_features': 13, 'n_estim...          -2.557660   \n",
       "17  {'max_depth': 30, 'max_features': 13, 'n_estim...          -2.558070   \n",
       "\n",
       "    split1_test_score  split2_test_score  split3_test_score  \\\n",
       "0           -3.051523          -2.982062          -2.960527   \n",
       "1           -3.055216          -2.978921          -2.957922   \n",
       "2           -3.052501          -2.974398          -2.959233   \n",
       "3           -3.050936          -2.973075          -2.956379   \n",
       "4           -3.053347          -2.970026          -2.958230   \n",
       "5           -3.049563          -2.967720          -2.958179   \n",
       "6           -2.680928          -2.469882          -2.566334   \n",
       "7           -2.685775          -2.474122          -2.563589   \n",
       "8           -2.684577          -2.472646          -2.562283   \n",
       "9           -2.682794          -2.474744          -2.560000   \n",
       "10          -2.685767          -2.473637          -2.560959   \n",
       "11          -2.683099          -2.470493          -2.559576   \n",
       "12          -2.679856          -2.459420          -2.558182   \n",
       "13          -2.686043          -2.462826          -2.556315   \n",
       "14          -2.684922          -2.462671          -2.557856   \n",
       "15          -2.683160          -2.463750          -2.556520   \n",
       "16          -2.687102          -2.463468          -2.558396   \n",
       "17          -2.684119          -2.460623          -2.556992   \n",
       "\n",
       "    split4_test_score  split5_test_score  split6_test_score  \\\n",
       "0           -3.095232          -3.011832          -3.205475   \n",
       "1           -3.100044          -3.001693          -3.208165   \n",
       "2           -3.103086          -3.000753          -3.203102   \n",
       "3           -3.107062          -3.003654          -3.190139   \n",
       "4           -3.105909          -3.002867          -3.187713   \n",
       "5           -3.096963          -3.000347          -3.186124   \n",
       "6           -2.610758          -2.575700          -2.727160   \n",
       "7           -2.618643          -2.572796          -2.727641   \n",
       "8           -2.621399          -2.568357          -2.723866   \n",
       "9           -2.621219          -2.567949          -2.710090   \n",
       "10          -2.624236          -2.565690          -2.710185   \n",
       "11          -2.619491          -2.564009          -2.709036   \n",
       "12          -2.604516          -2.576284          -2.717581   \n",
       "13          -2.614206          -2.571426          -2.718383   \n",
       "14          -2.617654          -2.567186          -2.716107   \n",
       "15          -2.618467          -2.566759          -2.703387   \n",
       "16          -2.621594          -2.564277          -2.704593   \n",
       "17          -2.615882          -2.564264          -2.704609   \n",
       "\n",
       "    split7_test_score  split8_test_score  mean_test_score  std_test_score  \\\n",
       "0           -2.955579          -3.066214        -3.039654        0.074086   \n",
       "1           -2.965339          -3.062989        -3.039784        0.075083   \n",
       "2           -2.960127          -3.058830        -3.038344        0.074717   \n",
       "3           -2.960591          -3.058981        -3.036723        0.072245   \n",
       "4           -2.958325          -3.054958        -3.035280        0.071908   \n",
       "5           -2.957496          -3.051253        -3.032621        0.070834   \n",
       "6           -2.496000          -2.628307        -2.590604        0.077535   \n",
       "7           -2.510069          -2.630616        -2.593758        0.076284   \n",
       "8           -2.504623          -2.624704        -2.591885        0.076141   \n",
       "9           -2.507059          -2.626636        -2.590412        0.072857   \n",
       "10          -2.504755          -2.622448        -2.589828        0.073876   \n",
       "11          -2.503121          -2.620467        -2.587767        0.073828   \n",
       "12          -2.492101          -2.623344        -2.585565        0.077798   \n",
       "13          -2.506284          -2.626769        -2.588933        0.077098   \n",
       "14          -2.500631          -2.621125        -2.588035        0.076873   \n",
       "15          -2.503501          -2.623566        -2.586847        0.074037   \n",
       "16          -2.501547          -2.620194        -2.586864        0.075187   \n",
       "17          -2.500147          -2.617290        -2.584999        0.075064   \n",
       "\n",
       "    rank_test_score  \n",
       "0                17  \n",
       "1                18  \n",
       "2                16  \n",
       "3                15  \n",
       "4                14  \n",
       "5                13  \n",
       "6                10  \n",
       "7                12  \n",
       "8                11  \n",
       "9                 9  \n",
       "10                8  \n",
       "11                5  \n",
       "12                2  \n",
       "13                7  \n",
       "14                6  \n",
       "15                3  \n",
       "16                4  \n",
       "17                1  "
      ]
     },
     "execution_count": 53,
     "metadata": {},
     "output_type": "execute_result"
    }
   ],
   "source": [
    "# randomforestregressorGridSearchCV\n",
    "\n",
    "from sklearn.model_selection import GridSearchCV\n",
    "from sklearn.ensemble import RandomForestRegressor\n",
    "from sklearn.model_selection import RepeatedStratifiedKFold\n",
    "from sklearn.metrics import make_scorer\n",
    "rskfold = RepeatedStratifiedKFold(n_splits=3, n_repeats=3, random_state=42)\n",
    "\n",
    "param = {'n_estimators':[500,600,700,800,900,1000],\n",
    "         'max_features':[13], \n",
    "        'max_depth': [10,20,30]}\n",
    "\n",
    "r_reg = RandomForestRegressor(random_state =42)\n",
    "search = GridSearchCV(r_reg,param, cv = rskfold,\n",
    "                     scoring ='neg_mean_absolute_error',verbose = True)\n",
    "                      #scoring =make_scorer(rmsle, greater_is_better=False))\n",
    "                      #'mean_squared_error'\n",
    "#'neg_mean_squared_error'\n",
    "#.ravel\n",
    "search.fit(train_x,train_y)\n",
    "search.best_params_\n",
    "pd.DataFrame(search.cv_results_)"
   ]
  },
  {
   "cell_type": "code",
   "execution_count": 8,
   "metadata": {},
   "outputs": [
    {
     "data": {
      "text/plain": [
       "RandomForestRegressor(bootstrap=True, criterion='mse', max_depth=30,\n",
       "                      max_features=13, max_leaf_nodes=None,\n",
       "                      min_impurity_decrease=0.0, min_impurity_split=None,\n",
       "                      min_samples_leaf=1, min_samples_split=2,\n",
       "                      min_weight_fraction_leaf=0.0, n_estimators=1000,\n",
       "                      n_jobs=None, oob_score=False, random_state=42,\n",
       "                      verbose=True, warm_start=False)"
      ]
     },
     "execution_count": 8,
     "metadata": {},
     "output_type": "execute_result"
    }
   ],
   "source": [
    "#randomforest regressor\n",
    "\n",
    "from sklearn.model_selection import KFold\n",
    "from sklearn.model_selection import cross_val_score\n",
    "from sklearn.ensemble import RandomForestRegressor\n",
    "\n",
    "k_fold = KFold(n_splits=5, shuffle=True, random_state=42)\n",
    "r_reg = RandomForestRegressor(max_features = 13,\n",
    "                              n_estimators =1000,\n",
    "                              max_depth=30,\n",
    "                              criterion = 'mse',\n",
    "                              random_state =42,verbose=True)\n",
    "r_reg\n",
    "\n"
   ]
  },
  {
   "cell_type": "code",
   "execution_count": 9,
   "metadata": {},
   "outputs": [
    {
     "ename": "AttributeError",
     "evalue": "'RandomForestRegressor' object has no attribute 'evals_result'",
     "output_type": "error",
     "traceback": [
      "\u001b[1;31m---------------------------------------------------------------------------\u001b[0m",
      "\u001b[1;31mAttributeError\u001b[0m                            Traceback (most recent call last)",
      "\u001b[1;32m<ipython-input-9-c59de7f34e57>\u001b[0m in \u001b[0;36m<module>\u001b[1;34m\u001b[0m\n\u001b[1;32m----> 1\u001b[1;33m \u001b[0mr_reg\u001b[0m\u001b[1;33m.\u001b[0m\u001b[0mevals_result\u001b[0m\u001b[1;33m(\u001b[0m\u001b[1;33m)\u001b[0m\u001b[1;33m\u001b[0m\u001b[1;33m\u001b[0m\u001b[0m\n\u001b[0m",
      "\u001b[1;31mAttributeError\u001b[0m: 'RandomForestRegressor' object has no attribute 'evals_result'"
     ]
    }
   ],
   "source": []
  },
  {
   "cell_type": "code",
   "execution_count": 10,
   "metadata": {},
   "outputs": [
    {
     "data": {
      "text/plain": [
       "make_scorer(rmsle)"
      ]
     },
     "execution_count": 10,
     "metadata": {},
     "output_type": "execute_result"
    }
   ],
   "source": [
    "from sklearn.metrics import make_scorer\n",
    "\n",
    "def rmsle(predicted_values, actual_values, convert_Exp = True):\n",
    "    # 넘파이로 배열 형태로 바꿔준다.\n",
    "    predicted_values = np.array(predicted_values)\n",
    "    actual_values = np.array(actual_values)\n",
    "\n",
    "    # 예측값과 실제 값에 1을 더하고 로그를 씌워준다.\n",
    "    log_predict = np.log(predicted_values + 1)\n",
    "    log_actual = np.log(actual_values + 1)\n",
    "\n",
    "    # 위에서 계산한 예측값에서 실제값을 빼주고 제곱을 해준다.\n",
    "    difference = log_predict - log_actual\n",
    "    # difference = (log_predict - log_actual) ** 2\n",
    "    difference = np.square(difference)\n",
    "\n",
    "    # 평균을 낸다.\n",
    "    mean_difference = difference.mean()\n",
    "\n",
    "    # 다시 루트를 씌운다.\n",
    "    score = np.sqrt(mean_difference)\n",
    "\n",
    "    return score\n",
    "\n",
    "rmsle_scorer = make_scorer(rmsle)\n",
    "rmsle_scorer"
   ]
  },
  {
   "cell_type": "code",
   "execution_count": null,
   "metadata": {},
   "outputs": [],
   "source": [
    "from numpy import loadtxt\n",
    "from xgboost import XGBClassifier\n",
    "from sklearn.model_selection import train_test_split\n",
    "from sklearn.metrics import accuracy_score\n",
    "from matplotlib import pyplot\n",
    "# Author: Peter Prettenhofer <peter.prettenhofer@gmail.com>\n",
    "#\n",
    "# License: BSD 3 clause\n",
    "\n",
    "import numpy as np\n",
    "import matplotlib.pyplot as plt\n",
    "\n",
    "from sklearn import ensemble\n",
    "from sklearn import datasets\n",
    "from sklearn.utils import shuffle\n",
    "from sklearn.metrics import mean_squared_error\n",
    "\n",
    "# #############################################################################\n",
    "# Fit regression model\n",
    "\"\"\"\"\"\"\n",
    "eval_s = [(train_x,train_y),(val_x,val_y)]\n",
    "params = {'n_estimators':70,\n",
    "        'max_depth':9,\n",
    "        'learning_rate': 0.07,\n",
    "      'subsample' : 0.7,\n",
    "      'colsample_bytree': 0.8,\n",
    "      'colsample_bylevel': 0.5,\n",
    "      'min_child_weight':4,\n",
    "      'nthread':4,\n",
    "      'objective':'reg:linear',\n",
    "      'silent':1,\n",
    "      'seed':37}\n",
    "#clf = ensemble.GradientBoostingRegressor(**params)\n",
    "xgb_clf = xgb.XGBRegressor(**params)\n",
    "xgb_clf.fit(train_x,train_y,eval_metric=['rmse','mae'],eval_set=eval_s,verbose=True)\n",
    "\n",
    "mse = mean_squared_error(val_y, xgb_clf.predict(val_x))\n",
    "print(\"MSE: %.4f\" % mse)\n",
    "#print(xgb_clf.evals_result)\n",
    "# make predictions for test data\n",
    "y_pred = xgb_clf.predict(test_x)\n",
    "predictions = [round(value) for value in y_pred]\n",
    "\n",
    "# evaluate predictions\n",
    "accuracy = accuracy_score(test_y, predictions)\n",
    "print(\"Accuracy: %.2f%%\" % (accuracy * 100.0))\n",
    "# retrieve performance metrics\n",
    "results = xgb_clf.evals_result()\n",
    "epochs = len(results['validation_0']['rmse'])\n",
    "x_axis = range(0, epochs)\n",
    "\n",
    "# plot log loss\n",
    "fig, ax = pyplot.subplots()\n",
    "ax.plot(x_axis, results['validation_0']['rmse'], label='Train')\n",
    "ax.plot(x_axis, results['validation_1']['rmse'], label='Test')\n",
    "ax.legend()\n",
    "pyplot.ylabel('Log Loss')\n",
    "pyplot.title('XGBoost Log Loss')\n",
    "pyplot.show()\n",
    "\n",
    "# plot classification error\n",
    "fig, ax = pyplot.subplots()\n",
    "ax.plot(x_axis, results['validation_0']['mae'], label='Train')\n",
    "ax.plot(x_axis, results['validation_1']['mae'], label='Test')\n",
    "ax.legend()\n",
    "pyplot.ylabel('Classification Error')\n",
    "pyplot.title('XGBoost Classification Error')\n",
    "pyplot.show()"
   ]
  },
  {
   "cell_type": "code",
   "execution_count": 62,
   "metadata": {},
   "outputs": [
    {
     "name": "stderr",
     "output_type": "stream",
     "text": [
      "[Parallel(n_jobs=1)]: Using backend SequentialBackend with 1 concurrent workers.\n",
      "[Parallel(n_jobs=1)]: Done 500 out of 500 | elapsed:   23.1s finished\n",
      "[Parallel(n_jobs=1)]: Using backend SequentialBackend with 1 concurrent workers.\n",
      "[Parallel(n_jobs=1)]: Done 500 out of 500 | elapsed:    0.1s finished\n",
      "[Parallel(n_jobs=1)]: Using backend SequentialBackend with 1 concurrent workers.\n",
      "[Parallel(n_jobs=1)]: Done 500 out of 500 | elapsed:   22.6s finished\n",
      "[Parallel(n_jobs=1)]: Using backend SequentialBackend with 1 concurrent workers.\n",
      "[Parallel(n_jobs=1)]: Done 500 out of 500 | elapsed:    0.1s finished\n",
      "[Parallel(n_jobs=1)]: Using backend SequentialBackend with 1 concurrent workers.\n",
      "[Parallel(n_jobs=1)]: Done 500 out of 500 | elapsed:   21.6s finished\n",
      "[Parallel(n_jobs=1)]: Using backend SequentialBackend with 1 concurrent workers.\n",
      "[Parallel(n_jobs=1)]: Done 500 out of 500 | elapsed:    0.1s finished\n",
      "[Parallel(n_jobs=1)]: Using backend SequentialBackend with 1 concurrent workers.\n",
      "[Parallel(n_jobs=1)]: Done 500 out of 500 | elapsed:   24.2s finished\n",
      "[Parallel(n_jobs=1)]: Using backend SequentialBackend with 1 concurrent workers.\n",
      "[Parallel(n_jobs=1)]: Done 500 out of 500 | elapsed:    0.2s finished\n",
      "[Parallel(n_jobs=1)]: Using backend SequentialBackend with 1 concurrent workers.\n",
      "[Parallel(n_jobs=1)]: Done 500 out of 500 | elapsed:   23.6s finished\n",
      "[Parallel(n_jobs=1)]: Using backend SequentialBackend with 1 concurrent workers.\n",
      "[Parallel(n_jobs=1)]: Done 500 out of 500 | elapsed:    0.1s finished\n"
     ]
    }
   ],
   "source": [
    "from sklearn.metrics import make_scorer, mean_squared_error\n",
    "#np.mean(cross_val_score(r_reg, train_x, train_y, cv=5, scoring=rmsle_scorer))\n",
    "scorer = make_scorer(mean_squared_error, False)\n",
    "cv_score = np.sqrt(-cross_val_score(r_reg, train_x, train_y,cv=5,scoring = scorer))\n",
    "\n"
   ]
  },
  {
   "cell_type": "code",
   "execution_count": 63,
   "metadata": {},
   "outputs": [
    {
     "data": {
      "image/png": "[encoded data removed]",
      "text/plain": [
       "<Figure size 720x360 with 1 Axes>"
      ]
     },
     "metadata": {
      "needs_background": "light"
     },
     "output_type": "display_data"
    }
   ],
   "source": [
    "import matplotlib as plt\n",
    "import matplotlib.pyplot as plt\n",
    "\n",
    "plt.figure(figsize =(10,5))\n",
    "plt.bar(range(len(cv_score)),cv_score)\n",
    "plt.title('Cross Validation Score')\n",
    "plt.ylabel('RMSE')\n",
    "plt.xlabel('Iteration')\n",
    "\n",
    "plt.plot(range(len(cv_score)+1),[cv_score.mean()] * (len(cv_score) + 1))\n",
    "plt.tight_layout()"
   ]
  },
  {
   "cell_type": "code",
   "execution_count": 21,
   "metadata": {},
   "outputs": [
    {
     "name": "stderr",
     "output_type": "stream",
     "text": [
      "[Parallel(n_jobs=1)]: Using backend SequentialBackend with 1 concurrent workers.\n",
      "[Parallel(n_jobs=1)]: Done 1000 out of 1000 | elapsed:   57.6s finished\n",
      "[Parallel(n_jobs=1)]: Using backend SequentialBackend with 1 concurrent workers.\n",
      "[Parallel(n_jobs=1)]: Done 1000 out of 1000 | elapsed:    0.4s finished\n",
      "[Parallel(n_jobs=1)]: Using backend SequentialBackend with 1 concurrent workers.\n",
      "[Parallel(n_jobs=1)]: Done 1000 out of 1000 | elapsed:   56.1s finished\n",
      "[Parallel(n_jobs=1)]: Using backend SequentialBackend with 1 concurrent workers.\n",
      "[Parallel(n_jobs=1)]: Done 1000 out of 1000 | elapsed:    0.7s finished\n",
      "[Parallel(n_jobs=1)]: Using backend SequentialBackend with 1 concurrent workers.\n",
      "[Parallel(n_jobs=1)]: Done 1000 out of 1000 | elapsed:  1.0min finished\n",
      "[Parallel(n_jobs=1)]: Using backend SequentialBackend with 1 concurrent workers.\n",
      "[Parallel(n_jobs=1)]: Done 1000 out of 1000 | elapsed:    0.5s finished\n",
      "[Parallel(n_jobs=1)]: Using backend SequentialBackend with 1 concurrent workers.\n",
      "[Parallel(n_jobs=1)]: Done 1000 out of 1000 | elapsed:   57.8s finished\n",
      "[Parallel(n_jobs=1)]: Using backend SequentialBackend with 1 concurrent workers.\n",
      "[Parallel(n_jobs=1)]: Done 1000 out of 1000 | elapsed:    0.6s finished\n",
      "[Parallel(n_jobs=1)]: Using backend SequentialBackend with 1 concurrent workers.\n",
      "[Parallel(n_jobs=1)]: Done 1000 out of 1000 | elapsed:   58.5s finished\n",
      "[Parallel(n_jobs=1)]: Using backend SequentialBackend with 1 concurrent workers.\n"
     ]
    },
    {
     "name": "stdout",
     "output_type": "stream",
     "text": [
      "Wall time: 5min\n",
      "Score= 0.43378\n"
     ]
    },
    {
     "name": "stderr",
     "output_type": "stream",
     "text": [
      "[Parallel(n_jobs=1)]: Done 1000 out of 1000 | elapsed:    0.4s finished\n"
     ]
    }
   ],
   "source": [
    "# crossvalidation 5번 scoring = rmsle_scorer rmsle 사용\n",
    "%time score = np.mean(cross_val_score(r_reg, train_x, train_y, cv=5, scoring=rmsle_scorer))\n",
    "score = score.mean()\n",
    "print(\"Score= {0:.5f}\".format(score))"
   ]
  },
  {
   "cell_type": "code",
   "execution_count": 11,
   "metadata": {},
   "outputs": [
    {
     "name": "stderr",
     "output_type": "stream",
     "text": [
      "[Parallel(n_jobs=1)]: Using backend SequentialBackend with 1 concurrent workers.\n",
      "[Parallel(n_jobs=1)]: Done 1000 out of 1000 | elapsed:    6.3s finished\n"
     ]
    },
    {
     "data": {
      "text/plain": [
       "RandomForestRegressor(bootstrap=True, criterion='mse', max_depth=30,\n",
       "                      max_features=13, max_leaf_nodes=None,\n",
       "                      min_impurity_decrease=0.0, min_impurity_split=None,\n",
       "                      min_samples_leaf=1, min_samples_split=2,\n",
       "                      min_weight_fraction_leaf=0.0, n_estimators=1000,\n",
       "                      n_jobs=None, oob_score=False, random_state=42,\n",
       "                      verbose=True, warm_start=False)"
      ]
     },
     "execution_count": 11,
     "metadata": {},
     "output_type": "execute_result"
    }
   ],
   "source": [
    "# train data fit\n",
    "r_reg.fit(train_x,train_y)"
   ]
  },
  {
   "cell_type": "code",
   "execution_count": 15,
   "metadata": {},
   "outputs": [
    {
     "name": "stderr",
     "output_type": "stream",
     "text": [
      "[Parallel(n_jobs=1)]: Using backend SequentialBackend with 1 concurrent workers.\n",
      "[Parallel(n_jobs=1)]: Done 1000 out of 1000 | elapsed:    5.6s finished\n",
      "[Parallel(n_jobs=1)]: Using backend SequentialBackend with 1 concurrent workers.\n",
      "[Parallel(n_jobs=1)]: Done 1000 out of 1000 | elapsed:    0.2s finished\n",
      "[Parallel(n_jobs=1)]: Using backend SequentialBackend with 1 concurrent workers.\n",
      "[Parallel(n_jobs=1)]: Done 1000 out of 1000 | elapsed:    0.0s finished\n"
     ]
    },
    {
     "name": "stdout",
     "output_type": "stream",
     "text": [
      "Iteration: 0 Train mse: 1.0706968843163018 Test mse: 40.92386599124087\n"
     ]
    },
    {
     "name": "stderr",
     "output_type": "stream",
     "text": [
      "[Parallel(n_jobs=1)]: Using backend SequentialBackend with 1 concurrent workers.\n",
      "[Parallel(n_jobs=1)]: Done 1000 out of 1000 | elapsed:    5.7s finished\n",
      "[Parallel(n_jobs=1)]: Using backend SequentialBackend with 1 concurrent workers.\n",
      "[Parallel(n_jobs=1)]: Done 1000 out of 1000 | elapsed:    0.2s finished\n",
      "[Parallel(n_jobs=1)]: Using backend SequentialBackend with 1 concurrent workers.\n",
      "[Parallel(n_jobs=1)]: Done 1000 out of 1000 | elapsed:    0.0s finished\n"
     ]
    },
    {
     "name": "stdout",
     "output_type": "stream",
     "text": [
      "Iteration: 1 Train mse: 1.0706968843163018 Test mse: 40.92386599124087\n"
     ]
    },
    {
     "name": "stderr",
     "output_type": "stream",
     "text": [
      "[Parallel(n_jobs=1)]: Using backend SequentialBackend with 1 concurrent workers.\n",
      "[Parallel(n_jobs=1)]: Done 1000 out of 1000 | elapsed:    5.9s finished\n",
      "[Parallel(n_jobs=1)]: Using backend SequentialBackend with 1 concurrent workers.\n",
      "[Parallel(n_jobs=1)]: Done 1000 out of 1000 | elapsed:    0.2s finished\n",
      "[Parallel(n_jobs=1)]: Using backend SequentialBackend with 1 concurrent workers.\n",
      "[Parallel(n_jobs=1)]: Done 1000 out of 1000 | elapsed:    0.0s finished\n"
     ]
    },
    {
     "name": "stdout",
     "output_type": "stream",
     "text": [
      "Iteration: 2 Train mse: 1.0706968843163018 Test mse: 40.92386599124087\n"
     ]
    },
    {
     "name": "stderr",
     "output_type": "stream",
     "text": [
      "[Parallel(n_jobs=1)]: Using backend SequentialBackend with 1 concurrent workers.\n",
      "[Parallel(n_jobs=1)]: Done 1000 out of 1000 | elapsed:    5.7s finished\n",
      "[Parallel(n_jobs=1)]: Using backend SequentialBackend with 1 concurrent workers.\n",
      "[Parallel(n_jobs=1)]: Done 1000 out of 1000 | elapsed:    0.2s finished\n",
      "[Parallel(n_jobs=1)]: Using backend SequentialBackend with 1 concurrent workers.\n",
      "[Parallel(n_jobs=1)]: Done 1000 out of 1000 | elapsed:    0.0s finished\n"
     ]
    },
    {
     "name": "stdout",
     "output_type": "stream",
     "text": [
      "Iteration: 3 Train mse: 1.0706968843163018 Test mse: 40.92386599124087\n"
     ]
    },
    {
     "name": "stderr",
     "output_type": "stream",
     "text": [
      "[Parallel(n_jobs=1)]: Using backend SequentialBackend with 1 concurrent workers.\n",
      "[Parallel(n_jobs=1)]: Done 1000 out of 1000 | elapsed:    5.9s finished\n",
      "[Parallel(n_jobs=1)]: Using backend SequentialBackend with 1 concurrent workers.\n",
      "[Parallel(n_jobs=1)]: Done 1000 out of 1000 | elapsed:    0.2s finished\n",
      "[Parallel(n_jobs=1)]: Using backend SequentialBackend with 1 concurrent workers.\n",
      "[Parallel(n_jobs=1)]: Done 1000 out of 1000 | elapsed:    0.0s finished\n"
     ]
    },
    {
     "name": "stdout",
     "output_type": "stream",
     "text": [
      "Iteration: 4 Train mse: 1.0706968843163018 Test mse: 40.92386599124087\n"
     ]
    },
    {
     "name": "stderr",
     "output_type": "stream",
     "text": [
      "[Parallel(n_jobs=1)]: Using backend SequentialBackend with 1 concurrent workers.\n",
      "[Parallel(n_jobs=1)]: Done 1000 out of 1000 | elapsed:    5.6s finished\n",
      "[Parallel(n_jobs=1)]: Using backend SequentialBackend with 1 concurrent workers.\n",
      "[Parallel(n_jobs=1)]: Done 1000 out of 1000 | elapsed:    0.2s finished\n",
      "[Parallel(n_jobs=1)]: Using backend SequentialBackend with 1 concurrent workers.\n",
      "[Parallel(n_jobs=1)]: Done 1000 out of 1000 | elapsed:    0.0s finished\n"
     ]
    },
    {
     "name": "stdout",
     "output_type": "stream",
     "text": [
      "Iteration: 5 Train mse: 1.0706968843163018 Test mse: 40.92386599124087\n"
     ]
    },
    {
     "name": "stderr",
     "output_type": "stream",
     "text": [
      "[Parallel(n_jobs=1)]: Using backend SequentialBackend with 1 concurrent workers.\n",
      "[Parallel(n_jobs=1)]: Done 1000 out of 1000 | elapsed:    5.6s finished\n",
      "[Parallel(n_jobs=1)]: Using backend SequentialBackend with 1 concurrent workers.\n",
      "[Parallel(n_jobs=1)]: Done 1000 out of 1000 | elapsed:    0.2s finished\n",
      "[Parallel(n_jobs=1)]: Using backend SequentialBackend with 1 concurrent workers.\n",
      "[Parallel(n_jobs=1)]: Done 1000 out of 1000 | elapsed:    0.0s finished\n"
     ]
    },
    {
     "name": "stdout",
     "output_type": "stream",
     "text": [
      "Iteration: 6 Train mse: 1.0706968843163018 Test mse: 40.92386599124087\n"
     ]
    },
    {
     "name": "stderr",
     "output_type": "stream",
     "text": [
      "[Parallel(n_jobs=1)]: Using backend SequentialBackend with 1 concurrent workers.\n",
      "[Parallel(n_jobs=1)]: Done 1000 out of 1000 | elapsed:    6.1s finished\n",
      "[Parallel(n_jobs=1)]: Using backend SequentialBackend with 1 concurrent workers.\n",
      "[Parallel(n_jobs=1)]: Done 1000 out of 1000 | elapsed:    0.2s finished\n",
      "[Parallel(n_jobs=1)]: Using backend SequentialBackend with 1 concurrent workers.\n",
      "[Parallel(n_jobs=1)]: Done 1000 out of 1000 | elapsed:    0.0s finished\n"
     ]
    },
    {
     "name": "stdout",
     "output_type": "stream",
     "text": [
      "Iteration: 7 Train mse: 1.0706968843163018 Test mse: 40.92386599124087\n"
     ]
    },
    {
     "name": "stderr",
     "output_type": "stream",
     "text": [
      "[Parallel(n_jobs=1)]: Using backend SequentialBackend with 1 concurrent workers.\n",
      "[Parallel(n_jobs=1)]: Done 1000 out of 1000 | elapsed:    5.7s finished\n",
      "[Parallel(n_jobs=1)]: Using backend SequentialBackend with 1 concurrent workers.\n",
      "[Parallel(n_jobs=1)]: Done 1000 out of 1000 | elapsed:    0.2s finished\n",
      "[Parallel(n_jobs=1)]: Using backend SequentialBackend with 1 concurrent workers.\n",
      "[Parallel(n_jobs=1)]: Done 1000 out of 1000 | elapsed:    0.0s finished\n"
     ]
    },
    {
     "name": "stdout",
     "output_type": "stream",
     "text": [
      "Iteration: 8 Train mse: 1.0706968843163018 Test mse: 40.92386599124087\n"
     ]
    },
    {
     "name": "stderr",
     "output_type": "stream",
     "text": [
      "[Parallel(n_jobs=1)]: Using backend SequentialBackend with 1 concurrent workers.\n",
      "[Parallel(n_jobs=1)]: Done 1000 out of 1000 | elapsed:    5.8s finished\n",
      "[Parallel(n_jobs=1)]: Using backend SequentialBackend with 1 concurrent workers.\n",
      "[Parallel(n_jobs=1)]: Done 1000 out of 1000 | elapsed:    0.2s finished\n",
      "[Parallel(n_jobs=1)]: Using backend SequentialBackend with 1 concurrent workers.\n",
      "[Parallel(n_jobs=1)]: Done 1000 out of 1000 | elapsed:    0.0s finished\n"
     ]
    },
    {
     "name": "stdout",
     "output_type": "stream",
     "text": [
      "Iteration: 9 Train mse: 1.0706968843163018 Test mse: 40.92386599124087\n"
     ]
    },
    {
     "name": "stderr",
     "output_type": "stream",
     "text": [
      "[Parallel(n_jobs=1)]: Using backend SequentialBackend with 1 concurrent workers.\n",
      "[Parallel(n_jobs=1)]: Done 1000 out of 1000 | elapsed:    5.6s finished\n",
      "[Parallel(n_jobs=1)]: Using backend SequentialBackend with 1 concurrent workers.\n",
      "[Parallel(n_jobs=1)]: Done 1000 out of 1000 | elapsed:    0.2s finished\n",
      "[Parallel(n_jobs=1)]: Using backend SequentialBackend with 1 concurrent workers.\n",
      "[Parallel(n_jobs=1)]: Done 1000 out of 1000 | elapsed:    0.0s finished\n"
     ]
    },
    {
     "name": "stdout",
     "output_type": "stream",
     "text": [
      "Iteration: 10 Train mse: 1.0706968843163018 Test mse: 40.92386599124087\n"
     ]
    },
    {
     "name": "stderr",
     "output_type": "stream",
     "text": [
      "[Parallel(n_jobs=1)]: Using backend SequentialBackend with 1 concurrent workers.\n",
      "[Parallel(n_jobs=1)]: Done 1000 out of 1000 | elapsed:    5.7s finished\n",
      "[Parallel(n_jobs=1)]: Using backend SequentialBackend with 1 concurrent workers.\n",
      "[Parallel(n_jobs=1)]: Done 1000 out of 1000 | elapsed:    0.2s finished\n",
      "[Parallel(n_jobs=1)]: Using backend SequentialBackend with 1 concurrent workers.\n",
      "[Parallel(n_jobs=1)]: Done 1000 out of 1000 | elapsed:    0.0s finished\n"
     ]
    },
    {
     "name": "stdout",
     "output_type": "stream",
     "text": [
      "Iteration: 11 Train mse: 1.0706968843163018 Test mse: 40.92386599124087\n"
     ]
    },
    {
     "name": "stderr",
     "output_type": "stream",
     "text": [
      "[Parallel(n_jobs=1)]: Using backend SequentialBackend with 1 concurrent workers.\n",
      "[Parallel(n_jobs=1)]: Done 1000 out of 1000 | elapsed:    5.8s finished\n",
      "[Parallel(n_jobs=1)]: Using backend SequentialBackend with 1 concurrent workers.\n",
      "[Parallel(n_jobs=1)]: Done 1000 out of 1000 | elapsed:    0.2s finished\n",
      "[Parallel(n_jobs=1)]: Using backend SequentialBackend with 1 concurrent workers.\n",
      "[Parallel(n_jobs=1)]: Done 1000 out of 1000 | elapsed:    0.0s finished\n"
     ]
    },
    {
     "name": "stdout",
     "output_type": "stream",
     "text": [
      "Iteration: 12 Train mse: 1.0706968843163018 Test mse: 40.92386599124087\n"
     ]
    },
    {
     "name": "stderr",
     "output_type": "stream",
     "text": [
      "[Parallel(n_jobs=1)]: Using backend SequentialBackend with 1 concurrent workers.\n",
      "[Parallel(n_jobs=1)]: Done 1000 out of 1000 | elapsed:    5.6s finished\n",
      "[Parallel(n_jobs=1)]: Using backend SequentialBackend with 1 concurrent workers.\n",
      "[Parallel(n_jobs=1)]: Done 1000 out of 1000 | elapsed:    0.2s finished\n",
      "[Parallel(n_jobs=1)]: Using backend SequentialBackend with 1 concurrent workers.\n",
      "[Parallel(n_jobs=1)]: Done 1000 out of 1000 | elapsed:    0.0s finished\n"
     ]
    },
    {
     "name": "stdout",
     "output_type": "stream",
     "text": [
      "Iteration: 13 Train mse: 1.0706968843163018 Test mse: 40.92386599124087\n"
     ]
    },
    {
     "name": "stderr",
     "output_type": "stream",
     "text": [
      "[Parallel(n_jobs=1)]: Using backend SequentialBackend with 1 concurrent workers.\n",
      "[Parallel(n_jobs=1)]: Done 1000 out of 1000 | elapsed:    5.8s finished\n",
      "[Parallel(n_jobs=1)]: Using backend SequentialBackend with 1 concurrent workers.\n",
      "[Parallel(n_jobs=1)]: Done 1000 out of 1000 | elapsed:    0.2s finished\n",
      "[Parallel(n_jobs=1)]: Using backend SequentialBackend with 1 concurrent workers.\n",
      "[Parallel(n_jobs=1)]: Done 1000 out of 1000 | elapsed:    0.0s finished\n"
     ]
    },
    {
     "name": "stdout",
     "output_type": "stream",
     "text": [
      "Iteration: 14 Train mse: 1.0706968843163018 Test mse: 40.92386599124087\n"
     ]
    },
    {
     "name": "stderr",
     "output_type": "stream",
     "text": [
      "[Parallel(n_jobs=1)]: Using backend SequentialBackend with 1 concurrent workers.\n",
      "[Parallel(n_jobs=1)]: Done 1000 out of 1000 | elapsed:    5.7s finished\n",
      "[Parallel(n_jobs=1)]: Using backend SequentialBackend with 1 concurrent workers.\n",
      "[Parallel(n_jobs=1)]: Done 1000 out of 1000 | elapsed:    0.2s finished\n",
      "[Parallel(n_jobs=1)]: Using backend SequentialBackend with 1 concurrent workers.\n",
      "[Parallel(n_jobs=1)]: Done 1000 out of 1000 | elapsed:    0.0s finished\n"
     ]
    },
    {
     "name": "stdout",
     "output_type": "stream",
     "text": [
      "Iteration: 15 Train mse: 1.0706968843163018 Test mse: 40.92386599124087\n"
     ]
    },
    {
     "name": "stderr",
     "output_type": "stream",
     "text": [
      "[Parallel(n_jobs=1)]: Using backend SequentialBackend with 1 concurrent workers.\n",
      "[Parallel(n_jobs=1)]: Done 1000 out of 1000 | elapsed:    5.7s finished\n",
      "[Parallel(n_jobs=1)]: Using backend SequentialBackend with 1 concurrent workers.\n",
      "[Parallel(n_jobs=1)]: Done 1000 out of 1000 | elapsed:    0.2s finished\n",
      "[Parallel(n_jobs=1)]: Using backend SequentialBackend with 1 concurrent workers.\n",
      "[Parallel(n_jobs=1)]: Done 1000 out of 1000 | elapsed:    0.0s finished\n"
     ]
    },
    {
     "name": "stdout",
     "output_type": "stream",
     "text": [
      "Iteration: 16 Train mse: 1.0706968843163018 Test mse: 40.92386599124087\n"
     ]
    },
    {
     "name": "stderr",
     "output_type": "stream",
     "text": [
      "[Parallel(n_jobs=1)]: Using backend SequentialBackend with 1 concurrent workers.\n",
      "[Parallel(n_jobs=1)]: Done 1000 out of 1000 | elapsed:    5.6s finished\n",
      "[Parallel(n_jobs=1)]: Using backend SequentialBackend with 1 concurrent workers.\n",
      "[Parallel(n_jobs=1)]: Done 1000 out of 1000 | elapsed:    0.2s finished\n",
      "[Parallel(n_jobs=1)]: Using backend SequentialBackend with 1 concurrent workers.\n",
      "[Parallel(n_jobs=1)]: Done 1000 out of 1000 | elapsed:    0.0s finished\n"
     ]
    },
    {
     "name": "stdout",
     "output_type": "stream",
     "text": [
      "Iteration: 17 Train mse: 1.0706968843163018 Test mse: 40.92386599124087\n"
     ]
    },
    {
     "name": "stderr",
     "output_type": "stream",
     "text": [
      "[Parallel(n_jobs=1)]: Using backend SequentialBackend with 1 concurrent workers.\n",
      "[Parallel(n_jobs=1)]: Done 1000 out of 1000 | elapsed:    5.6s finished\n",
      "[Parallel(n_jobs=1)]: Using backend SequentialBackend with 1 concurrent workers.\n",
      "[Parallel(n_jobs=1)]: Done 1000 out of 1000 | elapsed:    0.2s finished\n",
      "[Parallel(n_jobs=1)]: Using backend SequentialBackend with 1 concurrent workers.\n",
      "[Parallel(n_jobs=1)]: Done 1000 out of 1000 | elapsed:    0.0s finished\n"
     ]
    },
    {
     "name": "stdout",
     "output_type": "stream",
     "text": [
      "Iteration: 18 Train mse: 1.0706968843163018 Test mse: 40.92386599124087\n"
     ]
    },
    {
     "name": "stderr",
     "output_type": "stream",
     "text": [
      "[Parallel(n_jobs=1)]: Using backend SequentialBackend with 1 concurrent workers.\n",
      "[Parallel(n_jobs=1)]: Done 1000 out of 1000 | elapsed:    6.2s finished\n",
      "[Parallel(n_jobs=1)]: Using backend SequentialBackend with 1 concurrent workers.\n",
      "[Parallel(n_jobs=1)]: Done 1000 out of 1000 | elapsed:    0.2s finished\n",
      "[Parallel(n_jobs=1)]: Using backend SequentialBackend with 1 concurrent workers.\n",
      "[Parallel(n_jobs=1)]: Done 1000 out of 1000 | elapsed:    0.0s finished\n"
     ]
    },
    {
     "name": "stdout",
     "output_type": "stream",
     "text": [
      "Iteration: 19 Train mse: 1.0706968843163018 Test mse: 40.92386599124087\n"
     ]
    },
    {
     "name": "stderr",
     "output_type": "stream",
     "text": [
      "[Parallel(n_jobs=1)]: Using backend SequentialBackend with 1 concurrent workers.\n",
      "[Parallel(n_jobs=1)]: Done 1000 out of 1000 | elapsed:    5.7s finished\n",
      "[Parallel(n_jobs=1)]: Using backend SequentialBackend with 1 concurrent workers.\n",
      "[Parallel(n_jobs=1)]: Done 1000 out of 1000 | elapsed:    0.2s finished\n",
      "[Parallel(n_jobs=1)]: Using backend SequentialBackend with 1 concurrent workers.\n",
      "[Parallel(n_jobs=1)]: Done 1000 out of 1000 | elapsed:    0.0s finished\n"
     ]
    },
    {
     "name": "stdout",
     "output_type": "stream",
     "text": [
      "Iteration: 20 Train mse: 1.0706968843163018 Test mse: 40.92386599124087\n"
     ]
    },
    {
     "name": "stderr",
     "output_type": "stream",
     "text": [
      "[Parallel(n_jobs=1)]: Using backend SequentialBackend with 1 concurrent workers.\n",
      "[Parallel(n_jobs=1)]: Done 1000 out of 1000 | elapsed:    5.8s finished\n",
      "[Parallel(n_jobs=1)]: Using backend SequentialBackend with 1 concurrent workers.\n",
      "[Parallel(n_jobs=1)]: Done 1000 out of 1000 | elapsed:    0.2s finished\n",
      "[Parallel(n_jobs=1)]: Using backend SequentialBackend with 1 concurrent workers.\n",
      "[Parallel(n_jobs=1)]: Done 1000 out of 1000 | elapsed:    0.0s finished\n"
     ]
    },
    {
     "name": "stdout",
     "output_type": "stream",
     "text": [
      "Iteration: 21 Train mse: 1.0706968843163018 Test mse: 40.92386599124087\n"
     ]
    },
    {
     "name": "stderr",
     "output_type": "stream",
     "text": [
      "[Parallel(n_jobs=1)]: Using backend SequentialBackend with 1 concurrent workers.\n",
      "[Parallel(n_jobs=1)]: Done 1000 out of 1000 | elapsed:    5.6s finished\n",
      "[Parallel(n_jobs=1)]: Using backend SequentialBackend with 1 concurrent workers.\n",
      "[Parallel(n_jobs=1)]: Done 1000 out of 1000 | elapsed:    0.2s finished\n",
      "[Parallel(n_jobs=1)]: Using backend SequentialBackend with 1 concurrent workers.\n",
      "[Parallel(n_jobs=1)]: Done 1000 out of 1000 | elapsed:    0.0s finished\n"
     ]
    },
    {
     "name": "stdout",
     "output_type": "stream",
     "text": [
      "Iteration: 22 Train mse: 1.0706968843163018 Test mse: 40.92386599124087\n"
     ]
    },
    {
     "name": "stderr",
     "output_type": "stream",
     "text": [
      "[Parallel(n_jobs=1)]: Using backend SequentialBackend with 1 concurrent workers.\n",
      "[Parallel(n_jobs=1)]: Done 1000 out of 1000 | elapsed:    5.7s finished\n",
      "[Parallel(n_jobs=1)]: Using backend SequentialBackend with 1 concurrent workers.\n",
      "[Parallel(n_jobs=1)]: Done 1000 out of 1000 | elapsed:    0.2s finished\n",
      "[Parallel(n_jobs=1)]: Using backend SequentialBackend with 1 concurrent workers.\n",
      "[Parallel(n_jobs=1)]: Done 1000 out of 1000 | elapsed:    0.0s finished\n"
     ]
    },
    {
     "name": "stdout",
     "output_type": "stream",
     "text": [
      "Iteration: 23 Train mse: 1.0706968843163018 Test mse: 40.92386599124087\n"
     ]
    },
    {
     "name": "stderr",
     "output_type": "stream",
     "text": [
      "[Parallel(n_jobs=1)]: Using backend SequentialBackend with 1 concurrent workers.\n",
      "[Parallel(n_jobs=1)]: Done 1000 out of 1000 | elapsed:    5.9s finished\n",
      "[Parallel(n_jobs=1)]: Using backend SequentialBackend with 1 concurrent workers.\n",
      "[Parallel(n_jobs=1)]: Done 1000 out of 1000 | elapsed:    0.2s finished\n",
      "[Parallel(n_jobs=1)]: Using backend SequentialBackend with 1 concurrent workers.\n",
      "[Parallel(n_jobs=1)]: Done 1000 out of 1000 | elapsed:    0.0s finished\n"
     ]
    },
    {
     "name": "stdout",
     "output_type": "stream",
     "text": [
      "Iteration: 24 Train mse: 1.0706968843163018 Test mse: 40.92386599124087\n"
     ]
    },
    {
     "name": "stderr",
     "output_type": "stream",
     "text": [
      "[Parallel(n_jobs=1)]: Using backend SequentialBackend with 1 concurrent workers.\n",
      "[Parallel(n_jobs=1)]: Done 1000 out of 1000 | elapsed:    5.7s finished\n",
      "[Parallel(n_jobs=1)]: Using backend SequentialBackend with 1 concurrent workers.\n",
      "[Parallel(n_jobs=1)]: Done 1000 out of 1000 | elapsed:    0.2s finished\n",
      "[Parallel(n_jobs=1)]: Using backend SequentialBackend with 1 concurrent workers.\n",
      "[Parallel(n_jobs=1)]: Done 1000 out of 1000 | elapsed:    0.0s finished\n"
     ]
    },
    {
     "name": "stdout",
     "output_type": "stream",
     "text": [
      "Iteration: 25 Train mse: 1.0706968843163018 Test mse: 40.92386599124087\n"
     ]
    },
    {
     "name": "stderr",
     "output_type": "stream",
     "text": [
      "[Parallel(n_jobs=1)]: Using backend SequentialBackend with 1 concurrent workers.\n",
      "[Parallel(n_jobs=1)]: Done 1000 out of 1000 | elapsed:    5.8s finished\n",
      "[Parallel(n_jobs=1)]: Using backend SequentialBackend with 1 concurrent workers.\n",
      "[Parallel(n_jobs=1)]: Done 1000 out of 1000 | elapsed:    0.2s finished\n",
      "[Parallel(n_jobs=1)]: Using backend SequentialBackend with 1 concurrent workers.\n",
      "[Parallel(n_jobs=1)]: Done 1000 out of 1000 | elapsed:    0.0s finished\n"
     ]
    },
    {
     "name": "stdout",
     "output_type": "stream",
     "text": [
      "Iteration: 26 Train mse: 1.0706968843163018 Test mse: 40.92386599124087\n"
     ]
    },
    {
     "name": "stderr",
     "output_type": "stream",
     "text": [
      "[Parallel(n_jobs=1)]: Using backend SequentialBackend with 1 concurrent workers.\n",
      "[Parallel(n_jobs=1)]: Done 1000 out of 1000 | elapsed:    5.6s finished\n",
      "[Parallel(n_jobs=1)]: Using backend SequentialBackend with 1 concurrent workers.\n",
      "[Parallel(n_jobs=1)]: Done 1000 out of 1000 | elapsed:    0.2s finished\n",
      "[Parallel(n_jobs=1)]: Using backend SequentialBackend with 1 concurrent workers.\n",
      "[Parallel(n_jobs=1)]: Done 1000 out of 1000 | elapsed:    0.0s finished\n"
     ]
    },
    {
     "name": "stdout",
     "output_type": "stream",
     "text": [
      "Iteration: 27 Train mse: 1.0706968843163018 Test mse: 40.92386599124087\n"
     ]
    },
    {
     "name": "stderr",
     "output_type": "stream",
     "text": [
      "[Parallel(n_jobs=1)]: Using backend SequentialBackend with 1 concurrent workers.\n",
      "[Parallel(n_jobs=1)]: Done 1000 out of 1000 | elapsed:    5.6s finished\n",
      "[Parallel(n_jobs=1)]: Using backend SequentialBackend with 1 concurrent workers.\n",
      "[Parallel(n_jobs=1)]: Done 1000 out of 1000 | elapsed:    0.2s finished\n",
      "[Parallel(n_jobs=1)]: Using backend SequentialBackend with 1 concurrent workers.\n",
      "[Parallel(n_jobs=1)]: Done 1000 out of 1000 | elapsed:    0.0s finished\n"
     ]
    },
    {
     "name": "stdout",
     "output_type": "stream",
     "text": [
      "Iteration: 28 Train mse: 1.0706968843163018 Test mse: 40.92386599124087\n"
     ]
    },
    {
     "name": "stderr",
     "output_type": "stream",
     "text": [
      "[Parallel(n_jobs=1)]: Using backend SequentialBackend with 1 concurrent workers.\n",
      "[Parallel(n_jobs=1)]: Done 1000 out of 1000 | elapsed:    5.8s finished\n",
      "[Parallel(n_jobs=1)]: Using backend SequentialBackend with 1 concurrent workers.\n",
      "[Parallel(n_jobs=1)]: Done 1000 out of 1000 | elapsed:    0.2s finished\n",
      "[Parallel(n_jobs=1)]: Using backend SequentialBackend with 1 concurrent workers.\n",
      "[Parallel(n_jobs=1)]: Done 1000 out of 1000 | elapsed:    0.0s finished\n"
     ]
    },
    {
     "name": "stdout",
     "output_type": "stream",
     "text": [
      "Iteration: 29 Train mse: 1.0706968843163018 Test mse: 40.92386599124087\n"
     ]
    },
    {
     "name": "stderr",
     "output_type": "stream",
     "text": [
      "[Parallel(n_jobs=1)]: Using backend SequentialBackend with 1 concurrent workers.\n",
      "[Parallel(n_jobs=1)]: Done 1000 out of 1000 | elapsed:    5.6s finished\n",
      "[Parallel(n_jobs=1)]: Using backend SequentialBackend with 1 concurrent workers.\n",
      "[Parallel(n_jobs=1)]: Done 1000 out of 1000 | elapsed:    0.2s finished\n",
      "[Parallel(n_jobs=1)]: Using backend SequentialBackend with 1 concurrent workers.\n",
      "[Parallel(n_jobs=1)]: Done 1000 out of 1000 | elapsed:    0.0s finished\n"
     ]
    },
    {
     "name": "stdout",
     "output_type": "stream",
     "text": [
      "Iteration: 30 Train mse: 1.0706968843163018 Test mse: 40.92386599124087\n"
     ]
    },
    {
     "name": "stderr",
     "output_type": "stream",
     "text": [
      "[Parallel(n_jobs=1)]: Using backend SequentialBackend with 1 concurrent workers.\n",
      "[Parallel(n_jobs=1)]: Done 1000 out of 1000 | elapsed:    5.7s finished\n",
      "[Parallel(n_jobs=1)]: Using backend SequentialBackend with 1 concurrent workers.\n",
      "[Parallel(n_jobs=1)]: Done 1000 out of 1000 | elapsed:    0.2s finished\n",
      "[Parallel(n_jobs=1)]: Using backend SequentialBackend with 1 concurrent workers.\n",
      "[Parallel(n_jobs=1)]: Done 1000 out of 1000 | elapsed:    0.0s finished\n"
     ]
    },
    {
     "name": "stdout",
     "output_type": "stream",
     "text": [
      "Iteration: 31 Train mse: 1.0706968843163018 Test mse: 40.92386599124087\n"
     ]
    },
    {
     "name": "stderr",
     "output_type": "stream",
     "text": [
      "[Parallel(n_jobs=1)]: Using backend SequentialBackend with 1 concurrent workers.\n",
      "[Parallel(n_jobs=1)]: Done 1000 out of 1000 | elapsed:    5.7s finished\n",
      "[Parallel(n_jobs=1)]: Using backend SequentialBackend with 1 concurrent workers.\n",
      "[Parallel(n_jobs=1)]: Done 1000 out of 1000 | elapsed:    0.2s finished\n",
      "[Parallel(n_jobs=1)]: Using backend SequentialBackend with 1 concurrent workers.\n",
      "[Parallel(n_jobs=1)]: Done 1000 out of 1000 | elapsed:    0.0s finished\n"
     ]
    },
    {
     "name": "stdout",
     "output_type": "stream",
     "text": [
      "Iteration: 32 Train mse: 1.0706968843163018 Test mse: 40.92386599124087\n"
     ]
    },
    {
     "name": "stderr",
     "output_type": "stream",
     "text": [
      "[Parallel(n_jobs=1)]: Using backend SequentialBackend with 1 concurrent workers.\n",
      "[Parallel(n_jobs=1)]: Done 1000 out of 1000 | elapsed:    5.7s finished\n",
      "[Parallel(n_jobs=1)]: Using backend SequentialBackend with 1 concurrent workers.\n",
      "[Parallel(n_jobs=1)]: Done 1000 out of 1000 | elapsed:    0.2s finished\n",
      "[Parallel(n_jobs=1)]: Using backend SequentialBackend with 1 concurrent workers.\n",
      "[Parallel(n_jobs=1)]: Done 1000 out of 1000 | elapsed:    0.0s finished\n"
     ]
    },
    {
     "name": "stdout",
     "output_type": "stream",
     "text": [
      "Iteration: 33 Train mse: 1.0706968843163018 Test mse: 40.92386599124087\n"
     ]
    },
    {
     "name": "stderr",
     "output_type": "stream",
     "text": [
      "[Parallel(n_jobs=1)]: Using backend SequentialBackend with 1 concurrent workers.\n",
      "[Parallel(n_jobs=1)]: Done 1000 out of 1000 | elapsed:    5.6s finished\n",
      "[Parallel(n_jobs=1)]: Using backend SequentialBackend with 1 concurrent workers.\n",
      "[Parallel(n_jobs=1)]: Done 1000 out of 1000 | elapsed:    0.2s finished\n",
      "[Parallel(n_jobs=1)]: Using backend SequentialBackend with 1 concurrent workers.\n",
      "[Parallel(n_jobs=1)]: Done 1000 out of 1000 | elapsed:    0.0s finished\n"
     ]
    },
    {
     "name": "stdout",
     "output_type": "stream",
     "text": [
      "Iteration: 34 Train mse: 1.0706968843163018 Test mse: 40.92386599124087\n"
     ]
    },
    {
     "name": "stderr",
     "output_type": "stream",
     "text": [
      "[Parallel(n_jobs=1)]: Using backend SequentialBackend with 1 concurrent workers.\n",
      "[Parallel(n_jobs=1)]: Done 1000 out of 1000 | elapsed:    5.6s finished\n",
      "[Parallel(n_jobs=1)]: Using backend SequentialBackend with 1 concurrent workers.\n",
      "[Parallel(n_jobs=1)]: Done 1000 out of 1000 | elapsed:    0.2s finished\n",
      "[Parallel(n_jobs=1)]: Using backend SequentialBackend with 1 concurrent workers.\n",
      "[Parallel(n_jobs=1)]: Done 1000 out of 1000 | elapsed:    0.0s finished\n"
     ]
    },
    {
     "name": "stdout",
     "output_type": "stream",
     "text": [
      "Iteration: 35 Train mse: 1.0706968843163018 Test mse: 40.92386599124087\n"
     ]
    },
    {
     "name": "stderr",
     "output_type": "stream",
     "text": [
      "[Parallel(n_jobs=1)]: Using backend SequentialBackend with 1 concurrent workers.\n",
      "[Parallel(n_jobs=1)]: Done 1000 out of 1000 | elapsed:    5.8s finished\n",
      "[Parallel(n_jobs=1)]: Using backend SequentialBackend with 1 concurrent workers.\n",
      "[Parallel(n_jobs=1)]: Done 1000 out of 1000 | elapsed:    0.2s finished\n",
      "[Parallel(n_jobs=1)]: Using backend SequentialBackend with 1 concurrent workers.\n",
      "[Parallel(n_jobs=1)]: Done 1000 out of 1000 | elapsed:    0.0s finished\n"
     ]
    },
    {
     "name": "stdout",
     "output_type": "stream",
     "text": [
      "Iteration: 36 Train mse: 1.0706968843163018 Test mse: 40.92386599124087\n"
     ]
    },
    {
     "name": "stderr",
     "output_type": "stream",
     "text": [
      "[Parallel(n_jobs=1)]: Using backend SequentialBackend with 1 concurrent workers.\n",
      "[Parallel(n_jobs=1)]: Done 1000 out of 1000 | elapsed:    5.6s finished\n",
      "[Parallel(n_jobs=1)]: Using backend SequentialBackend with 1 concurrent workers.\n",
      "[Parallel(n_jobs=1)]: Done 1000 out of 1000 | elapsed:    0.2s finished\n",
      "[Parallel(n_jobs=1)]: Using backend SequentialBackend with 1 concurrent workers.\n",
      "[Parallel(n_jobs=1)]: Done 1000 out of 1000 | elapsed:    0.0s finished\n"
     ]
    },
    {
     "name": "stdout",
     "output_type": "stream",
     "text": [
      "Iteration: 37 Train mse: 1.0706968843163018 Test mse: 40.92386599124087\n"
     ]
    },
    {
     "name": "stderr",
     "output_type": "stream",
     "text": [
      "[Parallel(n_jobs=1)]: Using backend SequentialBackend with 1 concurrent workers.\n",
      "[Parallel(n_jobs=1)]: Done 1000 out of 1000 | elapsed:    5.6s finished\n",
      "[Parallel(n_jobs=1)]: Using backend SequentialBackend with 1 concurrent workers.\n",
      "[Parallel(n_jobs=1)]: Done 1000 out of 1000 | elapsed:    0.2s finished\n",
      "[Parallel(n_jobs=1)]: Using backend SequentialBackend with 1 concurrent workers.\n",
      "[Parallel(n_jobs=1)]: Done 1000 out of 1000 | elapsed:    0.0s finished\n"
     ]
    },
    {
     "name": "stdout",
     "output_type": "stream",
     "text": [
      "Iteration: 38 Train mse: 1.0706968843163018 Test mse: 40.92386599124087\n"
     ]
    },
    {
     "name": "stderr",
     "output_type": "stream",
     "text": [
      "[Parallel(n_jobs=1)]: Using backend SequentialBackend with 1 concurrent workers.\n",
      "[Parallel(n_jobs=1)]: Done 1000 out of 1000 | elapsed:    5.7s finished\n",
      "[Parallel(n_jobs=1)]: Using backend SequentialBackend with 1 concurrent workers.\n",
      "[Parallel(n_jobs=1)]: Done 1000 out of 1000 | elapsed:    0.2s finished\n",
      "[Parallel(n_jobs=1)]: Using backend SequentialBackend with 1 concurrent workers.\n",
      "[Parallel(n_jobs=1)]: Done 1000 out of 1000 | elapsed:    0.0s finished\n"
     ]
    },
    {
     "name": "stdout",
     "output_type": "stream",
     "text": [
      "Iteration: 39 Train mse: 1.0706968843163018 Test mse: 40.92386599124087\n"
     ]
    },
    {
     "name": "stderr",
     "output_type": "stream",
     "text": [
      "[Parallel(n_jobs=1)]: Using backend SequentialBackend with 1 concurrent workers.\n",
      "[Parallel(n_jobs=1)]: Done 1000 out of 1000 | elapsed:    5.6s finished\n",
      "[Parallel(n_jobs=1)]: Using backend SequentialBackend with 1 concurrent workers.\n",
      "[Parallel(n_jobs=1)]: Done 1000 out of 1000 | elapsed:    0.2s finished\n",
      "[Parallel(n_jobs=1)]: Using backend SequentialBackend with 1 concurrent workers.\n",
      "[Parallel(n_jobs=1)]: Done 1000 out of 1000 | elapsed:    0.0s finished\n"
     ]
    },
    {
     "name": "stdout",
     "output_type": "stream",
     "text": [
      "Iteration: 40 Train mse: 1.0706968843163018 Test mse: 40.92386599124087\n"
     ]
    },
    {
     "name": "stderr",
     "output_type": "stream",
     "text": [
      "[Parallel(n_jobs=1)]: Using backend SequentialBackend with 1 concurrent workers.\n",
      "[Parallel(n_jobs=1)]: Done 1000 out of 1000 | elapsed:    5.8s finished\n",
      "[Parallel(n_jobs=1)]: Using backend SequentialBackend with 1 concurrent workers.\n",
      "[Parallel(n_jobs=1)]: Done 1000 out of 1000 | elapsed:    0.2s finished\n",
      "[Parallel(n_jobs=1)]: Using backend SequentialBackend with 1 concurrent workers.\n",
      "[Parallel(n_jobs=1)]: Done 1000 out of 1000 | elapsed:    0.0s finished\n"
     ]
    },
    {
     "name": "stdout",
     "output_type": "stream",
     "text": [
      "Iteration: 41 Train mse: 1.0706968843163018 Test mse: 40.92386599124087\n"
     ]
    },
    {
     "name": "stderr",
     "output_type": "stream",
     "text": [
      "[Parallel(n_jobs=1)]: Using backend SequentialBackend with 1 concurrent workers.\n",
      "[Parallel(n_jobs=1)]: Done 1000 out of 1000 | elapsed:    5.6s finished\n",
      "[Parallel(n_jobs=1)]: Using backend SequentialBackend with 1 concurrent workers.\n",
      "[Parallel(n_jobs=1)]: Done 1000 out of 1000 | elapsed:    0.2s finished\n",
      "[Parallel(n_jobs=1)]: Using backend SequentialBackend with 1 concurrent workers.\n",
      "[Parallel(n_jobs=1)]: Done 1000 out of 1000 | elapsed:    0.0s finished\n"
     ]
    },
    {
     "name": "stdout",
     "output_type": "stream",
     "text": [
      "Iteration: 42 Train mse: 1.0706968843163018 Test mse: 40.92386599124087\n"
     ]
    },
    {
     "name": "stderr",
     "output_type": "stream",
     "text": [
      "[Parallel(n_jobs=1)]: Using backend SequentialBackend with 1 concurrent workers.\n",
      "[Parallel(n_jobs=1)]: Done 1000 out of 1000 | elapsed:    5.8s finished\n",
      "[Parallel(n_jobs=1)]: Using backend SequentialBackend with 1 concurrent workers.\n",
      "[Parallel(n_jobs=1)]: Done 1000 out of 1000 | elapsed:    0.2s finished\n",
      "[Parallel(n_jobs=1)]: Using backend SequentialBackend with 1 concurrent workers.\n",
      "[Parallel(n_jobs=1)]: Done 1000 out of 1000 | elapsed:    0.0s finished\n"
     ]
    },
    {
     "name": "stdout",
     "output_type": "stream",
     "text": [
      "Iteration: 43 Train mse: 1.0706968843163018 Test mse: 40.92386599124087\n"
     ]
    },
    {
     "name": "stderr",
     "output_type": "stream",
     "text": [
      "[Parallel(n_jobs=1)]: Using backend SequentialBackend with 1 concurrent workers.\n",
      "[Parallel(n_jobs=1)]: Done 1000 out of 1000 | elapsed:    5.6s finished\n",
      "[Parallel(n_jobs=1)]: Using backend SequentialBackend with 1 concurrent workers.\n",
      "[Parallel(n_jobs=1)]: Done 1000 out of 1000 | elapsed:    0.2s finished\n",
      "[Parallel(n_jobs=1)]: Using backend SequentialBackend with 1 concurrent workers.\n",
      "[Parallel(n_jobs=1)]: Done 1000 out of 1000 | elapsed:    0.0s finished\n"
     ]
    },
    {
     "name": "stdout",
     "output_type": "stream",
     "text": [
      "Iteration: 44 Train mse: 1.0706968843163018 Test mse: 40.92386599124087\n"
     ]
    },
    {
     "name": "stderr",
     "output_type": "stream",
     "text": [
      "[Parallel(n_jobs=1)]: Using backend SequentialBackend with 1 concurrent workers.\n",
      "[Parallel(n_jobs=1)]: Done 1000 out of 1000 | elapsed:    5.6s finished\n",
      "[Parallel(n_jobs=1)]: Using backend SequentialBackend with 1 concurrent workers.\n",
      "[Parallel(n_jobs=1)]: Done 1000 out of 1000 | elapsed:    0.2s finished\n",
      "[Parallel(n_jobs=1)]: Using backend SequentialBackend with 1 concurrent workers.\n",
      "[Parallel(n_jobs=1)]: Done 1000 out of 1000 | elapsed:    0.0s finished\n"
     ]
    },
    {
     "name": "stdout",
     "output_type": "stream",
     "text": [
      "Iteration: 45 Train mse: 1.0706968843163018 Test mse: 40.92386599124087\n"
     ]
    },
    {
     "name": "stderr",
     "output_type": "stream",
     "text": [
      "[Parallel(n_jobs=1)]: Using backend SequentialBackend with 1 concurrent workers.\n",
      "[Parallel(n_jobs=1)]: Done 1000 out of 1000 | elapsed:    5.8s finished\n",
      "[Parallel(n_jobs=1)]: Using backend SequentialBackend with 1 concurrent workers.\n",
      "[Parallel(n_jobs=1)]: Done 1000 out of 1000 | elapsed:    0.2s finished\n",
      "[Parallel(n_jobs=1)]: Using backend SequentialBackend with 1 concurrent workers.\n",
      "[Parallel(n_jobs=1)]: Done 1000 out of 1000 | elapsed:    0.0s finished\n"
     ]
    },
    {
     "name": "stdout",
     "output_type": "stream",
     "text": [
      "Iteration: 46 Train mse: 1.0706968843163018 Test mse: 40.92386599124087\n"
     ]
    },
    {
     "name": "stderr",
     "output_type": "stream",
     "text": [
      "[Parallel(n_jobs=1)]: Using backend SequentialBackend with 1 concurrent workers.\n",
      "[Parallel(n_jobs=1)]: Done 1000 out of 1000 | elapsed:    5.6s finished\n",
      "[Parallel(n_jobs=1)]: Using backend SequentialBackend with 1 concurrent workers.\n",
      "[Parallel(n_jobs=1)]: Done 1000 out of 1000 | elapsed:    0.2s finished\n",
      "[Parallel(n_jobs=1)]: Using backend SequentialBackend with 1 concurrent workers.\n",
      "[Parallel(n_jobs=1)]: Done 1000 out of 1000 | elapsed:    0.0s finished\n"
     ]
    },
    {
     "name": "stdout",
     "output_type": "stream",
     "text": [
      "Iteration: 47 Train mse: 1.0706968843163018 Test mse: 40.92386599124087\n"
     ]
    },
    {
     "name": "stderr",
     "output_type": "stream",
     "text": [
      "[Parallel(n_jobs=1)]: Using backend SequentialBackend with 1 concurrent workers.\n",
      "[Parallel(n_jobs=1)]: Done 1000 out of 1000 | elapsed:    5.8s finished\n",
      "[Parallel(n_jobs=1)]: Using backend SequentialBackend with 1 concurrent workers.\n",
      "[Parallel(n_jobs=1)]: Done 1000 out of 1000 | elapsed:    0.2s finished\n",
      "[Parallel(n_jobs=1)]: Using backend SequentialBackend with 1 concurrent workers.\n",
      "[Parallel(n_jobs=1)]: Done 1000 out of 1000 | elapsed:    0.0s finished\n"
     ]
    },
    {
     "name": "stdout",
     "output_type": "stream",
     "text": [
      "Iteration: 48 Train mse: 1.0706968843163018 Test mse: 40.92386599124087\n"
     ]
    },
    {
     "name": "stderr",
     "output_type": "stream",
     "text": [
      "[Parallel(n_jobs=1)]: Using backend SequentialBackend with 1 concurrent workers.\n",
      "[Parallel(n_jobs=1)]: Done 1000 out of 1000 | elapsed:    5.6s finished\n",
      "[Parallel(n_jobs=1)]: Using backend SequentialBackend with 1 concurrent workers.\n"
     ]
    },
    {
     "name": "stdout",
     "output_type": "stream",
     "text": [
      "Iteration: 49 Train mse: 1.0706968843163018 Test mse: 40.92386599124087\n"
     ]
    },
    {
     "name": "stderr",
     "output_type": "stream",
     "text": [
      "[Parallel(n_jobs=1)]: Done 1000 out of 1000 | elapsed:    0.2s finished\n",
      "[Parallel(n_jobs=1)]: Using backend SequentialBackend with 1 concurrent workers.\n",
      "[Parallel(n_jobs=1)]: Done 1000 out of 1000 | elapsed:    0.0s finished\n"
     ]
    }
   ],
   "source": [
    "from sklearn.metrics import mean_squared_error\n",
    "\n",
    "#rf = RandomForestRegressor(n_estimators=1)\n",
    "for iter in range(50):\n",
    "    r_reg.fit(train_x, train_y)\n",
    "    y_train_predicted = r_reg.predict(train_x)\n",
    "    y_val_predicted = r_reg.predict(val_x)\n",
    "    mse_train = mean_squared_error(train_y, y_train_predicted)\n",
    "    mse_test = mean_squared_error(val_y, y_val_predicted)\n",
    "    print(\"Iteration: {} Train mse: {} val mse: {}\".format(iter, mse_train, mse_test))\n",
    "    rf.n_estimators += 1"
   ]
  },
  {
   "cell_type": "code",
   "execution_count": 57,
   "metadata": {},
   "outputs": [
    {
     "name": "stderr",
     "output_type": "stream",
     "text": [
      "[Parallel(n_jobs=1)]: Using backend SequentialBackend with 1 concurrent workers.\n",
      "[Parallel(n_jobs=1)]: Done 1000 out of 1000 | elapsed:    0.4s finished\n",
      "[Parallel(n_jobs=1)]: Using backend SequentialBackend with 1 concurrent workers.\n"
     ]
    },
    {
     "name": "stdout",
     "output_type": "stream",
     "text": [
      "TRAINING SET\n",
      "============\n",
      "MAE:                 0.7756005839416058\n",
      "RMSE:                1.1122896237689897\n",
      "RMSLE:               0.08810162277108691\n",
      "r2:                  0.9757736638775829\n",
      "feature_importances: [0.24941098 0.0082618  0.05308244 0.02233183 0.15955005 0.00025899\n",
      " 0.03153047 0.14416259 0.1074109  0.00394324 0.11634141 0.07058049\n",
      " 0.03313481]\n",
      "n_features:          13\n",
      "n_outputs:           1\n",
      "last column (% Iron Concentrate) is the highest feature_importances\n"
     ]
    },
    {
     "name": "stderr",
     "output_type": "stream",
     "text": [
      "[Parallel(n_jobs=1)]: Done 1000 out of 1000 | elapsed:    0.3s finished\n"
     ]
    }
   ],
   "source": [
    "import sklearn.metrics as metrics\n",
    "import math\n",
    "# Show model results of training set\n",
    "train_pred_y = r_reg.predict(train_x)\n",
    "mae = metrics.mean_absolute_error(train_y,train_pred_y)\n",
    "mse = metrics.mean_squared_error(train_y,train_pred_y)\n",
    "#rmsle = rmsle(train_y,train_pred_y)\n",
    "#rmsle_scorer = make_scorer(rmsle)\n",
    "#print(rmsle_scorer)\n",
    "\n",
    "print (\"TRAINING SET\")\n",
    "print (\"============\")\n",
    "print (\"MAE:                \", mae)\n",
    "print (\"RMSE:               \", math.sqrt(mse))\n",
    "print (\"RMSLE:              \", rmsle(train_pred_y,train_y))\n",
    "print (\"r2:                 \", r_reg.score(train_x,train_y))\n",
    "print (\"feature_importances:\",r_reg.feature_importances_)\n",
    "print (\"n_features:         \",r_reg.n_features_)\n",
    "print (\"n_outputs:          \",r_reg.n_outputs_)\n",
    "print (\"last column (% Iron Concentrate) is the highest feature_importances\")"
   ]
  },
  {
   "cell_type": "code",
   "execution_count": 58,
   "metadata": {},
   "outputs": [
    {
     "name": "stderr",
     "output_type": "stream",
     "text": [
      "[Parallel(n_jobs=1)]: Using backend SequentialBackend with 1 concurrent workers.\n",
      "[Parallel(n_jobs=1)]: Done 1000 out of 1000 | elapsed:    0.1s finished\n",
      "[Parallel(n_jobs=1)]: Using backend SequentialBackend with 1 concurrent workers.\n"
     ]
    },
    {
     "name": "stdout",
     "output_type": "stream",
     "text": [
      "Validation SET\n",
      "============\n",
      "MAE:                 0.8651430656934307\n",
      "RMSE:                1.1983323087969253\n",
      "RMSLE:               0.11225308137592666\n",
      "r2:                  0.9757736638775829\n",
      "feature_importances: [0.24941098 0.0082618  0.05308244 0.02233183 0.15955005 0.00025899\n",
      " 0.03153047 0.14416259 0.1074109  0.00394324 0.11634141 0.07058049\n",
      " 0.03313481]\n",
      "n_features:          13\n",
      "n_outputs:           1\n",
      "last column (% Iron Concentrate) is the highest feature_importances\n"
     ]
    },
    {
     "name": "stderr",
     "output_type": "stream",
     "text": [
      "[Parallel(n_jobs=1)]: Done 1000 out of 1000 | elapsed:    0.4s finished\n"
     ]
    }
   ],
   "source": [
    "import sklearn.metrics as metrics\n",
    "import math\n",
    "# Show model results of training set\n",
    "val_pred_y = r_reg.predict(val_x)\n",
    "mae = metrics.mean_absolute_error(val_y,val_pred_y)\n",
    "mse = metrics.mean_squared_error(val_y,val_pred_y)\n",
    "rmsle = rmsle(val_y,val_pred_y)\n",
    "print (\"Validation SET\")\n",
    "print (\"============\")\n",
    "print (\"MAE:                \", mae)\n",
    "print (\"RMSE:               \", math.sqrt(mse))\n",
    "print (\"RMSLE:              \", rmsle)\n",
    "print (\"r2:                 \", r_reg.score(train_x,train_y))\n",
    "print (\"feature_importances:\",r_reg.feature_importances_)\n",
    "print (\"n_features:         \",r_reg.n_features_)\n",
    "print (\"n_outputs:          \",r_reg.n_outputs_)\n",
    "print (\"last column (% Iron Concentrate) is the highest feature_importances\")"
   ]
  },
  {
   "cell_type": "code",
   "execution_count": 13,
   "metadata": {},
   "outputs": [
    {
     "name": "stderr",
     "output_type": "stream",
     "text": [
      "[Parallel(n_jobs=1)]: Using backend SequentialBackend with 1 concurrent workers.\n",
      "[Parallel(n_jobs=1)]: Done 500 out of 500 | elapsed:    1.5s finished\n"
     ]
    },
    {
     "ename": "NameError",
     "evalue": "name 'rf' is not defined",
     "output_type": "error",
     "traceback": [
      "\u001b[1;31m---------------------------------------------------------------------------\u001b[0m",
      "\u001b[1;31mNameError\u001b[0m                                 Traceback (most recent call last)",
      "\u001b[1;32m<ipython-input-13-2863fd6bb311>\u001b[0m in \u001b[0;36m<module>\u001b[1;34m\u001b[0m\n\u001b[0;32m      1\u001b[0m \u001b[1;32mfor\u001b[0m \u001b[0miter\u001b[0m \u001b[1;32min\u001b[0m \u001b[0mrange\u001b[0m\u001b[1;33m(\u001b[0m\u001b[1;36m50\u001b[0m\u001b[1;33m)\u001b[0m\u001b[1;33m:\u001b[0m\u001b[1;33m\u001b[0m\u001b[1;33m\u001b[0m\u001b[0m\n\u001b[0;32m      2\u001b[0m     \u001b[0mr_reg\u001b[0m\u001b[1;33m.\u001b[0m\u001b[0mfit\u001b[0m\u001b[1;33m(\u001b[0m\u001b[0mtrain_x\u001b[0m\u001b[1;33m,\u001b[0m \u001b[0mtrain_y\u001b[0m\u001b[1;33m)\u001b[0m\u001b[1;33m\u001b[0m\u001b[1;33m\u001b[0m\u001b[0m\n\u001b[1;32m----> 3\u001b[1;33m     \u001b[0my_train_predicted\u001b[0m \u001b[1;33m=\u001b[0m \u001b[0mrf\u001b[0m\u001b[1;33m.\u001b[0m\u001b[0mpredict\u001b[0m\u001b[1;33m(\u001b[0m\u001b[0mtrain_x\u001b[0m\u001b[1;33m)\u001b[0m\u001b[1;33m\u001b[0m\u001b[1;33m\u001b[0m\u001b[0m\n\u001b[0m\u001b[0;32m      4\u001b[0m     \u001b[0my_test_predicted\u001b[0m \u001b[1;33m=\u001b[0m \u001b[0mrf\u001b[0m\u001b[1;33m.\u001b[0m\u001b[0mpredict\u001b[0m\u001b[1;33m(\u001b[0m\u001b[0mtest_x\u001b[0m\u001b[1;33m)\u001b[0m\u001b[1;33m\u001b[0m\u001b[1;33m\u001b[0m\u001b[0m\n\u001b[0;32m      5\u001b[0m     \u001b[0mmse_train\u001b[0m \u001b[1;33m=\u001b[0m \u001b[0mmean_squared_error\u001b[0m\u001b[1;33m(\u001b[0m\u001b[0my_train\u001b[0m\u001b[1;33m,\u001b[0m \u001b[0my_train_predicted\u001b[0m\u001b[1;33m)\u001b[0m\u001b[1;33m\u001b[0m\u001b[1;33m\u001b[0m\u001b[0m\n",
      "\u001b[1;31mNameError\u001b[0m: name 'rf' is not defined"
     ]
    }
   ],
   "source": [
    "for iter in range(50):\n",
    "    r_reg.fit(train_x, train_y)\n",
    "    y_train_predicted = rf.predict(train_x)\n",
    "    y_test_predicted = rf.predict(test_x)\n",
    "    mse_train = mean_squared_error(y_train, y_train_predicted)\n",
    "    mse_test = mean_squared_error(y_test, y_test_predicted)\n",
    "    print(\"Iteration: {} Train mse: {} Test mse: {}\".format(iter, mse_train, mse_test))\n",
    "    rf.n_estimators += 1"
   ]
  },
  {
   "cell_type": "code",
   "execution_count": 60,
   "metadata": {},
   "outputs": [
    {
     "data": {
      "text/plain": [
       "[Text(0.5, 1.0, 'val')]"
      ]
     },
     "execution_count": 60,
     "metadata": {},
     "output_type": "execute_result"
    },
    {
     "data": {
      "image/png": "[encoded data removed]",
      "text/plain": [
       "<Figure size 864x360 with 2 Axes>"
      ]
     },
     "metadata": {
      "needs_background": "light"
     },
     "output_type": "display_data"
    }
   ],
   "source": [
    "# 예측한 데이터를 시각화 해본다. \n",
    "import matplotlib.pyplot as plt\n",
    "import seaborn as sns\n",
    "fig,(ax1,ax2)= plt.subplots(ncols=2)\n",
    "fig.set_size_inches(12,5)\n",
    "sns.distplot(train_pred_y,ax=ax1,bins=50)\n",
    "ax1.set(title=\"train\")\n",
    "sns.distplot(val_pred_y ,ax=ax2,bins=50)\n",
    "ax2.set(title=\"val\")\n",
    "#sns.distplot(test_pred_y ,ax=ax3,bins=50)\n",
    "#ax3.set(title=\"test\")"
   ]
  },
  {
   "cell_type": "code",
   "execution_count": null,
   "metadata": {},
   "outputs": [],
   "source": []
  },
  {
   "cell_type": "code",
   "execution_count": 33,
   "metadata": {},
   "outputs": [
    {
     "name": "stdout",
     "output_type": "stream",
     "text": [
      "MSE: 0.3618\n"
     ]
    },
    {
     "ename": "AttributeError",
     "evalue": "'RandomForestRegressor' object has no attribute 'staged_predict'",
     "output_type": "error",
     "traceback": [
      "\u001b[1;31m---------------------------------------------------------------------------\u001b[0m",
      "\u001b[1;31mAttributeError\u001b[0m                            Traceback (most recent call last)",
      "\u001b[1;32m<ipython-input-33-188ba3c60617>\u001b[0m in \u001b[0;36m<module>\u001b[1;34m\u001b[0m\n\u001b[0;32m     34\u001b[0m \u001b[0mtest_score\u001b[0m \u001b[1;33m=\u001b[0m \u001b[0mnp\u001b[0m\u001b[1;33m.\u001b[0m\u001b[0mzeros\u001b[0m\u001b[1;33m(\u001b[0m\u001b[1;33m(\u001b[0m\u001b[0mparams\u001b[0m\u001b[1;33m[\u001b[0m\u001b[1;34m'n_estimators'\u001b[0m\u001b[1;33m]\u001b[0m\u001b[1;33m,\u001b[0m\u001b[1;33m)\u001b[0m\u001b[1;33m,\u001b[0m \u001b[0mdtype\u001b[0m\u001b[1;33m=\u001b[0m\u001b[0mnp\u001b[0m\u001b[1;33m.\u001b[0m\u001b[0mfloat64\u001b[0m\u001b[1;33m)\u001b[0m\u001b[1;33m\u001b[0m\u001b[1;33m\u001b[0m\u001b[0m\n\u001b[0;32m     35\u001b[0m \u001b[1;33m\u001b[0m\u001b[0m\n\u001b[1;32m---> 36\u001b[1;33m \u001b[1;32mfor\u001b[0m \u001b[0mi\u001b[0m\u001b[1;33m,\u001b[0m \u001b[0mpred_y\u001b[0m \u001b[1;32min\u001b[0m \u001b[0menumerate\u001b[0m\u001b[1;33m(\u001b[0m\u001b[0mr_reg\u001b[0m\u001b[1;33m.\u001b[0m\u001b[0mstaged_predict\u001b[0m\u001b[1;33m(\u001b[0m\u001b[0mtest_x\u001b[0m\u001b[1;33m)\u001b[0m\u001b[1;33m)\u001b[0m\u001b[1;33m:\u001b[0m\u001b[1;33m\u001b[0m\u001b[1;33m\u001b[0m\u001b[0m\n\u001b[0m\u001b[0;32m     37\u001b[0m     \u001b[0mtest_score\u001b[0m\u001b[1;33m[\u001b[0m\u001b[0mi\u001b[0m\u001b[1;33m]\u001b[0m \u001b[1;33m=\u001b[0m \u001b[0mr_reg\u001b[0m\u001b[1;33m.\u001b[0m\u001b[0mloss_\u001b[0m\u001b[1;33m(\u001b[0m\u001b[0mtest_y\u001b[0m\u001b[1;33m,\u001b[0m \u001b[0mpred_y\u001b[0m\u001b[1;33m)\u001b[0m\u001b[1;33m\u001b[0m\u001b[1;33m\u001b[0m\u001b[0m\n\u001b[0;32m     38\u001b[0m \u001b[1;33m\u001b[0m\u001b[0m\n",
      "\u001b[1;31mAttributeError\u001b[0m: 'RandomForestRegressor' object has no attribute 'staged_predict'"
     ]
    }
   ],
   "source": [
    "\n",
    "# Author: Peter Prettenhofer <peter.prettenhofer@gmail.com>\n",
    "#\n",
    "# License: BSD 3 clause\n",
    "\n",
    "import numpy as np\n",
    "import matplotlib.pyplot as plt\n",
    "\n",
    "from sklearn import ensemble\n",
    "from sklearn import datasets\n",
    "from sklearn.utils import shuffle\n",
    "from sklearn.metrics import mean_squared_error\n",
    "\n",
    "# #############################################################################\n",
    "# Fit regression model\n",
    "params = {'n_estimators': 500, 'max_depth': 4, 'min_samples_split': 2,\n",
    "          'learning_rate': 0.01, 'loss': 'ls'}\n",
    "params = {'n_estimators': 100, 'max_depth': 15, 'min_samples_split': 2,\n",
    "          'learning_rate': 0.05, 'loss': 'ls','max_features' :11,}\n",
    "params = {'n_estimators': 1000, 'max_depth': 30,\n",
    "          'max_features' :11,}\n",
    "r_reg = RandomForestRegressor(**params)\n",
    "#clf = ensemble.GradientBoostingRegressor(**params)\n",
    "#GradientBoostingRegressor(learning_rate = 0.05, max_depth =15, max_features = 11, min_samples_leaf =17, n_estimators =100  )\n",
    "r_reg.fit(train_x,train_y)\n",
    "#clf.fit(train_x,train_y)\n",
    "\n",
    "mse = mean_squared_error(val_y, r_reg.predict(val_x))\n",
    "print(\"MSE: %.4f\" % mse)\n",
    "\n",
    "# #############################################################################\n",
    "# Plot training deviance\n",
    "\n",
    "# compute test set deviance\n",
    "test_score = np.zeros((params['n_estimators'],), dtype=np.float64)\n",
    "\n",
    "for i, pred_y in enumerate(r_reg.staged_predict(test_x)):\n",
    "    test_score[i] = r_reg.loss_(test_y, pred_y)\n",
    "\n",
    "plt.figure(figsize=(12, 6))\n",
    "plt.subplot(1, 2, 1)\n",
    "plt.title('Deviance')\n",
    "plt.plot(np.arange(params['n_estimators']) + 1, r_reg.train_score_, 'b-',\n",
    "         label='Training Set Deviance')\n",
    "plt.plot(np.arange(params['n_estimators']) + 1, test_score, 'r-',\n",
    "         label='Test Set Deviance')\n",
    "plt.legend(loc='upper right')\n",
    "plt.xlabel('Boosting Iterations')\n",
    "plt.ylabel('Deviance')\n",
    "\n",
    "# #############################################################################\n",
    "# Plot feature importance\n",
    "feature_importance = r_reg.feature_importances_\n",
    "# make importances relative to max importance\n",
    "feature_importance = 100.0 * (feature_importance / feature_importance.max())\n",
    "sorted_idx = np.argsort(feature_importance)\n",
    "pos = np.arange(sorted_idx.shape[0]) + .5\n",
    "plt.subplot(1, 2, 2)\n",
    "plt.barh(pos, feature_importance[sorted_idx], align='center')\n",
    "plt.yticks(pos, data.feature_names[sorted_idx])\n",
    "plt.xlabel('Relative Importance')\n",
    "plt.title('Variable Importance')\n",
    "plt.show()"
   ]
  },
  {
   "cell_type": "code",
   "execution_count": 61,
   "metadata": {},
   "outputs": [
    {
     "name": "stdout",
     "output_type": "stream",
     "text": [
      "2740 , 686\n"
     ]
    },
    {
     "data": {
      "text/plain": [
       "686"
      ]
     },
     "execution_count": 61,
     "metadata": {},
     "output_type": "execute_result"
    }
   ],
   "source": [
    "# train, test set으로 나눈다.\n",
    "import numpy as np\n",
    "train_size = int(len(y)* 0.8)\n",
    "#test_size = len(y)- train_size\n",
    "print(train_size,\",\",test_size)\n",
    "#####################################\n",
    "# train, test 나누기#\n",
    "##########################33\n",
    "#split to train and testing\n",
    "\n",
    "train_x, test_x = np.array(x[0:train_size]),np.array(x[train_size:])\n",
    "#val_x, val_y = np.array(x[train_size:val_size]),np.array(y[train_size:val_size])\n",
    "train_y, test_y = np.array(y[0:train_size]),np.array(y[train_size:])\n",
    "len(test_y)"
   ]
  },
  {
   "cell_type": "code",
   "execution_count": 62,
   "metadata": {},
   "outputs": [
    {
     "name": "stderr",
     "output_type": "stream",
     "text": [
      "[Parallel(n_jobs=1)]: Using backend SequentialBackend with 1 concurrent workers.\n",
      "[Parallel(n_jobs=1)]: Done 1000 out of 1000 | elapsed:    9.1s finished\n"
     ]
    },
    {
     "data": {
      "text/plain": [
       "RandomForestRegressor(bootstrap=True, criterion='mse', max_depth=30,\n",
       "                      max_features=13, max_leaf_nodes=None,\n",
       "                      min_impurity_decrease=0.0, min_impurity_split=None,\n",
       "                      min_samples_leaf=1, min_samples_split=2,\n",
       "                      min_weight_fraction_leaf=0.0, n_estimators=1000,\n",
       "                      n_jobs=None, oob_score=False, random_state=42,\n",
       "                      verbose=True, warm_start=False)"
      ]
     },
     "execution_count": 62,
     "metadata": {},
     "output_type": "execute_result"
    }
   ],
   "source": [
    "# train data fit\n",
    "r_reg.fit(train_x,train_y)"
   ]
  },
  {
   "cell_type": "code",
   "execution_count": null,
   "metadata": {},
   "outputs": [],
   "source": [
    "from sklearn.metrics import make_scorer\n",
    "\n",
    "def rmsle(predicted_values, actual_values, convert_Exp = True):\n",
    "    # 넘파이로 배열 형태로 바꿔준다.\n",
    "    predicted_values = np.array(predicted_values)\n",
    "    actual_values = np.array(actual_values)\n",
    "\n",
    "    # 예측값과 실제 값에 1을 더하고 로그를 씌워준다.\n",
    "    log_predict = np.log(predicted_values + 1)\n",
    "    log_actual = np.log(actual_values + 1)\n",
    "\n",
    "    # 위에서 계산한 예측값에서 실제값을 빼주고 제곱을 해준다.\n",
    "    difference = log_predict - log_actual\n",
    "    # difference = (log_predict - log_actual) ** 2\n",
    "    difference = np.square(difference)\n",
    "\n",
    "    # 평균을 낸다.\n",
    "    mean_difference = difference.mean()\n",
    "\n",
    "    # 다시 루트를 씌운다.\n",
    "    score = np.sqrt(mean_difference)\n",
    "\n",
    "    return score\n",
    "\n",
    "rmsle_scorer = make_scorer(rmsle)\n",
    "rmsle_scorer"
   ]
  },
  {
   "cell_type": "code",
   "execution_count": 66,
   "metadata": {},
   "outputs": [
    {
     "name": "stderr",
     "output_type": "stream",
     "text": [
      "[Parallel(n_jobs=1)]: Using backend SequentialBackend with 1 concurrent workers.\n",
      "[Parallel(n_jobs=1)]: Done 1000 out of 1000 | elapsed:    0.4s finished\n",
      "[Parallel(n_jobs=1)]: Using backend SequentialBackend with 1 concurrent workers.\n"
     ]
    },
    {
     "name": "stdout",
     "output_type": "stream",
     "text": [
      "TRAINING SET\n",
      "============\n",
      "MAE:                 0.7756005839416058\n",
      "RMSE:                1.1122896237689897\n",
      "RMSLE:               0.08810162277108691\n",
      "r2:                  0.9757736638775829\n",
      "feature_importances: [0.24941098 0.0082618  0.05308244 0.02233183 0.15955005 0.00025899\n",
      " 0.03153047 0.14416259 0.1074109  0.00394324 0.11634141 0.07058049\n",
      " 0.03313481]\n",
      "n_features:          13\n",
      "n_outputs:           1\n",
      "last column (% Iron Concentrate) is the highest feature_importances\n"
     ]
    },
    {
     "name": "stderr",
     "output_type": "stream",
     "text": [
      "[Parallel(n_jobs=1)]: Done 1000 out of 1000 | elapsed:    0.3s finished\n"
     ]
    }
   ],
   "source": [
    "# validation 측정 종료 후 8:2로 나뉜다 training 시키고 \n",
    "import sklearn.metrics as metrics\n",
    "import math\n",
    "# Show model results of training set\n",
    "train_pred_y = r_reg.predict(train_x)\n",
    "mae = metrics.mean_absolute_error(train_y,train_pred_y)\n",
    "mse = metrics.mean_squared_error(train_y,train_pred_y)\n",
    "#rmsle = rmsle(train_y,train_pred_y)\n",
    "#rmsle_scorer = make_scorer(rmsle)\n",
    "#print(rmsle_scorer)\n",
    "\n",
    "print (\"TRAINING SET\")\n",
    "print (\"============\")\n",
    "print (\"MAE:                \", mae)\n",
    "print (\"RMSE:               \", math.sqrt(mse))\n",
    "print (\"RMSLE:              \", rmsle(train_pred_y,train_y))\n",
    "print (\"r2:                 \", r_reg.score(train_x,train_y))\n",
    "print (\"feature_importances:\",r_reg.feature_importances_)\n",
    "print (\"n_features:         \",r_reg.n_features_)\n",
    "print (\"n_outputs:          \",r_reg.n_outputs_)\n",
    "print (\"last column (% Iron Concentrate) is the highest feature_importances\")"
   ]
  },
  {
   "cell_type": "code",
   "execution_count": 67,
   "metadata": {},
   "outputs": [
    {
     "name": "stderr",
     "output_type": "stream",
     "text": [
      "[Parallel(n_jobs=1)]: Using backend SequentialBackend with 1 concurrent workers.\n",
      "[Parallel(n_jobs=1)]: Done 1000 out of 1000 | elapsed:    0.0s finished\n",
      "[Parallel(n_jobs=1)]: Using backend SequentialBackend with 1 concurrent workers.\n"
     ]
    },
    {
     "name": "stdout",
     "output_type": "stream",
     "text": [
      "TEST SET\n",
      "============\n",
      "MAE:                 5.106516618075802\n",
      "RMSE:                6.546184147755586\n",
      "RMSLE:                6.546184147755586\n",
      "r2:                  0.9757736638775829\n",
      "RMSLE:               0.5041008234621941\n",
      "feature_importances: [0.24941098 0.0082618  0.05308244 0.02233183 0.15955005 0.00025899\n",
      " 0.03153047 0.14416259 0.1074109  0.00394324 0.11634141 0.07058049\n",
      " 0.03313481]\n",
      "n_features:          13\n",
      "n_outputs:           1\n",
      "last column (% Iron Concentrate) is the highest feature_importances\n"
     ]
    },
    {
     "name": "stderr",
     "output_type": "stream",
     "text": [
      "[Parallel(n_jobs=1)]: Done 1000 out of 1000 | elapsed:    0.3s finished\n"
     ]
    }
   ],
   "source": [
    "# test 데이터 \n",
    "import sklearn.metrics as metrics\n",
    "import math\n",
    "# Show model results of training set\n",
    "test_pred_y = r_reg.predict(test_x)\n",
    "mae = metrics.mean_absolute_error(test_y,test_pred_y)\n",
    "mse = metrics.mean_squared_error(test_y,test_pred_y)\n",
    "rmsle = rmsle(test_pred_y,test_y)\n",
    "print (\"TEST SET\")\n",
    "print (\"============\")\n",
    "print (\"MAE:                \", mae)\n",
    "print (\"RMSE:               \", math.sqrt(mse))\n",
    "print (\"RMSLE:               \", math.sqrt(mse))\n",
    "print (\"r2:                 \", r_reg.score(train_x,train_y))\n",
    "print (\"RMSLE:              \", rmsle)\n",
    "print (\"feature_importances:\",r_reg.feature_importances_)\n",
    "print (\"n_features:         \",r_reg.n_features_)\n",
    "print (\"n_outputs:          \",r_reg.n_outputs_)\n",
    "print (\"last column (% Iron Concentrate) is the highest feature_importances\")"
   ]
  },
  {
   "cell_type": "code",
   "execution_count": 64,
   "metadata": {},
   "outputs": [
    {
     "data": {
      "text/plain": [
       "[Text(0.5, 1.0, 'test')]"
      ]
     },
     "execution_count": 64,
     "metadata": {},
     "output_type": "execute_result"
    },
    {
     "data": {
      "image/png": "[encoded data removed]",
      "text/plain": [
       "<Figure size 864x360 with 2 Axes>"
      ]
     },
     "metadata": {
      "needs_background": "light"
     },
     "output_type": "display_data"
    }
   ],
   "source": [
    "# 예측한 데이터를 시각화 해본다. \n",
    "import matplotlib.pyplot as plt\n",
    "import seaborn as sns\n",
    "fig,(ax1,ax2)= plt.subplots(ncols=2)\n",
    "fig.set_size_inches(12,5)\n",
    "sns.distplot(train_pred_y,ax=ax1,bins=50)\n",
    "ax1.set(title=\"train\")\n",
    "sns.distplot(test_pred_y ,ax=ax2,bins=50)\n",
    "ax2.set(title=\"test\")"
   ]
  }
 ],
 "metadata": {
  "kernelspec": {
   "display_name": "Python 3",
   "language": "python",
   "name": "python3"
  },
  "language_info": {
   "codemirror_mode": {
    "name": "ipython",
    "version": 3
   },
   "file_extension": ".py",
   "mimetype": "text/x-python",
   "name": "python",
   "nbconvert_exporter": "python",
   "pygments_lexer": "ipython3",
   "version": "3.7.1"
  }
 },
 "nbformat": 4,
 "nbformat_minor": 4
}
