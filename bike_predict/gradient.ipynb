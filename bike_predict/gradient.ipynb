{
 "cells": [
  {
   "cell_type": "code",
   "execution_count": 120,
   "metadata": {},
   "outputs": [
    {
     "data": {
      "text/html": [
       "<div>\n",
       "<style scoped>\n",
       "    .dataframe tbody tr th:only-of-type {\n",
       "        vertical-align: middle;\n",
       "    }\n",
       "\n",
       "    .dataframe tbody tr th {\n",
       "        vertical-align: top;\n",
       "    }\n",
       "\n",
       "    .dataframe thead th {\n",
       "        text-align: right;\n",
       "    }\n",
       "</style>\n",
       "<table border=\"1\" class=\"dataframe\">\n",
       "  <thead>\n",
       "    <tr style=\"text-align: right;\">\n",
       "      <th></th>\n",
       "      <th>hour</th>\n",
       "      <th>minutes</th>\n",
       "      <th>count</th>\n",
       "      <th>대여/반납</th>\n",
       "      <th>holiday</th>\n",
       "      <th>weather</th>\n",
       "      <th>Rain</th>\n",
       "      <th>Month</th>\n",
       "      <th>Day</th>\n",
       "      <th>Day_w</th>\n",
       "      <th>Time</th>\n",
       "      <th>AM/PM</th>\n",
       "      <th>humidity</th>\n",
       "      <th>wind</th>\n",
       "      <th>Snow</th>\n",
       "    </tr>\n",
       "  </thead>\n",
       "  <tbody>\n",
       "    <tr>\n",
       "      <th>0</th>\n",
       "      <td>0</td>\n",
       "      <td>0</td>\n",
       "      <td>20.000000</td>\n",
       "      <td>0</td>\n",
       "      <td>2</td>\n",
       "      <td>-3.2</td>\n",
       "      <td>0.0</td>\n",
       "      <td>1</td>\n",
       "      <td>1</td>\n",
       "      <td>1</td>\n",
       "      <td>0:00</td>\n",
       "      <td>1</td>\n",
       "      <td>40.0</td>\n",
       "      <td>0.5</td>\n",
       "      <td>0.0</td>\n",
       "    </tr>\n",
       "    <tr>\n",
       "      <th>1</th>\n",
       "      <td>0</td>\n",
       "      <td>30</td>\n",
       "      <td>20.500000</td>\n",
       "      <td>0</td>\n",
       "      <td>2</td>\n",
       "      <td>-3.2</td>\n",
       "      <td>0.0</td>\n",
       "      <td>1</td>\n",
       "      <td>1</td>\n",
       "      <td>1</td>\n",
       "      <td>0:30</td>\n",
       "      <td>1</td>\n",
       "      <td>40.0</td>\n",
       "      <td>0.5</td>\n",
       "      <td>0.0</td>\n",
       "    </tr>\n",
       "    <tr>\n",
       "      <th>2</th>\n",
       "      <td>1</td>\n",
       "      <td>0</td>\n",
       "      <td>20.000000</td>\n",
       "      <td>1</td>\n",
       "      <td>2</td>\n",
       "      <td>-3.3</td>\n",
       "      <td>0.0</td>\n",
       "      <td>1</td>\n",
       "      <td>1</td>\n",
       "      <td>1</td>\n",
       "      <td>1:00</td>\n",
       "      <td>1</td>\n",
       "      <td>41.0</td>\n",
       "      <td>0.7</td>\n",
       "      <td>0.0</td>\n",
       "    </tr>\n",
       "    <tr>\n",
       "      <th>3</th>\n",
       "      <td>2</td>\n",
       "      <td>0</td>\n",
       "      <td>16.250000</td>\n",
       "      <td>-1</td>\n",
       "      <td>2</td>\n",
       "      <td>-3.7</td>\n",
       "      <td>0.0</td>\n",
       "      <td>1</td>\n",
       "      <td>1</td>\n",
       "      <td>1</td>\n",
       "      <td>2:00</td>\n",
       "      <td>1</td>\n",
       "      <td>42.0</td>\n",
       "      <td>0.9</td>\n",
       "      <td>0.0</td>\n",
       "    </tr>\n",
       "    <tr>\n",
       "      <th>4</th>\n",
       "      <td>2</td>\n",
       "      <td>30</td>\n",
       "      <td>13.833333</td>\n",
       "      <td>-5</td>\n",
       "      <td>2</td>\n",
       "      <td>-3.7</td>\n",
       "      <td>0.0</td>\n",
       "      <td>1</td>\n",
       "      <td>1</td>\n",
       "      <td>1</td>\n",
       "      <td>2:30</td>\n",
       "      <td>1</td>\n",
       "      <td>42.0</td>\n",
       "      <td>0.9</td>\n",
       "      <td>0.0</td>\n",
       "    </tr>\n",
       "  </tbody>\n",
       "</table>\n",
       "</div>"
      ],
      "text/plain": [
       "   hour  minutes      count  대여/반납  holiday  weather  Rain  Month  Day  Day_w  \\\n",
       "0     0        0  20.000000      0        2     -3.2   0.0      1    1      1   \n",
       "1     0       30  20.500000      0        2     -3.2   0.0      1    1      1   \n",
       "2     1        0  20.000000      1        2     -3.3   0.0      1    1      1   \n",
       "3     2        0  16.250000     -1        2     -3.7   0.0      1    1      1   \n",
       "4     2       30  13.833333     -5        2     -3.7   0.0      1    1      1   \n",
       "\n",
       "   Time  AM/PM  humidity  wind  Snow  \n",
       "0  0:00      1      40.0   0.5   0.0  \n",
       "1  0:30      1      40.0   0.5   0.0  \n",
       "2  1:00      1      41.0   0.7   0.0  \n",
       "3  2:00      1      42.0   0.9   0.0  \n",
       "4  2:30      1      42.0   0.9   0.0  "
      ]
     },
     "execution_count": 120,
     "metadata": {},
     "output_type": "execute_result"
    }
   ],
   "source": [
    "# -*- coding: utf-8 -*-\n",
    "# 따릉이 데이터 셋 \n",
    "import pandas as pd\n",
    "import numpy as np\n",
    "import matplotlib as plt\n",
    "\n",
    "data = pd.read_csv(\"C:/Users/GSE/suicide/Bike/Bike_csv/predict_data.csv\")#,encoding='CP949')\n",
    "\n",
    "data =data.fillna(0) # 데이터에 nan 값 전부 0처리 \n",
    "data.head()"
   ]
  },
  {
   "cell_type": "code",
   "execution_count": 121,
   "metadata": {},
   "outputs": [],
   "source": [
    "# 날짜를 인덱스 처리\n",
    "data['Time']\n",
    "data = data.set_index(['Time'])\n",
    "data.index = pd.to_datetime(data.index)"
   ]
  },
  {
   "cell_type": "code",
   "execution_count": 122,
   "metadata": {},
   "outputs": [
    {
     "data": {
      "text/plain": [
       "18.0"
      ]
     },
     "execution_count": 122,
     "metadata": {},
     "output_type": "execute_result"
    }
   ],
   "source": [
    "# x값과 y값 구분\n",
    "import pandas as pd\n",
    "import numpy as np\n",
    "\n",
    "# x: data / y : 결과값\n",
    "\n",
    "x = data.drop([\"count\"], axis=1)\n",
    "y = data[\"count\"].astype(int)\n",
    "#print(x)\n",
    "y.mean()\n",
    "y.median()"
   ]
  },
  {
   "cell_type": "code",
   "execution_count": 123,
   "metadata": {},
   "outputs": [
    {
     "name": "stdout",
     "output_type": "stream",
     "text": [
      "2736 , 3648 , 912\n"
     ]
    }
   ],
   "source": [
    "#train,validation,test set 으로 나눔  \n",
    "\n",
    "import numpy as np\n",
    "train_size = int(len(y)* 0.6)\n",
    "val_size = int(len(y)*0.8)\n",
    "test_size = len(y)- val_size\n",
    "\n",
    "train_x, test_x = np.array(x[0:train_size]),np.array(x[val_size:])\n",
    "val_x, val_y = np.array(x[train_size:val_size]),np.array(y[train_size:val_size])\n",
    "train_y, test_y = np.array(y[0:train_size]),np.array(y[val_size:])\n",
    "print(train_size,\",\",val_size,\",\",test_size)"
   ]
  },
  {
   "cell_type": "code",
   "execution_count": 124,
   "metadata": {},
   "outputs": [],
   "source": [
    "from sklearn.metrics import make_scorer\n",
    "\n",
    "def rmsle(predicted_values, actual_values, convertExp=True):\n",
    "\n",
    "    if convertExp:\n",
    "        predicted_values = np.exp(predicted_values),\n",
    "        actual_values = np.exp(actual_values)\n",
    "\n",
    "    # 넘파이로 배열 형태로 바꿔준다.\n",
    "    predicted_values = np.array(predicted_values)\n",
    "    actual_values = np.array(actual_values)\n",
    "\n",
    "    # 예측값과 실제 값에 1을 더하고 로그를 씌워준다.\n",
    "    log_predict = np.log(predicted_values + 1)\n",
    "    log_actual = np.log(actual_values + 1)\n",
    "\n",
    "    # 위에서 계산한 예측값에서 실제값을 빼주고 제곱을 해준다.\n",
    "    difference = log_predict - log_actual\n",
    "    difference = np.square(difference)\n",
    "\n",
    "    # 평균을 낸다.\n",
    "    mean_difference = difference.mean()\n",
    "\n",
    "    # 다시 루트를 씌운다.\n",
    "    score = np.sqrt(mean_difference)\n",
    "\n",
    "    return score"
   ]
  },
  {
   "cell_type": "code",
   "execution_count": 119,
   "metadata": {},
   "outputs": [
    {
     "data": {
      "text/plain": [
       "{'learning_rate': 0.05,\n",
       " 'max_depth': 20,\n",
       " 'max_features': 1,\n",
       " 'min_samples_leaf': 20,\n",
       " 'min_samples_split': 0.1,\n",
       " 'n_estimators': 150}"
      ]
     },
     "execution_count": 119,
     "metadata": {},
     "output_type": "execute_result"
    }
   ],
   "source": [
    "# gradientBosstingRegressor에 대한 GridSearchCV\n",
    "from sklearn.ensemble import GradientBoostingRegressor\n",
    "from sklearn.model_selection import GridSearchCV\n",
    "gb_params={'n_estimators':[10,50,100,150],#,500,1000],\n",
    "            'learning_rate': [0.05,0.01],#0.01,\n",
    "            'max_depth':[5,10,15,20],\n",
    "            'min_samples_leaf':[5,10,15,20],\n",
    "            'max_features':[1,3,5,7,9,11,13],\n",
    "           'min_samples_split': [0.1]}\n",
    "n_jobs=4 \n",
    "gb = GradientBoostingRegressor()\n",
    "#gb_params={'max_depth':range(1,11,1),'n_estimators':[1,10,100]}\n",
    "grid_gb=GridSearchCV(gb,gb_params,scoring='neg_mean_absolute_error',cv=5)\n",
    "grid_gb.fit(train_x,train_y)\n",
    "grid_gb.best_params_\n",
    "#preds = grid_gb.predict(val_x)\n",
    "#print('RMSLE Value for GradientBoosting {}'.format(rmsle(np.exp(val_y),np.exp(preds),False)))"
   ]
  },
  {
   "cell_type": "code",
   "execution_count": 80,
   "metadata": {},
   "outputs": [
    {
     "data": {
      "text/plain": [
       "GradientBoostingRegressor(alpha=0.9, criterion='friedman_mse', init=None,\n",
       "                          learning_rate=0.05, loss='ls', max_depth=15,\n",
       "                          max_features=11, max_leaf_nodes=None,\n",
       "                          min_impurity_decrease=0.0, min_impurity_split=None,\n",
       "                          min_samples_leaf=17, min_samples_split=2,\n",
       "                          min_weight_fraction_leaf=0.0, n_estimators=50,\n",
       "                          n_iter_no_change=None, presort='auto',\n",
       "                          random_state=None, subsample=1.0, tol=0.0001,\n",
       "                          validation_fraction=0.1, verbose=0, warm_start=False)"
      ]
     },
     "execution_count": 80,
     "metadata": {},
     "output_type": "execute_result"
    }
   ],
   "source": [
    "from sklearn.ensemble import GradientBoostingRegressor\n",
    "\n",
    "gbr = GradientBoostingRegressor(learning_rate = 0.05, max_depth =15, max_features = 11, min_samples_leaf =17, n_estimators =50  )\n",
    "gbr.fit(train_x,train_y)\n",
    "#grid_gb.best_params_\n",
    "#preds = grid_gb.predict(val_x)\n",
    "#print('RMSLE Value for GradientBoosting {}'.format(rmsle(np.exp(val_y),np.exp(preds),False)))"
   ]
  },
  {
   "cell_type": "code",
   "execution_count": 125,
   "metadata": {},
   "outputs": [
    {
     "name": "stdout",
     "output_type": "stream",
     "text": [
      "MSE: 61.8831\n"
     ]
    },
    {
     "name": "stderr",
     "output_type": "stream",
     "text": [
      "C:\\Users\\GSE\\Anaconda3\\lib\\site-packages\\matplotlib\\backends\\backend_agg.py:211: RuntimeWarning: Glyph 45824 missing from current font.\n",
      "  font.set_text(s, 0.0, flags=flags)\n",
      "C:\\Users\\GSE\\Anaconda3\\lib\\site-packages\\matplotlib\\backends\\backend_agg.py:211: RuntimeWarning: Glyph 50668 missing from current font.\n",
      "  font.set_text(s, 0.0, flags=flags)\n",
      "C:\\Users\\GSE\\Anaconda3\\lib\\site-packages\\matplotlib\\backends\\backend_agg.py:211: RuntimeWarning: Glyph 48152 missing from current font.\n",
      "  font.set_text(s, 0.0, flags=flags)\n",
      "C:\\Users\\GSE\\Anaconda3\\lib\\site-packages\\matplotlib\\backends\\backend_agg.py:211: RuntimeWarning: Glyph 45225 missing from current font.\n",
      "  font.set_text(s, 0.0, flags=flags)\n",
      "C:\\Users\\GSE\\Anaconda3\\lib\\site-packages\\matplotlib\\backends\\backend_agg.py:180: RuntimeWarning: Glyph 45824 missing from current font.\n",
      "  font.set_text(s, 0, flags=flags)\n",
      "C:\\Users\\GSE\\Anaconda3\\lib\\site-packages\\matplotlib\\backends\\backend_agg.py:180: RuntimeWarning: Glyph 50668 missing from current font.\n",
      "  font.set_text(s, 0, flags=flags)\n",
      "C:\\Users\\GSE\\Anaconda3\\lib\\site-packages\\matplotlib\\backends\\backend_agg.py:180: RuntimeWarning: Glyph 48152 missing from current font.\n",
      "  font.set_text(s, 0, flags=flags)\n",
      "C:\\Users\\GSE\\Anaconda3\\lib\\site-packages\\matplotlib\\backends\\backend_agg.py:180: RuntimeWarning: Glyph 45225 missing from current font.\n",
      "  font.set_text(s, 0, flags=flags)\n"
     ]
    },
    {
     "data": {
      "image/png": "[encoded data removed]",
      "text/plain": [
       "<Figure size 864x432 with 2 Axes>"
      ]
     },
     "metadata": {
      "needs_background": "light"
     },
     "output_type": "display_data"
    }
   ],
   "source": [
    "\n",
    "# Author: Peter Prettenhofer <peter.prettenhofer@gmail.com>\n",
    "#\n",
    "# License: BSD 3 clause\n",
    "\n",
    "import numpy as np\n",
    "import matplotlib.pyplot as plt\n",
    "\n",
    "from sklearn import ensemble\n",
    "from sklearn import datasets\n",
    "from sklearn.utils import shuffle\n",
    "from sklearn.metrics import mean_squared_error\n",
    "\n",
    "# #############################################################################\n",
    "# Fit regression model\n",
    "params = {'n_estimators': 500, 'max_depth': 4, 'min_samples_split': 2,\n",
    "          'learning_rate': 0.01, 'loss': 'ls'}\n",
    "params = {'n_estimators': 100, 'max_depth': 15, 'min_samples_split': 2,\n",
    "          'learning_rate': 0.05, 'loss': 'ls','max_features' :13,'min_samples_leaf' : 17}\n",
    "\n",
    "params = {'learning_rate': 0.05,'max_depth': 20,'max_features': 1,'min_samples_leaf': 20,'min_samples_split': 0.1,'n_estimators': 150}\n",
    "gbr = ensemble.GradientBoostingRegressor(**params)\n",
    "gbr.fit(train_x,train_y)\n",
    "mse = mean_squared_error(test_y, gbr.predict(test_x))\n",
    "print(\"MSE: %.4f\" % mse)\n",
    "\n",
    "# #############################################################################\n",
    "# Plot training deviance\n",
    "\n",
    "# compute test set deviance\n",
    "test_score = np.zeros((params['n_estimators'],), dtype=np.float64)\n",
    "\n",
    "for i, pred_y in enumerate(gbr.staged_predict(test_x)):\n",
    "    test_score[i] = gbr.loss_(test_y, pred_y)\n",
    "\n",
    "plt.figure(figsize=(12, 6))\n",
    "plt.subplot(1, 2, 1)\n",
    "plt.title('Deviance')\n",
    "plt.plot(np.arange(params['n_estimators']) + 1, gbr.train_score_, 'b-',\n",
    "         label='Training Set Deviance')\n",
    "plt.plot(np.arange(params['n_estimators']) + 1, test_score, 'r-',\n",
    "         label='Test Set Deviance')\n",
    "plt.legend(loc='upper right')\n",
    "plt.xlabel('Boosting Iterations')\n",
    "plt.ylabel('Deviance')\n",
    "\n",
    "# #############################################################################\n",
    "# Plot feature importance\n",
    "feature_importance = gbr.feature_importances_\n",
    "# make importances relative to max importance\n",
    "feature_importance = 100.0 * (feature_importance / feature_importance.max())\n",
    "sorted_idx = np.argsort(feature_importance)\n",
    "pos = np.arange(sorted_idx.shape[0]) + .5\n",
    "plt.subplot(1, 2, 2)\n",
    "plt.barh(pos, feature_importance[sorted_idx], align='center')\n",
    "plt.yticks(pos, data.columns[sorted_idx])\n",
    "plt.xlabel('Relative Importance')\n",
    "plt.title('Variable Importance')\n",
    "plt.show()"
   ]
  },
  {
   "cell_type": "code",
   "execution_count": 126,
   "metadata": {},
   "outputs": [
    {
     "name": "stdout",
     "output_type": "stream",
     "text": [
      "TRAINING SET\n",
      "============\n",
      "MAE:                 3.853841653997526\n",
      "RMSE:                4.733962297130674\n",
      "RMSLE:               4.724542155589132\n",
      "r2:                  0.5613160736265144\n",
      "feature_importances: [0.23800368 0.00133727 0.09949672 0.02212498 0.08294589 0.00101676\n",
      " 0.05982002 0.10798265 0.07651489 0.04265951 0.1589471  0.06217919\n",
      " 0.04697135]\n",
      "n_features:          13\n",
      "last column (% Iron Concentrate) is the highest feature_importances\n"
     ]
    }
   ],
   "source": [
    "import sklearn.metrics as metrics\n",
    "import math\n",
    "# Show model results of training set\n",
    "train_pred_y = gbr.predict(train_x)\n",
    "mae = metrics.mean_absolute_error(train_y,train_pred_y)\n",
    "mse = metrics.mean_squared_error(train_y,train_pred_y)\n",
    "print (\"TRAINING SET\")\n",
    "print (\"============\")\n",
    "print (\"MAE:                \", mae)\n",
    "print (\"RMSE:               \", math.sqrt(mse))\n",
    "print (\"RMSLE:              \", rmsle(train_pred_y,train_y))\n",
    "print (\"r2:                 \", gbr.score(train_x,train_y))\n",
    "print (\"feature_importances:\",gbr.feature_importances_)\n",
    "print (\"n_features:         \",gbr.n_features_)\n",
    "print (\"last column (% Iron Concentrate) is the highest feature_importances\")"
   ]
  },
  {
   "cell_type": "code",
   "execution_count": 127,
   "metadata": {},
   "outputs": [
    {
     "name": "stdout",
     "output_type": "stream",
     "text": [
      "Validation SET\n",
      "============\n",
      "MAE:                 5.589498391046717\n",
      "RMSE:                6.8165611881421055\n",
      "RMSLE:               4.724542155589132\n",
      "r2:                  0.5613160736265144\n",
      "feature_importances: [0.23800368 0.00133727 0.09949672 0.02212498 0.08294589 0.00101676\n",
      " 0.05982002 0.10798265 0.07651489 0.04265951 0.1589471  0.06217919\n",
      " 0.04697135]\n",
      "n_features:          13\n",
      "last column (% Iron Concentrate) is the highest feature_importances\n"
     ]
    }
   ],
   "source": [
    "import sklearn.metrics as metrics\n",
    "import math\n",
    "# Show model results of training set\n",
    "val_pred_y = gbr.predict(val_x)\n",
    "mae = metrics.mean_absolute_error(val_y,val_pred_y)\n",
    "mse = metrics.mean_squared_error(val_y,val_pred_y)\n",
    "print (\"Validation SET\")\n",
    "print (\"============\")\n",
    "print (\"MAE:                \", mae)\n",
    "print (\"RMSE:               \", math.sqrt(mse))\n",
    "print (\"RMSLE:              \", rmsle(train_pred_y,train_y))\n",
    "print (\"r2:                 \", gbr.score(train_x,train_y))\n",
    "print (\"feature_importances:\",gbr.feature_importances_)\n",
    "print (\"n_features:         \",gbr.n_features_)\n",
    "#print (\"n_outputs:          \",gbr.n_outputs_)\n",
    "print (\"last column (% Iron Concentrate) is the highest feature_importances\")"
   ]
  },
  {
   "cell_type": "code",
   "execution_count": 128,
   "metadata": {},
   "outputs": [
    {
     "data": {
      "text/plain": [
       "[Text(0.5, 1.0, 'val')]"
      ]
     },
     "execution_count": 128,
     "metadata": {},
     "output_type": "execute_result"
    },
    {
     "data": {
      "image/png": "[encoded data removed]",
      "text/plain": [
       "<Figure size 864x360 with 2 Axes>"
      ]
     },
     "metadata": {
      "needs_background": "light"
     },
     "output_type": "display_data"
    }
   ],
   "source": [
    "# 예측한 데이터 시각화 \n",
    "import matplotlib.pyplot as plt\n",
    "import seaborn as sns\n",
    "fig,(ax1,ax2)= plt.subplots(ncols=2)\n",
    "fig.set_size_inches(12,5)\n",
    "sns.distplot(train_pred_y,ax=ax1,bins=50)\n",
    "ax1.set(title=\"train\")\n",
    "sns.distplot(val_pred_y ,ax=ax2,bins=50)\n",
    "ax2.set(title=\"val\")\n"
   ]
  },
  {
   "cell_type": "code",
   "execution_count": 129,
   "metadata": {},
   "outputs": [
    {
     "name": "stdout",
     "output_type": "stream",
     "text": [
      "3648 , 912\n"
     ]
    },
    {
     "data": {
      "text/plain": [
       "912"
      ]
     },
     "execution_count": 129,
     "metadata": {},
     "output_type": "execute_result"
    }
   ],
   "source": [
    "# train, test set으로 나눈다.\n",
    "import numpy as np\n",
    "train_size = int(len(y)* 0.8)\n",
    "#test_size = len(y)- train_size\n",
    "print(train_size,\",\",test_size)\n",
    "#####################################\n",
    "# train, test 나누기#\n",
    "##########################33\n",
    "#split to train and testing\n",
    "\n",
    "train_x, test_x = np.array(x[0:train_size]),np.array(x[train_size:])\n",
    "#val_x, val_y = np.array(x[train_size:val_size]),np.array(y[train_size:val_size])\n",
    "train_y, test_y = np.array(y[0:train_size]),np.array(y[train_size:])\n",
    "len(test_y)"
   ]
  },
  {
   "cell_type": "code",
   "execution_count": 130,
   "metadata": {},
   "outputs": [
    {
     "data": {
      "text/plain": [
       "GradientBoostingRegressor(alpha=0.9, criterion='friedman_mse', init=None,\n",
       "                          learning_rate=0.05, loss='ls', max_depth=20,\n",
       "                          max_features=1, max_leaf_nodes=None,\n",
       "                          min_impurity_decrease=0.0, min_impurity_split=None,\n",
       "                          min_samples_leaf=20, min_samples_split=0.1,\n",
       "                          min_weight_fraction_leaf=0.0, n_estimators=150,\n",
       "                          n_iter_no_change=None, presort='auto',\n",
       "                          random_state=None, subsample=1.0, tol=0.0001,\n",
       "                          validation_fraction=0.1, verbose=0, warm_start=False)"
      ]
     },
     "execution_count": 130,
     "metadata": {},
     "output_type": "execute_result"
    }
   ],
   "source": [
    "gbr.fit(train_x,train_y)"
   ]
  },
  {
   "cell_type": "code",
   "execution_count": 131,
   "metadata": {},
   "outputs": [
    {
     "name": "stdout",
     "output_type": "stream",
     "text": [
      "MSE: 50.9077\n"
     ]
    },
    {
     "name": "stderr",
     "output_type": "stream",
     "text": [
      "C:\\Users\\GSE\\Anaconda3\\lib\\site-packages\\matplotlib\\backends\\backend_agg.py:211: RuntimeWarning: Glyph 45824 missing from current font.\n",
      "  font.set_text(s, 0.0, flags=flags)\n",
      "C:\\Users\\GSE\\Anaconda3\\lib\\site-packages\\matplotlib\\backends\\backend_agg.py:211: RuntimeWarning: Glyph 50668 missing from current font.\n",
      "  font.set_text(s, 0.0, flags=flags)\n",
      "C:\\Users\\GSE\\Anaconda3\\lib\\site-packages\\matplotlib\\backends\\backend_agg.py:211: RuntimeWarning: Glyph 48152 missing from current font.\n",
      "  font.set_text(s, 0.0, flags=flags)\n",
      "C:\\Users\\GSE\\Anaconda3\\lib\\site-packages\\matplotlib\\backends\\backend_agg.py:211: RuntimeWarning: Glyph 45225 missing from current font.\n",
      "  font.set_text(s, 0.0, flags=flags)\n",
      "C:\\Users\\GSE\\Anaconda3\\lib\\site-packages\\matplotlib\\backends\\backend_agg.py:180: RuntimeWarning: Glyph 45824 missing from current font.\n",
      "  font.set_text(s, 0, flags=flags)\n",
      "C:\\Users\\GSE\\Anaconda3\\lib\\site-packages\\matplotlib\\backends\\backend_agg.py:180: RuntimeWarning: Glyph 50668 missing from current font.\n",
      "  font.set_text(s, 0, flags=flags)\n",
      "C:\\Users\\GSE\\Anaconda3\\lib\\site-packages\\matplotlib\\backends\\backend_agg.py:180: RuntimeWarning: Glyph 48152 missing from current font.\n",
      "  font.set_text(s, 0, flags=flags)\n",
      "C:\\Users\\GSE\\Anaconda3\\lib\\site-packages\\matplotlib\\backends\\backend_agg.py:180: RuntimeWarning: Glyph 45225 missing from current font.\n",
      "  font.set_text(s, 0, flags=flags)\n"
     ]
    },
    {
     "data": {
      "image/png": "[encoded data removed]",
      "text/plain": [
       "<Figure size 864x432 with 2 Axes>"
      ]
     },
     "metadata": {
      "needs_background": "light"
     },
     "output_type": "display_data"
    }
   ],
   "source": [
    "# overfitting check\n",
    "import numpy as np\n",
    "import matplotlib.pyplot as plt\n",
    "\n",
    "from sklearn import ensemble\n",
    "from sklearn import datasets\n",
    "from sklearn.utils import shuffle\n",
    "from sklearn.metrics import mean_squared_error\n",
    "\"\"\"\n",
    "# #############################################################################\n",
    "# Fit regression model\n",
    "params = {'n_estimators': 500, 'max_depth': 4, 'min_samples_split': 2,\n",
    "          'learning_rate': 0.01, 'loss': 'ls'}\n",
    "params = {'n_estimators': 100, 'max_depth': 15, 'min_samples_split': 2,\n",
    "          'learning_rate': 0.05, 'loss': 'ls','max_features' :11,}\n",
    "\n",
    "clf = ensemble.GradientBoostingRegressor(**params)\n",
    "#GradientBoostingRegressor(learning_rate = 0.05, max_depth =15, max_features = 11, min_samples_leaf =17, n_estimators =100  )\n",
    "clf.fit(train_x,train_y)\n",
    "\"\"\"\n",
    "gbr.fit(train_x,train_y)\n",
    "mse = mean_squared_error(test_y, gbr.predict(test_x))\n",
    "print(\"MSE: %.4f\" % mse)\n",
    "\n",
    "# #############################################################################\n",
    "# Plot training deviance\n",
    "\n",
    "# compute test set deviance\n",
    "test_score = np.zeros((params['n_estimators'],), dtype=np.float64)\n",
    "\n",
    "for i, pred_y in enumerate(gbr.staged_predict(test_x)):\n",
    "    test_score[i] = gbr.loss_(test_y, pred_y)\n",
    "\n",
    "plt.figure(figsize=(12, 6))\n",
    "plt.subplot(1, 2, 1)\n",
    "plt.title('Deviance')\n",
    "plt.plot(np.arange(params['n_estimators']) + 1, gbr.train_score_, 'b-',\n",
    "         label='Training Set Deviance')\n",
    "plt.plot(np.arange(params['n_estimators']) + 1, test_score, 'r-',\n",
    "         label='Test Set Deviance')\n",
    "plt.legend(loc='upper right')\n",
    "plt.xlabel('Boosting Iterations')\n",
    "plt.ylabel('Deviance')\n",
    "\n",
    "# #############################################################################\n",
    "# Plot feature importance\n",
    "feature_importance = gbr.feature_importances_\n",
    "# make importances relative to max importance\n",
    "feature_importance = 100.0 * (feature_importance / feature_importance.max())\n",
    "sorted_idx = np.argsort(feature_importance)\n",
    "pos = np.arange(sorted_idx.shape[0]) + .5\n",
    "plt.subplot(1, 2, 2)\n",
    "plt.barh(pos, feature_importance[sorted_idx], align='center')\n",
    "plt.yticks(pos, data.columns[sorted_idx])\n",
    "plt.xlabel('Relative Importance')\n",
    "plt.title('Variable Importance')\n",
    "plt.show()"
   ]
  },
  {
   "cell_type": "code",
   "execution_count": 132,
   "metadata": {},
   "outputs": [
    {
     "name": "stdout",
     "output_type": "stream",
     "text": [
      "TRAINING SET\n",
      "============\n",
      "MAE:                 3.9714126000956913\n",
      "RMSE:                4.9007633389579315\n",
      "RMSLE:               4.891167339999906\n",
      "r2:                  0.5651195508100443\n",
      "feature_importances: [0.30973704 0.00141299 0.11260476 0.02122329 0.09579285 0.00451146\n",
      " 0.06276411 0.09439218 0.05482899 0.03126646 0.12384823 0.04558728\n",
      " 0.04203036]\n",
      "n_features:          13\n",
      "last column (% Iron Concentrate) is the highest feature_importances\n"
     ]
    }
   ],
   "source": [
    "import sklearn.metrics as metrics\n",
    "import math\n",
    "# Show model results of training set\n",
    "train_pred_y = gbr.predict(train_x)\n",
    "mae = metrics.mean_absolute_error(train_y,train_pred_y)\n",
    "mse = metrics.mean_squared_error(train_y,train_pred_y)\n",
    "print (\"TRAINING SET\")\n",
    "print (\"============\")\n",
    "print (\"MAE:                \", mae)\n",
    "print (\"RMSE:               \", math.sqrt(mse))\n",
    "print (\"RMSLE:              \", rmsle(train_pred_y,train_y))\n",
    "print (\"r2:                 \", gbr.score(train_x,train_y))\n",
    "print (\"feature_importances:\",gbr.feature_importances_)\n",
    "print (\"n_features:         \",gbr.n_features_)\n",
    "print (\"last column (% Iron Concentrate) is the highest feature_importances\")"
   ]
  },
  {
   "cell_type": "code",
   "execution_count": 133,
   "metadata": {},
   "outputs": [
    {
     "name": "stdout",
     "output_type": "stream",
     "text": [
      "Test SET\n",
      "============\n",
      "MAE:                 5.875453354135285\n",
      "RMSE:                7.134959807647619\n",
      "RMSLE:               4.891167339999906\n",
      "r2:                  0.5651195508100443\n",
      "feature_importances: [0.30973704 0.00141299 0.11260476 0.02122329 0.09579285 0.00451146\n",
      " 0.06276411 0.09439218 0.05482899 0.03126646 0.12384823 0.04558728\n",
      " 0.04203036]\n",
      "n_features:          13\n",
      "last column (% Iron Concentrate) is the highest feature_importances\n"
     ]
    }
   ],
   "source": [
    "import sklearn.metrics as metrics\n",
    "import math\n",
    "# Show model results of training set\n",
    "test_pred_y = gbr.predict(test_x)\n",
    "mae = metrics.mean_absolute_error(test_y,test_pred_y)\n",
    "mse = metrics.mean_squared_error(test_y,test_pred_y)\n",
    "print (\"Test SET\")\n",
    "print (\"============\")\n",
    "print (\"MAE:                \", mae)\n",
    "print (\"RMSE:               \", math.sqrt(mse))\n",
    "print (\"RMSLE:              \", rmsle(train_pred_y,train_y))\n",
    "print (\"r2:                 \", gbr.score(train_x,train_y))\n",
    "print (\"feature_importances:\",gbr.feature_importances_)\n",
    "print (\"n_features:         \",gbr.n_features_)\n",
    "#print (\"n_outputs:          \",gbr.n_outputs_)\n",
    "print (\"last column (% Iron Concentrate) is the highest feature_importances\")"
   ]
  },
  {
   "cell_type": "code",
   "execution_count": 134,
   "metadata": {},
   "outputs": [
    {
     "data": {
      "text/plain": [
       "[Text(0.5, 1.0, 'val')]"
      ]
     },
     "execution_count": 134,
     "metadata": {},
     "output_type": "execute_result"
    },
    {
     "data": {
      "image/png": "[encoded data removed]",
      "text/plain": [
       "<Figure size 864x360 with 2 Axes>"
      ]
     },
     "metadata": {
      "needs_background": "light"
     },
     "output_type": "display_data"
    }
   ],
   "source": [
    "# 예측한 데이터 시각화 \n",
    "import matplotlib.pyplot as plt\n",
    "import seaborn as sns\n",
    "fig,(ax1,ax2)= plt.subplots(ncols=2)\n",
    "fig.set_size_inches(12,5)\n",
    "sns.distplot(train_pred_y,ax=ax1,bins=50)\n",
    "ax1.set(title=\"train\")\n",
    "sns.distplot(val_pred_y ,ax=ax2,bins=50)\n",
    "ax2.set(title=\"val\")\n"
   ]
  }
 ],
 "metadata": {
  "kernelspec": {
   "display_name": "Python 3",
   "language": "python",
   "name": "python3"
  },
  "language_info": {
   "codemirror_mode": {
    "name": "ipython",
    "version": 3
   },
   "file_extension": ".py",
   "mimetype": "text/x-python",
   "name": "python",
   "nbconvert_exporter": "python",
   "pygments_lexer": "ipython3",
   "version": "3.7.1"
  }
 },
 "nbformat": 4,
 "nbformat_minor": 4
}
